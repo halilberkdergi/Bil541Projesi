{
 "cells": [
  {
   "cell_type": "code",
   "execution_count": 7,
   "id": "6b065f80",
   "metadata": {},
   "outputs": [],
   "source": [
    "import pandas as pd\n",
    "import numpy as np\n",
    "import seaborn as sns\n",
    "import pingouin as pg\n",
    "import scipy\n",
    "from scipy.stats import chi2\n",
    "from scipy.stats import chi2_contingency\n",
    "from scipy.stats import pearsonr, spearmanr\n",
    "from sklearn.preprocessing import StandardScaler\n",
    "from sklearn.preprocessing import MinMaxScaler\n",
    "from sklearn.model_selection import train_test_split\n",
    "from sklearn.model_selection import GridSearchCV\n",
    "from sklearn.ensemble import RandomForestClassifier\n",
    "from sklearn.linear_model import LogisticRegression\n",
    "from sklearn.neighbors import KNeighborsClassifier\n",
    "from sklearn.svm import SVC\n",
    "from sklearn import tree\n",
    "from sklearn.tree import export_graphviz\n",
    "from sklearn.linear_model import Perceptron\n",
    "from sklearn.neural_network import MLPClassifier\n",
    "from sklearn.metrics import roc_curve,  precision_recall_curve, roc_auc_score, confusion_matrix, accuracy_score, recall_score, precision_score, f1_score,auc, roc_curve, plot_confusion_matrix\n",
    "from category_encoders import BinaryEncoder\n",
    "from IPython.display import Image\n",
    "import pydotplus\n",
    "import matplotlib.pyplot as plt\n",
    "%matplotlib inline\n",
    "color = sns.color_palette()\n",
    "seed = 42\n",
    "import dataframe_image as dfi"
   ]
  },
  {
   "cell_type": "markdown",
   "id": "7a332b42",
   "metadata": {},
   "source": [
    "# Proje Konusu\n",
    "\n",
    "Günümüzde bankaların hangi müşteriye kredi verilip verilmeyeceğine gerektiğine karar vermesi önemli bir konudur. Bu projede, bu konuyla ilgili en iyi tahmin yapan bir model  geliştirilecek. "
   ]
  },
  {
   "cell_type": "markdown",
   "id": "eef8fc10",
   "metadata": {},
   "source": [
    " - Data Analysis\n",
    " - Data Wragling\n",
    " - Model"
   ]
  },
  {
   "cell_type": "code",
   "execution_count": 8,
   "id": "9707ae7a",
   "metadata": {},
   "outputs": [],
   "source": [
    "data = pd.read_csv('lending_club_loan_dataset.csv', low_memory=False)"
   ]
  },
  {
   "cell_type": "code",
   "execution_count": 9,
   "id": "a1af6a01",
   "metadata": {},
   "outputs": [
    {
     "data": {
      "text/html": [
       "<div>\n",
       "<style scoped>\n",
       "    .dataframe tbody tr th:only-of-type {\n",
       "        vertical-align: middle;\n",
       "    }\n",
       "\n",
       "    .dataframe tbody tr th {\n",
       "        vertical-align: top;\n",
       "    }\n",
       "\n",
       "    .dataframe thead th {\n",
       "        text-align: right;\n",
       "    }\n",
       "</style>\n",
       "<table border=\"1\" class=\"dataframe\">\n",
       "  <thead>\n",
       "    <tr style=\"text-align: right;\">\n",
       "      <th></th>\n",
       "      <th>id</th>\n",
       "      <th>grade</th>\n",
       "      <th>annual_inc</th>\n",
       "      <th>short_emp</th>\n",
       "      <th>emp_length_num</th>\n",
       "      <th>home_ownership</th>\n",
       "      <th>dti</th>\n",
       "      <th>purpose</th>\n",
       "      <th>term</th>\n",
       "      <th>last_delinq_none</th>\n",
       "      <th>last_major_derog_none</th>\n",
       "      <th>revol_util</th>\n",
       "      <th>total_rec_late_fee</th>\n",
       "      <th>od_ratio</th>\n",
       "      <th>bad_loan</th>\n",
       "    </tr>\n",
       "  </thead>\n",
       "  <tbody>\n",
       "    <tr>\n",
       "      <th>0</th>\n",
       "      <td>11454641</td>\n",
       "      <td>A</td>\n",
       "      <td>100000.0</td>\n",
       "      <td>1</td>\n",
       "      <td>1</td>\n",
       "      <td>RENT</td>\n",
       "      <td>26.27</td>\n",
       "      <td>credit_card</td>\n",
       "      <td>36 months</td>\n",
       "      <td>1</td>\n",
       "      <td>NaN</td>\n",
       "      <td>43.2</td>\n",
       "      <td>0.0</td>\n",
       "      <td>0.160624</td>\n",
       "      <td>0</td>\n",
       "    </tr>\n",
       "    <tr>\n",
       "      <th>1</th>\n",
       "      <td>9604874</td>\n",
       "      <td>A</td>\n",
       "      <td>83000.0</td>\n",
       "      <td>0</td>\n",
       "      <td>4</td>\n",
       "      <td>OWN</td>\n",
       "      <td>5.39</td>\n",
       "      <td>credit_card</td>\n",
       "      <td>36 months</td>\n",
       "      <td>0</td>\n",
       "      <td>NaN</td>\n",
       "      <td>21.5</td>\n",
       "      <td>0.0</td>\n",
       "      <td>0.810777</td>\n",
       "      <td>0</td>\n",
       "    </tr>\n",
       "    <tr>\n",
       "      <th>2</th>\n",
       "      <td>9684700</td>\n",
       "      <td>D</td>\n",
       "      <td>78000.0</td>\n",
       "      <td>0</td>\n",
       "      <td>11</td>\n",
       "      <td>MORTGAGE</td>\n",
       "      <td>18.45</td>\n",
       "      <td>debt_consolidation</td>\n",
       "      <td>60 months</td>\n",
       "      <td>1</td>\n",
       "      <td>NaN</td>\n",
       "      <td>46.3</td>\n",
       "      <td>0.0</td>\n",
       "      <td>0.035147</td>\n",
       "      <td>1</td>\n",
       "    </tr>\n",
       "    <tr>\n",
       "      <th>3</th>\n",
       "      <td>9695736</td>\n",
       "      <td>D</td>\n",
       "      <td>37536.0</td>\n",
       "      <td>0</td>\n",
       "      <td>6</td>\n",
       "      <td>MORTGAGE</td>\n",
       "      <td>12.28</td>\n",
       "      <td>medical</td>\n",
       "      <td>60 months</td>\n",
       "      <td>0</td>\n",
       "      <td>NaN</td>\n",
       "      <td>10.7</td>\n",
       "      <td>0.0</td>\n",
       "      <td>0.534887</td>\n",
       "      <td>1</td>\n",
       "    </tr>\n",
       "    <tr>\n",
       "      <th>4</th>\n",
       "      <td>9795013</td>\n",
       "      <td>D</td>\n",
       "      <td>65000.0</td>\n",
       "      <td>0</td>\n",
       "      <td>11</td>\n",
       "      <td>MORTGAGE</td>\n",
       "      <td>11.26</td>\n",
       "      <td>debt_consolidation</td>\n",
       "      <td>36 months</td>\n",
       "      <td>0</td>\n",
       "      <td>NaN</td>\n",
       "      <td>15.2</td>\n",
       "      <td>0.0</td>\n",
       "      <td>0.166500</td>\n",
       "      <td>0</td>\n",
       "    </tr>\n",
       "  </tbody>\n",
       "</table>\n",
       "</div>"
      ],
      "text/plain": [
       "         id grade  annual_inc  short_emp  emp_length_num home_ownership  \\\n",
       "0  11454641     A    100000.0          1               1           RENT   \n",
       "1   9604874     A     83000.0          0               4            OWN   \n",
       "2   9684700     D     78000.0          0              11       MORTGAGE   \n",
       "3   9695736     D     37536.0          0               6       MORTGAGE   \n",
       "4   9795013     D     65000.0          0              11       MORTGAGE   \n",
       "\n",
       "     dti             purpose        term  last_delinq_none  \\\n",
       "0  26.27         credit_card   36 months                 1   \n",
       "1   5.39         credit_card   36 months                 0   \n",
       "2  18.45  debt_consolidation   60 months                 1   \n",
       "3  12.28             medical   60 months                 0   \n",
       "4  11.26  debt_consolidation   36 months                 0   \n",
       "\n",
       "   last_major_derog_none  revol_util  total_rec_late_fee  od_ratio  bad_loan  \n",
       "0                    NaN        43.2                 0.0  0.160624         0  \n",
       "1                    NaN        21.5                 0.0  0.810777         0  \n",
       "2                    NaN        46.3                 0.0  0.035147         1  \n",
       "3                    NaN        10.7                 0.0  0.534887         1  \n",
       "4                    NaN        15.2                 0.0  0.166500         0  "
      ]
     },
     "execution_count": 9,
     "metadata": {},
     "output_type": "execute_result"
    }
   ],
   "source": [
    "data.head()"
   ]
  },
  {
   "cell_type": "code",
   "execution_count": 10,
   "id": "68d9e9a2",
   "metadata": {},
   "outputs": [],
   "source": [
    "dfi.export(data.head(), 'veriseti3_head.png')"
   ]
  },
  {
   "cell_type": "markdown",
   "id": "6b9a4cc0",
   "metadata": {},
   "source": [
    "|Column| | Describe | |Type|\n",
    "|---| |---| |---|\n",
    "|id | | Unique ID of the loan application. |\t|int|\n",
    "|grade | | LC assigned loan grade |\t|Char|\n",
    "|annual_inc | | The self-reported annual income provided by the borrower during registration. | |double |\n",
    "|short_emp | | 1 when employed for 1 year or less. | |int|\n",
    "|emp_length_num | | Employment length in years. Possible values are between 0 and 10 where 0 means less than one year and 10 means ten or more years. | |int|\n",
    "|home_ownership\t| | Type of home ownership. |string|\n",
    "|dti( Debt-To-Income Ratio) | | A ratio calculated using the borrower’s total monthly debt payments on the total debt obligations, excluding mortgage and the requested LC loan, divided by the borrower’s self-reported monthly income | |percentenge|\n",
    "|purpose | | A category provided by the borrower for the loan request. | |integer|\n",
    "|term | | The number of payments on the loan. Values are in months and can be either 36 or 60. | |string |\n",
    "|last_delinq_none| | 1 when the borrower had at least one event of delinquency.| |int|\n",
    "|last_major_derog_none| | 1 borrower had at least 90 days of a bad rating.| |int|\n",
    "|revol_util| | Revolving line utilization rate, or the amount of credit the borrower is using relative to all available revolving credit.| | double|\n",
    "|total_rec_late_fee| | Late fees received to date| |int|\n",
    "|od_ratio| | Overdraft ratio| |int|\n",
    "|bad_loan| | 1 when a loan was not paid.| |int|\n"
   ]
  },
  {
   "cell_type": "markdown",
   "id": "8fe8eec9",
   "metadata": {},
   "source": [
    "### 1) DATA ANALYSIS"
   ]
  },
  {
   "cell_type": "code",
   "execution_count": 4,
   "id": "962d0573",
   "metadata": {
    "scrolled": true
   },
   "outputs": [
    {
     "data": {
      "text/html": [
       "<div>\n",
       "<style scoped>\n",
       "    .dataframe tbody tr th:only-of-type {\n",
       "        vertical-align: middle;\n",
       "    }\n",
       "\n",
       "    .dataframe tbody tr th {\n",
       "        vertical-align: top;\n",
       "    }\n",
       "\n",
       "    .dataframe thead th {\n",
       "        text-align: right;\n",
       "    }\n",
       "</style>\n",
       "<table border=\"1\" class=\"dataframe\">\n",
       "  <thead>\n",
       "    <tr style=\"text-align: right;\">\n",
       "      <th></th>\n",
       "      <th>id</th>\n",
       "      <th>annual_inc</th>\n",
       "      <th>short_emp</th>\n",
       "      <th>emp_length_num</th>\n",
       "      <th>dti</th>\n",
       "      <th>last_delinq_none</th>\n",
       "      <th>last_major_derog_none</th>\n",
       "      <th>revol_util</th>\n",
       "      <th>total_rec_late_fee</th>\n",
       "      <th>od_ratio</th>\n",
       "      <th>bad_loan</th>\n",
       "    </tr>\n",
       "  </thead>\n",
       "  <tbody>\n",
       "    <tr>\n",
       "      <th>count</th>\n",
       "      <td>2.000000e+04</td>\n",
       "      <td>20000.000</td>\n",
       "      <td>20000.000</td>\n",
       "      <td>20000.000</td>\n",
       "      <td>19846.000</td>\n",
       "      <td>20000.000</td>\n",
       "      <td>574.000</td>\n",
       "      <td>20000.000</td>\n",
       "      <td>20000.000</td>\n",
       "      <td>20000.000</td>\n",
       "      <td>20000.0</td>\n",
       "    </tr>\n",
       "    <tr>\n",
       "      <th>mean</th>\n",
       "      <td>7.590662e+06</td>\n",
       "      <td>73349.578</td>\n",
       "      <td>0.112</td>\n",
       "      <td>6.821</td>\n",
       "      <td>16.588</td>\n",
       "      <td>0.547</td>\n",
       "      <td>0.760</td>\n",
       "      <td>55.958</td>\n",
       "      <td>0.291</td>\n",
       "      <td>0.504</td>\n",
       "      <td>0.2</td>\n",
       "    </tr>\n",
       "    <tr>\n",
       "      <th>std</th>\n",
       "      <td>1.609593e+06</td>\n",
       "      <td>45198.567</td>\n",
       "      <td>0.316</td>\n",
       "      <td>3.774</td>\n",
       "      <td>7.586</td>\n",
       "      <td>0.498</td>\n",
       "      <td>0.428</td>\n",
       "      <td>42.117</td>\n",
       "      <td>3.109</td>\n",
       "      <td>0.288</td>\n",
       "      <td>0.4</td>\n",
       "    </tr>\n",
       "    <tr>\n",
       "      <th>min</th>\n",
       "      <td>5.860400e+05</td>\n",
       "      <td>8412.000</td>\n",
       "      <td>0.000</td>\n",
       "      <td>0.000</td>\n",
       "      <td>0.000</td>\n",
       "      <td>0.000</td>\n",
       "      <td>0.000</td>\n",
       "      <td>0.000</td>\n",
       "      <td>0.000</td>\n",
       "      <td>0.000</td>\n",
       "      <td>0.0</td>\n",
       "    </tr>\n",
       "    <tr>\n",
       "      <th>25%</th>\n",
       "      <td>6.206283e+06</td>\n",
       "      <td>47000.000</td>\n",
       "      <td>0.000</td>\n",
       "      <td>3.000</td>\n",
       "      <td>10.852</td>\n",
       "      <td>0.000</td>\n",
       "      <td>1.000</td>\n",
       "      <td>38.800</td>\n",
       "      <td>0.000</td>\n",
       "      <td>0.257</td>\n",
       "      <td>0.0</td>\n",
       "    </tr>\n",
       "    <tr>\n",
       "      <th>50%</th>\n",
       "      <td>7.378896e+06</td>\n",
       "      <td>65000.000</td>\n",
       "      <td>0.000</td>\n",
       "      <td>7.000</td>\n",
       "      <td>16.190</td>\n",
       "      <td>1.000</td>\n",
       "      <td>1.000</td>\n",
       "      <td>57.100</td>\n",
       "      <td>0.000</td>\n",
       "      <td>0.507</td>\n",
       "      <td>0.0</td>\n",
       "    </tr>\n",
       "    <tr>\n",
       "      <th>75%</th>\n",
       "      <td>8.766235e+06</td>\n",
       "      <td>88000.000</td>\n",
       "      <td>0.000</td>\n",
       "      <td>11.000</td>\n",
       "      <td>22.060</td>\n",
       "      <td>1.000</td>\n",
       "      <td>1.000</td>\n",
       "      <td>73.900</td>\n",
       "      <td>0.000</td>\n",
       "      <td>0.754</td>\n",
       "      <td>0.0</td>\n",
       "    </tr>\n",
       "    <tr>\n",
       "      <th>max</th>\n",
       "      <td>1.145464e+07</td>\n",
       "      <td>1000000.000</td>\n",
       "      <td>1.000</td>\n",
       "      <td>11.000</td>\n",
       "      <td>34.990</td>\n",
       "      <td>1.000</td>\n",
       "      <td>1.000</td>\n",
       "      <td>5010.000</td>\n",
       "      <td>96.467</td>\n",
       "      <td>1.000</td>\n",
       "      <td>1.0</td>\n",
       "    </tr>\n",
       "  </tbody>\n",
       "</table>\n",
       "</div>"
      ],
      "text/plain": [
       "                 id   annual_inc  short_emp  emp_length_num        dti  \\\n",
       "count  2.000000e+04    20000.000  20000.000       20000.000  19846.000   \n",
       "mean   7.590662e+06    73349.578      0.112           6.821     16.588   \n",
       "std    1.609593e+06    45198.567      0.316           3.774      7.586   \n",
       "min    5.860400e+05     8412.000      0.000           0.000      0.000   \n",
       "25%    6.206283e+06    47000.000      0.000           3.000     10.852   \n",
       "50%    7.378896e+06    65000.000      0.000           7.000     16.190   \n",
       "75%    8.766235e+06    88000.000      0.000          11.000     22.060   \n",
       "max    1.145464e+07  1000000.000      1.000          11.000     34.990   \n",
       "\n",
       "       last_delinq_none  last_major_derog_none  revol_util  \\\n",
       "count         20000.000                574.000   20000.000   \n",
       "mean              0.547                  0.760      55.958   \n",
       "std               0.498                  0.428      42.117   \n",
       "min               0.000                  0.000       0.000   \n",
       "25%               0.000                  1.000      38.800   \n",
       "50%               1.000                  1.000      57.100   \n",
       "75%               1.000                  1.000      73.900   \n",
       "max               1.000                  1.000    5010.000   \n",
       "\n",
       "       total_rec_late_fee   od_ratio  bad_loan  \n",
       "count           20000.000  20000.000   20000.0  \n",
       "mean                0.291      0.504       0.2  \n",
       "std                 3.109      0.288       0.4  \n",
       "min                 0.000      0.000       0.0  \n",
       "25%                 0.000      0.257       0.0  \n",
       "50%                 0.000      0.507       0.0  \n",
       "75%                 0.000      0.754       0.0  \n",
       "max                96.467      1.000       1.0  "
      ]
     },
     "execution_count": 4,
     "metadata": {},
     "output_type": "execute_result"
    }
   ],
   "source": [
    "data.describe().round(3)"
   ]
  },
  {
   "cell_type": "markdown",
   "id": "0ed3979f",
   "metadata": {},
   "source": [
    "The dataset has 20000 observations and 15 variables including the target, divided into 11 numeric and 4 categoric features."
   ]
  },
  {
   "cell_type": "code",
   "execution_count": 5,
   "id": "6f911456",
   "metadata": {},
   "outputs": [
    {
     "name": "stderr",
     "output_type": "stream",
     "text": [
      "<ipython-input-5-c07674af406a>:1: DeprecationWarning: `np.object` is a deprecated alias for the builtin `object`. To silence this warning, use `object` by itself. Doing this will not modify any behavior and is safe. \n",
      "Deprecated in NumPy 1.20; for more details and guidance: https://numpy.org/devdocs/release/1.20.0-notes.html#deprecations\n",
      "  data.describe(include=[np.object])\n"
     ]
    },
    {
     "data": {
      "text/html": [
       "<div>\n",
       "<style scoped>\n",
       "    .dataframe tbody tr th:only-of-type {\n",
       "        vertical-align: middle;\n",
       "    }\n",
       "\n",
       "    .dataframe tbody tr th {\n",
       "        vertical-align: top;\n",
       "    }\n",
       "\n",
       "    .dataframe thead th {\n",
       "        text-align: right;\n",
       "    }\n",
       "</style>\n",
       "<table border=\"1\" class=\"dataframe\">\n",
       "  <thead>\n",
       "    <tr style=\"text-align: right;\">\n",
       "      <th></th>\n",
       "      <th>grade</th>\n",
       "      <th>home_ownership</th>\n",
       "      <th>purpose</th>\n",
       "      <th>term</th>\n",
       "    </tr>\n",
       "  </thead>\n",
       "  <tbody>\n",
       "    <tr>\n",
       "      <th>count</th>\n",
       "      <td>20000</td>\n",
       "      <td>18509</td>\n",
       "      <td>20000</td>\n",
       "      <td>20000</td>\n",
       "    </tr>\n",
       "    <tr>\n",
       "      <th>unique</th>\n",
       "      <td>7</td>\n",
       "      <td>3</td>\n",
       "      <td>12</td>\n",
       "      <td>3</td>\n",
       "    </tr>\n",
       "    <tr>\n",
       "      <th>top</th>\n",
       "      <td>B</td>\n",
       "      <td>MORTGAGE</td>\n",
       "      <td>debt_consolidation</td>\n",
       "      <td>36 months</td>\n",
       "    </tr>\n",
       "    <tr>\n",
       "      <th>freq</th>\n",
       "      <td>6042</td>\n",
       "      <td>9844</td>\n",
       "      <td>12337</td>\n",
       "      <td>14969</td>\n",
       "    </tr>\n",
       "  </tbody>\n",
       "</table>\n",
       "</div>"
      ],
      "text/plain": [
       "        grade home_ownership             purpose        term\n",
       "count   20000          18509               20000       20000\n",
       "unique      7              3                  12           3\n",
       "top         B       MORTGAGE  debt_consolidation   36 months\n",
       "freq     6042           9844               12337       14969"
      ]
     },
     "execution_count": 5,
     "metadata": {},
     "output_type": "execute_result"
    }
   ],
   "source": [
    "data.describe(include=[np.object])"
   ]
  },
  {
   "cell_type": "code",
   "execution_count": 6,
   "id": "b21d7306",
   "metadata": {},
   "outputs": [
    {
     "data": {
      "text/html": [
       "<div>\n",
       "<style scoped>\n",
       "    .dataframe tbody tr th:only-of-type {\n",
       "        vertical-align: middle;\n",
       "    }\n",
       "\n",
       "    .dataframe tbody tr th {\n",
       "        vertical-align: top;\n",
       "    }\n",
       "\n",
       "    .dataframe thead th {\n",
       "        text-align: right;\n",
       "    }\n",
       "</style>\n",
       "<table border=\"1\" class=\"dataframe\">\n",
       "  <thead>\n",
       "    <tr style=\"text-align: right;\">\n",
       "      <th></th>\n",
       "      <th>absolute</th>\n",
       "      <th>percent</th>\n",
       "    </tr>\n",
       "  </thead>\n",
       "  <tbody>\n",
       "    <tr>\n",
       "      <th>0</th>\n",
       "      <td>16000</td>\n",
       "      <td>80.0</td>\n",
       "    </tr>\n",
       "    <tr>\n",
       "      <th>1</th>\n",
       "      <td>4000</td>\n",
       "      <td>20.0</td>\n",
       "    </tr>\n",
       "  </tbody>\n",
       "</table>\n",
       "</div>"
      ],
      "text/plain": [
       "   absolute  percent\n",
       "0     16000     80.0\n",
       "1      4000     20.0"
      ]
     },
     "execution_count": 6,
     "metadata": {},
     "output_type": "execute_result"
    }
   ],
   "source": [
    "loan = data.bad_loan.value_counts().to_frame().rename(columns={\"bad_loan\":\"absolute\" })\n",
    "\n",
    "loan[\"percent\"] = loan.apply(lambda x: x/x.sum()*100).round(2)\n",
    "\n",
    "loan"
   ]
  },
  {
   "cell_type": "code",
   "execution_count": 7,
   "id": "71257bfd",
   "metadata": {},
   "outputs": [
    {
     "data": {
      "image/png": "[encoded data removed]",
      "text/plain": [
       "<Figure size 1008x432 with 1 Axes>"
      ]
     },
     "metadata": {},
     "output_type": "display_data"
    }
   ],
   "source": [
    "#pie chart\n",
    "data.bad_loan.value_counts().plot(kind = 'pie', subplots=True,\n",
    "                                 autopct='%1.2f%%', explode = (0.05, 0.05),\n",
    "                                  startangle=80, legend =True,\n",
    "                                  fontsize=12, figsize=(14,6), textprops={'color':\"black\"})\n",
    "plt.legend([\"0: paid loan\",\"1:not paid loan\"]);"
   ]
  },
  {
   "cell_type": "code",
   "execution_count": 8,
   "id": "cfa08ee6",
   "metadata": {},
   "outputs": [
    {
     "data": {
      "text/plain": [
       "id                         int64\n",
       "short_emp                  int64\n",
       "emp_length_num             int64\n",
       "last_delinq_none           int64\n",
       "bad_loan                   int64\n",
       "annual_inc               float64\n",
       "dti                      float64\n",
       "last_major_derog_none    float64\n",
       "revol_util               float64\n",
       "total_rec_late_fee       float64\n",
       "od_ratio                 float64\n",
       "grade                     object\n",
       "home_ownership            object\n",
       "purpose                   object\n",
       "term                      object\n",
       "dtype: object"
      ]
     },
     "execution_count": 8,
     "metadata": {},
     "output_type": "execute_result"
    }
   ],
   "source": [
    "data.dtypes.sort_values(ascending=True)"
   ]
  },
  {
   "cell_type": "code",
   "execution_count": 9,
   "id": "a899da52",
   "metadata": {},
   "outputs": [
    {
     "data": {
      "text/plain": [
       "float64    6\n",
       "int64      5\n",
       "object     4\n",
       "dtype: int64"
      ]
     },
     "execution_count": 9,
     "metadata": {},
     "output_type": "execute_result"
    }
   ],
   "source": [
    "data.dtypes.value_counts()"
   ]
  },
  {
   "cell_type": "markdown",
   "id": "5f0d2bbd",
   "metadata": {},
   "source": [
    "### Missing Values"
   ]
  },
  {
   "cell_type": "code",
   "execution_count": 10,
   "id": "ea4c514d",
   "metadata": {},
   "outputs": [
    {
     "data": {
      "text/html": [
       "<div>\n",
       "<style scoped>\n",
       "    .dataframe tbody tr th:only-of-type {\n",
       "        vertical-align: middle;\n",
       "    }\n",
       "\n",
       "    .dataframe tbody tr th {\n",
       "        vertical-align: top;\n",
       "    }\n",
       "\n",
       "    .dataframe thead th {\n",
       "        text-align: right;\n",
       "    }\n",
       "</style>\n",
       "<table border=\"1\" class=\"dataframe\">\n",
       "  <thead>\n",
       "    <tr style=\"text-align: right;\">\n",
       "      <th></th>\n",
       "      <th>absolute</th>\n",
       "      <th>percent</th>\n",
       "    </tr>\n",
       "  </thead>\n",
       "  <tbody>\n",
       "    <tr>\n",
       "      <th>id</th>\n",
       "      <td>0</td>\n",
       "      <td>0.00</td>\n",
       "    </tr>\n",
       "    <tr>\n",
       "      <th>grade</th>\n",
       "      <td>0</td>\n",
       "      <td>0.00</td>\n",
       "    </tr>\n",
       "    <tr>\n",
       "      <th>annual_inc</th>\n",
       "      <td>0</td>\n",
       "      <td>0.00</td>\n",
       "    </tr>\n",
       "    <tr>\n",
       "      <th>short_emp</th>\n",
       "      <td>0</td>\n",
       "      <td>0.00</td>\n",
       "    </tr>\n",
       "    <tr>\n",
       "      <th>emp_length_num</th>\n",
       "      <td>0</td>\n",
       "      <td>0.00</td>\n",
       "    </tr>\n",
       "    <tr>\n",
       "      <th>home_ownership</th>\n",
       "      <td>1491</td>\n",
       "      <td>7.08</td>\n",
       "    </tr>\n",
       "    <tr>\n",
       "      <th>dti</th>\n",
       "      <td>154</td>\n",
       "      <td>0.73</td>\n",
       "    </tr>\n",
       "    <tr>\n",
       "      <th>purpose</th>\n",
       "      <td>0</td>\n",
       "      <td>0.00</td>\n",
       "    </tr>\n",
       "    <tr>\n",
       "      <th>term</th>\n",
       "      <td>0</td>\n",
       "      <td>0.00</td>\n",
       "    </tr>\n",
       "    <tr>\n",
       "      <th>last_delinq_none</th>\n",
       "      <td>0</td>\n",
       "      <td>0.00</td>\n",
       "    </tr>\n",
       "    <tr>\n",
       "      <th>last_major_derog_none</th>\n",
       "      <td>19426</td>\n",
       "      <td>92.19</td>\n",
       "    </tr>\n",
       "    <tr>\n",
       "      <th>revol_util</th>\n",
       "      <td>0</td>\n",
       "      <td>0.00</td>\n",
       "    </tr>\n",
       "    <tr>\n",
       "      <th>total_rec_late_fee</th>\n",
       "      <td>0</td>\n",
       "      <td>0.00</td>\n",
       "    </tr>\n",
       "    <tr>\n",
       "      <th>od_ratio</th>\n",
       "      <td>0</td>\n",
       "      <td>0.00</td>\n",
       "    </tr>\n",
       "    <tr>\n",
       "      <th>bad_loan</th>\n",
       "      <td>0</td>\n",
       "      <td>0.00</td>\n",
       "    </tr>\n",
       "  </tbody>\n",
       "</table>\n",
       "</div>"
      ],
      "text/plain": [
       "                       absolute  percent\n",
       "id                            0     0.00\n",
       "grade                         0     0.00\n",
       "annual_inc                    0     0.00\n",
       "short_emp                     0     0.00\n",
       "emp_length_num                0     0.00\n",
       "home_ownership             1491     7.08\n",
       "dti                         154     0.73\n",
       "purpose                       0     0.00\n",
       "term                          0     0.00\n",
       "last_delinq_none              0     0.00\n",
       "last_major_derog_none     19426    92.19\n",
       "revol_util                    0     0.00\n",
       "total_rec_late_fee            0     0.00\n",
       "od_ratio                      0     0.00\n",
       "bad_loan                      0     0.00"
      ]
     },
     "execution_count": 10,
     "metadata": {},
     "output_type": "execute_result"
    }
   ],
   "source": [
    "nulval = data.isnull().sum().to_frame().rename(columns ={ 0: \"absolute\"})\n",
    "\n",
    "nulval[\"percent\"] = (nulval.apply(lambda x: x/x.sum())*100).round(2)\n",
    "\n",
    "nulval"
   ]
  },
  {
   "cell_type": "code",
   "execution_count": 11,
   "id": "a620b9b6",
   "metadata": {},
   "outputs": [],
   "source": [
    "# Histogram\n",
    "def hist(x):\n",
    "    plt.hist(data[x], bins=25)\n",
    "    plt.title(x, fontsize=10, loc=\"right\")\n",
    "    plt.xlabel('Relative frequency')\n",
    "    plt.ylabel('Absolute frequency')\n",
    "    plt.show()"
   ]
  },
  {
   "cell_type": "code",
   "execution_count": 12,
   "id": "b96948e9",
   "metadata": {},
   "outputs": [
    {
     "data": {
      "image/png": "[encoded data removed]",
      "text/plain": [
       "<Figure size 720x648 with 12 Axes>"
      ]
     },
     "metadata": {
      "needs_background": "light"
     },
     "output_type": "display_data"
    }
   ],
   "source": [
    "data.hist(figsize=(10,9), bins=12, ec=\"b\", xlabelsize=8, ylabelsize=8, alpha=0.9, grid=False)\n",
    "\n",
    "plt.tight_layout()\n",
    "plt.show()"
   ]
  },
  {
   "cell_type": "code",
   "execution_count": 13,
   "id": "1528ec69",
   "metadata": {},
   "outputs": [
    {
     "data": {
      "image/png": "[encoded data removed]",
      "text/plain": [
       "<Figure size 432x288 with 1 Axes>"
      ]
     },
     "metadata": {
      "needs_background": "light"
     },
     "output_type": "display_data"
    },
    {
     "data": {
      "image/png": "[encoded data removed]",
      "text/plain": [
       "<Figure size 432x288 with 1 Axes>"
      ]
     },
     "metadata": {
      "needs_background": "light"
     },
     "output_type": "display_data"
    },
    {
     "data": {
      "image/png": "[encoded data removed]",
      "text/plain": [
       "<Figure size 432x288 with 1 Axes>"
      ]
     },
     "metadata": {
      "needs_background": "light"
     },
     "output_type": "display_data"
    },
    {
     "data": {
      "image/png": "[encoded data removed]",
      "text/plain": [
       "<Figure size 432x288 with 1 Axes>"
      ]
     },
     "metadata": {
      "needs_background": "light"
     },
     "output_type": "display_data"
    }
   ],
   "source": [
    "for col in data.select_dtypes(include=[\"object\"]).columns:\n",
    "    data[col].value_counts().plot(kind=\"bar\", color=sns.color_palette(\"rocket\"))\n",
    "\n",
    "    plt.xlabel(\"Class\", fontsize=10)\n",
    "    plt.xticks(rotation = 90, horizontalalignment =\"center\")\n",
    "    plt.ylabel(\"Count\", fontsize =10)\n",
    "    plt.title(col, fontsize=10, loc = \"right\")\n",
    "    plt.show()"
   ]
  },
  {
   "cell_type": "markdown",
   "id": "bf0d983c",
   "metadata": {},
   "source": [
    "There is a problem with \"term\" name. I will fix with lowering its name's characters."
   ]
  },
  {
   "cell_type": "code",
   "execution_count": 14,
   "id": "54e53615",
   "metadata": {},
   "outputs": [
    {
     "data": {
      "text/plain": [
       " 36 months    15001\n",
       " 60 months     4999\n",
       "Name: term, dtype: int64"
      ]
     },
     "execution_count": 14,
     "metadata": {},
     "output_type": "execute_result"
    }
   ],
   "source": [
    "data.term = data.term.str.lower()\n",
    "data.term.value_counts()"
   ]
  },
  {
   "cell_type": "markdown",
   "id": "f36d4813",
   "metadata": {},
   "source": [
    "#### A) Feature : Grade"
   ]
  },
  {
   "cell_type": "code",
   "execution_count": 15,
   "id": "35d75d0b",
   "metadata": {},
   "outputs": [],
   "source": [
    "def target(x):\n",
    "    short_0 = data[data.bad_loan == 0].loc[:,x]\n",
    "    short_1 = data[data.bad_loan == 1].loc[:,x]\n",
    "    \n",
    "    a = np.array(short_0)\n",
    "    b = np.array(short_1)\n",
    "    \n",
    "    np.warnings.filterwarnings('ignore')\n",
    "    \n",
    "    plt.hist(a, bins=40, density=True, color=\"g\", alpha = 0.6, label='Not-default', align=\"left\")\n",
    "    plt.hist(b, bins=40, density=True, color=\"r\", alpha = 0.6, label='Default', align=\"right\")\n",
    "    plt.legend(loc='upper right')\n",
    "    plt.title(x, fontsize=10, loc=\"right\")\n",
    "    plt.xlabel('Absolute frequency')\n",
    "    plt.ylabel('Relative frequency')\n",
    "    plt.show()"
   ]
  },
  {
   "cell_type": "code",
   "execution_count": 16,
   "id": "6016d559",
   "metadata": {},
   "outputs": [
    {
     "data": {
      "image/png": "[encoded data removed]",
      "text/plain": [
       "<Figure size 432x288 with 1 Axes>"
      ]
     },
     "metadata": {
      "needs_background": "light"
     },
     "output_type": "display_data"
    }
   ],
   "source": [
    "target(\"grade\")"
   ]
  },
  {
   "cell_type": "markdown",
   "id": "f50b87fb",
   "metadata": {},
   "source": [
    "#### B) Feature : annual_inc"
   ]
  },
  {
   "cell_type": "code",
   "execution_count": 17,
   "id": "9f9be1c4",
   "metadata": {},
   "outputs": [
    {
     "data": {
      "image/png": "[encoded data removed]",
      "text/plain": [
       "<Figure size 432x288 with 1 Axes>"
      ]
     },
     "metadata": {
      "needs_background": "light"
     },
     "output_type": "display_data"
    },
    {
     "data": {
      "text/plain": [
       "'Median: 65000.0'"
      ]
     },
     "metadata": {},
     "output_type": "display_data"
    },
    {
     "data": {
      "text/plain": [
       "'Mean: 73349.57835'"
      ]
     },
     "metadata": {},
     "output_type": "display_data"
    }
   ],
   "source": [
    "variable = data[\"annual_inc\"]\n",
    "\n",
    "mean =np.array(variable).mean()\n",
    "median = np.median(variable)\n",
    "\n",
    "ax= sns.distplot(variable)\n",
    "ax.axvline(mean,color='r', linestyle = '--')\n",
    "ax.axvline(median,color='g', linestyle = '-')\n",
    "\n",
    "plt.title(\"Annual income\", fontsize=10, loc=\"right\")\n",
    "plt.legend({'Mean': mean, 'Median': median})\n",
    "plt.show()\n",
    "\n",
    "display(\"Median: \" + str(median))\n",
    "display(\"Mean: \" + str(mean))"
   ]
  },
  {
   "cell_type": "code",
   "execution_count": 18,
   "id": "072b92ab",
   "metadata": {},
   "outputs": [
    {
     "data": {
      "image/png": "[encoded data removed]",
      "text/plain": [
       "<Figure size 432x288 with 1 Axes>"
      ]
     },
     "metadata": {
      "needs_background": "light"
     },
     "output_type": "display_data"
    }
   ],
   "source": [
    "target(\"annual_inc\")"
   ]
  },
  {
   "cell_type": "markdown",
   "id": "68cfd004",
   "metadata": {},
   "source": [
    "#### C) Feature : short_emp"
   ]
  },
  {
   "cell_type": "code",
   "execution_count": 19,
   "id": "66c6b663",
   "metadata": {},
   "outputs": [
    {
     "data": {
      "image/png": "[encoded data removed]",
      "text/plain": [
       "<Figure size 1008x432 with 1 Axes>"
      ]
     },
     "metadata": {},
     "output_type": "display_data"
    }
   ],
   "source": [
    "data.short_emp.value_counts().plot(kind = 'pie', subplots=True,\n",
    "                                 autopct='%1.2f%%', explode = (0.05, 0.05),\n",
    "                                  startangle=80, legend =True,\n",
    "                                  fontsize=12, figsize=(14,6), textprops={'color':\"black\"})\n",
    "plt.legend([\"0: Not employed for one or less year\",\"1: employed for one or less year\"]);"
   ]
  },
  {
   "cell_type": "code",
   "execution_count": 20,
   "id": "fa3b08ff",
   "metadata": {},
   "outputs": [
    {
     "data": {
      "image/png": "[encoded data removed]",
      "text/plain": [
       "<Figure size 432x288 with 1 Axes>"
      ]
     },
     "metadata": {
      "needs_background": "light"
     },
     "output_type": "display_data"
    }
   ],
   "source": [
    "target(\"short_emp\")"
   ]
  },
  {
   "cell_type": "markdown",
   "id": "ddd617f5",
   "metadata": {},
   "source": [
    "#### D) Feature: emp_length_num"
   ]
  },
  {
   "cell_type": "code",
   "execution_count": 21,
   "id": "06b34121",
   "metadata": {},
   "outputs": [
    {
     "data": {
      "image/png": "[encoded data removed]",
      "text/plain": [
       "<Figure size 432x288 with 1 Axes>"
      ]
     },
     "metadata": {
      "needs_background": "light"
     },
     "output_type": "display_data"
    },
    {
     "data": {
      "text/plain": [
       "'Median: 7.0'"
      ]
     },
     "metadata": {},
     "output_type": "display_data"
    },
    {
     "data": {
      "text/plain": [
       "'Mean: 6.8214'"
      ]
     },
     "metadata": {},
     "output_type": "display_data"
    }
   ],
   "source": [
    "variable = data[\"emp_length_num\"]\n",
    "mean =np.array(variable).mean()\n",
    "median = np.median(variable)\n",
    "\n",
    "ax= sns.distplot(variable)\n",
    "ax.axvline(mean,color='r', linestyle = '--')\n",
    "ax.axvline(median,color='g', linestyle = '-')\n",
    "\n",
    "plt.title(\"Employee length year\", fontsize=10, loc=\"right\")\n",
    "plt.legend({'Mean': mean, 'Median': median})\n",
    "plt.show()\n",
    "\n",
    "display(\"Median: \" + str(median))\n",
    "display(\"Mean: \" + str(mean))"
   ]
  },
  {
   "cell_type": "code",
   "execution_count": 22,
   "id": "48e54e5f",
   "metadata": {},
   "outputs": [
    {
     "data": {
      "image/png": "[encoded data removed]",
      "text/plain": [
       "<Figure size 432x288 with 1 Axes>"
      ]
     },
     "metadata": {
      "needs_background": "light"
     },
     "output_type": "display_data"
    }
   ],
   "source": [
    "target(\"emp_length_num\")"
   ]
  },
  {
   "cell_type": "markdown",
   "id": "6e057150",
   "metadata": {},
   "source": [
    "#### E) Feature : home_ownership"
   ]
  },
  {
   "cell_type": "code",
   "execution_count": 23,
   "id": "4529b93d",
   "metadata": {},
   "outputs": [
    {
     "data": {
      "image/png": "[encoded data removed]",
      "text/plain": [
       "<Figure size 504x504 with 1 Axes>"
      ]
     },
     "metadata": {},
     "output_type": "display_data"
    }
   ],
   "source": [
    "data[\"home_ownership\"].value_counts(dropna=False).plot(kind='pie', \n",
    "                                                       figsize=(7,7), \n",
    "                                                       fontsize=10, autopct='%1.1f%%', \n",
    "                                                       startangle=0, legend=True, \n",
    "                                                       textprops={'color':\"white\", 'weight':'bold'});"
   ]
  },
  {
   "cell_type": "markdown",
   "id": "e9fe8c30",
   "metadata": {},
   "source": [
    "#### E) Feature : dti ( Debt to income) "
   ]
  },
  {
   "cell_type": "code",
   "execution_count": 24,
   "id": "3169be18",
   "metadata": {},
   "outputs": [
    {
     "data": {
      "image/png": "[encoded data removed]",
      "text/plain": [
       "<Figure size 432x288 with 1 Axes>"
      ]
     },
     "metadata": {
      "needs_background": "light"
     },
     "output_type": "display_data"
    }
   ],
   "source": [
    "variable = data[\"dti\"]\n",
    "mean =np.array(variable).mean()\n",
    "median = np.median(variable)\n",
    "\n",
    "ax= sns.distplot(variable)\n",
    "ax.axvline(mean,color='r', linestyle = '--')\n",
    "ax.axvline(median,color='g', linestyle = '-')\n",
    "\n",
    "plt.title(\"dti\", fontsize=10, loc=\"right\")\n",
    "plt.legend({'Mean': mean, 'Median': median})\n",
    "plt.show()\n"
   ]
  },
  {
   "cell_type": "code",
   "execution_count": 25,
   "id": "bfc3f95c",
   "metadata": {},
   "outputs": [
    {
     "data": {
      "image/png": "[encoded data removed]",
      "text/plain": [
       "<Figure size 432x288 with 1 Axes>"
      ]
     },
     "metadata": {
      "needs_background": "light"
     },
     "output_type": "display_data"
    }
   ],
   "source": [
    "target(\"dti\")"
   ]
  },
  {
   "cell_type": "markdown",
   "id": "5b0103a2",
   "metadata": {},
   "source": [
    "#### F) Feature: Purpose"
   ]
  },
  {
   "cell_type": "code",
   "execution_count": 26,
   "id": "112707c9",
   "metadata": {},
   "outputs": [
    {
     "data": {
      "image/png": "[encoded data removed]",
      "text/plain": [
       "<Figure size 432x288 with 1 Axes>"
      ]
     },
     "metadata": {
      "needs_background": "light"
     },
     "output_type": "display_data"
    }
   ],
   "source": [
    "data[\"purpose\"].value_counts().plot(kind=\"bar\", color=sns.color_palette(\"rocket\"))\n",
    "\n",
    "plt.xlabel(\"Purpose\", fontsize=10)\n",
    "plt.xticks(rotation = 90, horizontalalignment =\"center\")\n",
    "plt.ylabel(\"Absolute values\", fontsize =10)\n",
    "plt.title(col, fontsize=10, loc = \"right\")\n",
    "plt.show()"
   ]
  },
  {
   "cell_type": "code",
   "execution_count": 27,
   "id": "2dfb664e",
   "metadata": {},
   "outputs": [
    {
     "data": {
      "image/png": "[encoded data removed]",
      "text/plain": [
       "<Figure size 432x288 with 1 Axes>"
      ]
     },
     "metadata": {
      "needs_background": "light"
     },
     "output_type": "display_data"
    }
   ],
   "source": [
    "target(\"purpose\")"
   ]
  },
  {
   "cell_type": "markdown",
   "id": "4a46b1ff",
   "metadata": {},
   "source": [
    "#### G) Feature : term"
   ]
  },
  {
   "cell_type": "code",
   "execution_count": 28,
   "id": "a4668c4a",
   "metadata": {},
   "outputs": [
    {
     "data": {
      "image/png": "[encoded data removed]",
      "text/plain": [
       "<Figure size 432x432 with 1 Axes>"
      ]
     },
     "metadata": {},
     "output_type": "display_data"
    }
   ],
   "source": [
    "data[\"term\"].value_counts(dropna=False).plot(kind='pie', \n",
    "                                                       figsize=(6,6), \n",
    "                                                       fontsize=10, autopct='%1.1f%%', \n",
    "                                                       startangle=0, legend=True, \n",
    "                                                       textprops={'color':\"white\", 'weight':'bold'});"
   ]
  },
  {
   "cell_type": "code",
   "execution_count": 29,
   "id": "e5e75dcc",
   "metadata": {},
   "outputs": [
    {
     "data": {
      "image/png": "[encoded data removed]",
      "text/plain": [
       "<Figure size 432x288 with 1 Axes>"
      ]
     },
     "metadata": {
      "needs_background": "light"
     },
     "output_type": "display_data"
    }
   ],
   "source": [
    "target(\"term\")"
   ]
  },
  {
   "cell_type": "markdown",
   "id": "0d535a66",
   "metadata": {},
   "source": [
    "#### H) Feature: last_delinq_none"
   ]
  },
  {
   "cell_type": "code",
   "execution_count": 30,
   "id": "2a54456c",
   "metadata": {},
   "outputs": [
    {
     "data": {
      "image/png": "[encoded data removed]",
      "text/plain": [
       "<Figure size 432x432 with 1 Axes>"
      ]
     },
     "metadata": {},
     "output_type": "display_data"
    }
   ],
   "source": [
    "data[\"last_delinq_none\"].value_counts(dropna=False).plot(kind='pie', \n",
    "                                                       figsize=(6,6), \n",
    "                                                       fontsize=10, autopct='%1.1f%%', \n",
    "                                                       startangle=0, legend=True, \n",
    "                                                       textprops={'color':\"white\", 'weight':'bold'});"
   ]
  },
  {
   "cell_type": "code",
   "execution_count": 31,
   "id": "145f5016",
   "metadata": {},
   "outputs": [
    {
     "data": {
      "image/png": "[encoded data removed]",
      "text/plain": [
       "<Figure size 432x288 with 1 Axes>"
      ]
     },
     "metadata": {
      "needs_background": "light"
     },
     "output_type": "display_data"
    }
   ],
   "source": [
    "target(\"last_delinq_none\")"
   ]
  },
  {
   "cell_type": "markdown",
   "id": "8b0e2a9b",
   "metadata": {},
   "source": [
    "#### I) Feature: last_major_derog_none"
   ]
  },
  {
   "cell_type": "code",
   "execution_count": 32,
   "id": "fef0784e",
   "metadata": {},
   "outputs": [
    {
     "data": {
      "image/png": "[encoded data removed]",
      "text/plain": [
       "<Figure size 432x432 with 1 Axes>"
      ]
     },
     "metadata": {},
     "output_type": "display_data"
    }
   ],
   "source": [
    "data[\"last_major_derog_none\"].value_counts(dropna=False).plot(kind='pie', \n",
    "                                                       figsize=(6,6), \n",
    "                                                       fontsize=10, autopct='%1.1f%%', \n",
    "                                                       startangle=0, legend=True, \n",
    "                                                       textprops={'color':\"white\", 'weight':'bold'});"
   ]
  },
  {
   "cell_type": "code",
   "execution_count": 33,
   "id": "9ab16fae",
   "metadata": {},
   "outputs": [
    {
     "data": {
      "image/png": "[encoded data removed]",
      "text/plain": [
       "<Figure size 432x288 with 1 Axes>"
      ]
     },
     "metadata": {
      "needs_background": "light"
     },
     "output_type": "display_data"
    }
   ],
   "source": [
    "target(\"last_delinq_none\")"
   ]
  },
  {
   "cell_type": "markdown",
   "id": "99fa81c8",
   "metadata": {},
   "source": [
    "#### J) Feature: revol util"
   ]
  },
  {
   "cell_type": "code",
   "execution_count": 34,
   "id": "1df90d26",
   "metadata": {},
   "outputs": [
    {
     "data": {
      "image/png": "[encoded data removed]",
      "text/plain": [
       "<Figure size 432x288 with 1 Axes>"
      ]
     },
     "metadata": {
      "needs_background": "light"
     },
     "output_type": "display_data"
    },
    {
     "data": {
      "text/plain": [
       "'Median: 57.1'"
      ]
     },
     "metadata": {},
     "output_type": "display_data"
    },
    {
     "data": {
      "text/plain": [
       "'Mean: 55.958148054999995'"
      ]
     },
     "metadata": {},
     "output_type": "display_data"
    }
   ],
   "source": [
    "variable = data[\"revol_util\"]\n",
    "mean =np.array(variable).mean()\n",
    "median = np.median(variable)\n",
    "\n",
    "ax= sns.distplot(variable)\n",
    "ax.axvline(mean,color='r', linestyle = '--')\n",
    "ax.axvline(median,color='g', linestyle = '-')\n",
    "\n",
    "plt.title(\"revol_util\", fontsize=10, loc=\"right\")\n",
    "plt.legend({'Mean': mean, 'Median': median})\n",
    "plt.show()\n",
    "\n",
    "display(\"Median: \" + str(median))\n",
    "display(\"Mean: \" + str(mean))"
   ]
  },
  {
   "cell_type": "markdown",
   "id": "1c66ec38",
   "metadata": {},
   "source": [
    "#### K) Feature: total_rec_late_fee"
   ]
  },
  {
   "cell_type": "code",
   "execution_count": 35,
   "id": "a3c4a417",
   "metadata": {},
   "outputs": [
    {
     "data": {
      "image/png": "[encoded data removed]",
      "text/plain": [
       "<Figure size 432x288 with 1 Axes>"
      ]
     },
     "metadata": {
      "needs_background": "light"
     },
     "output_type": "display_data"
    }
   ],
   "source": [
    "target(\"total_rec_late_fee\")"
   ]
  },
  {
   "cell_type": "markdown",
   "id": "cd18232d",
   "metadata": {},
   "source": [
    "### Correlation"
   ]
  },
  {
   "cell_type": "markdown",
   "id": "6e29a3f2",
   "metadata": {},
   "source": [
    "#### Pearson"
   ]
  },
  {
   "cell_type": "code",
   "execution_count": 36,
   "id": "8bdbfc98",
   "metadata": {},
   "outputs": [
    {
     "data": {
      "image/png": "[encoded data removed]",
      "text/plain": [
       "<Figure size 1368x648 with 2 Axes>"
      ]
     },
     "metadata": {
      "needs_background": "light"
     },
     "output_type": "display_data"
    }
   ],
   "source": [
    "mask = np.triu(data.corr(), 1)\n",
    "\n",
    "plt.figure(figsize=(19, 9))\n",
    "\n",
    "sns.heatmap(data.corr(), annot=True, vmax=1, vmin=-1, square=True, cmap='BrBG', mask=mask);"
   ]
  },
  {
   "cell_type": "markdown",
   "id": "5efb992e",
   "metadata": {},
   "source": [
    "The variable that is most correlated with the target is ‘dti’ with a weak and positive correlation of 0.141884."
   ]
  },
  {
   "cell_type": "markdown",
   "id": "6ecd2ceb",
   "metadata": {},
   "source": [
    "## 2) Data Wragling ( Cleaning, Missing values, Encoding) "
   ]
  },
  {
   "cell_type": "code",
   "execution_count": 37,
   "id": "a70f88e9",
   "metadata": {},
   "outputs": [],
   "source": [
    "# Numerical data\n",
    "data_ca = data.select_dtypes(exclude=[\"int64\",\"float64\"]).copy()"
   ]
  },
  {
   "cell_type": "code",
   "execution_count": 38,
   "id": "13819265",
   "metadata": {},
   "outputs": [],
   "source": [
    "# Categoric data\n",
    "data_nu = data.select_dtypes(exclude=[\"object\",\"category\"]).copy()"
   ]
  },
  {
   "cell_type": "code",
   "execution_count": 39,
   "id": "feda2fc9",
   "metadata": {},
   "outputs": [
    {
     "data": {
      "image/png": "[encoded data removed]",
      "text/plain": [
       "<Figure size 576x1152 with 12 Axes>"
      ]
     },
     "metadata": {
      "needs_background": "light"
     },
     "output_type": "display_data"
    }
   ],
   "source": [
    "fig , axs = plt.subplots(ncols = 3, nrows=4, figsize=(8,16))\n",
    "index = 0\n",
    "axs = axs.flatten()\n",
    "\n",
    "for k,v in data_nu.items():\n",
    "    sns.boxplot(y = k , data = data_nu, ax = axs[index], orient = \"h\")\n",
    "    index +=1\n",
    "    plt.tight_layout(pad= 0.4, w_pad = 0.5 , h_pad = 5.0)"
   ]
  },
  {
   "cell_type": "markdown",
   "id": "da89b55a",
   "metadata": {},
   "source": [
    "### annual_inc"
   ]
  },
  {
   "cell_type": "code",
   "execution_count": 40,
   "id": "f3e12295",
   "metadata": {},
   "outputs": [
    {
     "data": {
      "image/png": "[encoded data removed]",
      "text/plain": [
       "<Figure size 432x288 with 1 Axes>"
      ]
     },
     "metadata": {
      "needs_background": "light"
     },
     "output_type": "display_data"
    },
    {
     "name": "stdout",
     "output_type": "stream",
     "text": [
      "count      20000.000000\n",
      "mean       73349.578350\n",
      "std        45198.567255\n",
      "min         8412.000000\n",
      "25%        47000.000000\n",
      "50%        65000.000000\n",
      "75%        88000.000000\n",
      "max      1000000.000000\n",
      "Name: annual_inc, dtype: float64\n"
     ]
    }
   ],
   "source": [
    "variable = data[\"annual_inc\"]\n",
    "\n",
    "mean =np.array(variable).mean()\n",
    "median = np.median(variable)\n",
    "\n",
    "ax= sns.boxplot(variable)\n",
    "ax.axvline(mean,color='r', linestyle = '--')\n",
    "ax.axvline(median,color='g', linestyle = '-')\n",
    "\n",
    "plt.title(\"Annual income\", fontsize=10, loc=\"right\")\n",
    "plt.legend({'Mean': mean, 'Median': median})\n",
    "plt.show()\n",
    "\n",
    "print(data.annual_inc.describe())"
   ]
  },
  {
   "cell_type": "code",
   "execution_count": 41,
   "id": "c4c2af18",
   "metadata": {},
   "outputs": [
    {
     "data": {
      "image/png": "[encoded data removed]",
      "text/plain": [
       "<Figure size 432x288 with 1 Axes>"
      ]
     },
     "metadata": {
      "needs_background": "light"
     },
     "output_type": "display_data"
    },
    {
     "name": "stdout",
     "output_type": "stream",
     "text": [
      "count     19074.000000\n",
      "mean      66792.117857\n",
      "std       27241.646991\n",
      "min        8412.000000\n",
      "25%       46000.000000\n",
      "50%       62000.000000\n",
      "75%       84000.000000\n",
      "max      149000.000000\n",
      "Name: annual_inc, dtype: float64\n"
     ]
    }
   ],
   "source": [
    "# finding outliners according to IQR score and DELETING\n",
    "\n",
    "Q1 = data['annual_inc'].quantile(0.25)\n",
    "Q3 = data['annual_inc'].quantile(0.75)\n",
    "\n",
    "IQR = Q3 -Q1\n",
    "\n",
    "data['annual_inc'] = data.annual_inc[~((data.annual_inc < Q1 - 1.5 * IQR ) |\n",
    "                                      (data.annual_inc > Q3 + 1.5 *IQR ))]\n",
    "\n",
    "\n",
    "\n",
    "\n",
    "variable = data[\"annual_inc\"]\n",
    "\n",
    "mean =np.array(variable).mean()\n",
    "median = np.median(variable)\n",
    "\n",
    "ax= sns.boxplot(variable)\n",
    "ax.axvline(mean,color='r', linestyle = '--')\n",
    "ax.axvline(median,color='g', linestyle = '-')\n",
    "\n",
    "plt.title(\"Annual income\", fontsize=10, loc=\"right\")\n",
    "plt.legend({'Mean': mean, 'Median': median})\n",
    "plt.show()\n",
    "\n",
    "print(data.annual_inc.describe())"
   ]
  },
  {
   "cell_type": "code",
   "execution_count": 42,
   "id": "69e19d46",
   "metadata": {},
   "outputs": [
    {
     "name": "stdout",
     "output_type": "stream",
     "text": [
      "Number of deleted outliners : 926.0\n"
     ]
    }
   ],
   "source": [
    " print( \"Number of deleted outliners : \"+ str(data_nu.annual_inc.describe()[0] - data.annual_inc.describe()[0]))"
   ]
  },
  {
   "cell_type": "markdown",
   "id": "b4351e0d",
   "metadata": {},
   "source": [
    "### revol_util"
   ]
  },
  {
   "cell_type": "code",
   "execution_count": 43,
   "id": "89f1910d",
   "metadata": {},
   "outputs": [
    {
     "data": {
      "image/png": "[encoded data removed]",
      "text/plain": [
       "<Figure size 432x288 with 1 Axes>"
      ]
     },
     "metadata": {
      "needs_background": "light"
     },
     "output_type": "display_data"
    },
    {
     "name": "stdout",
     "output_type": "stream",
     "text": [
      "count    20000.000000\n",
      "mean        55.958148\n",
      "std         42.117456\n",
      "min          0.000000\n",
      "25%         38.800000\n",
      "50%         57.100000\n",
      "75%         73.900000\n",
      "max       5010.000000\n",
      "Name: revol_util, dtype: float64\n"
     ]
    }
   ],
   "source": [
    "variable = data[\"revol_util\"]\n",
    "\n",
    "mean =np.array(variable).mean()\n",
    "median = np.median(variable)\n",
    "\n",
    "ax= sns.boxplot(variable)\n",
    "ax.axvline(mean,color='r', linestyle = '--')\n",
    "ax.axvline(median,color='g', linestyle = '-')\n",
    "\n",
    "plt.title(\"Revol util\", fontsize=10, loc=\"right\")\n",
    "plt.legend({'Mean': mean, 'Median': median})\n",
    "plt.show()\n",
    "\n",
    "print(data.revol_util.describe())"
   ]
  },
  {
   "cell_type": "code",
   "execution_count": 44,
   "id": "30338bb5",
   "metadata": {},
   "outputs": [
    {
     "name": "stdout",
     "output_type": "stream",
     "text": [
      "Threshold value value : 112.90151999996161\n"
     ]
    }
   ],
   "source": [
    "# deleting outliner\n",
    "\n",
    "value = data.revol_util.quantile([.9999])\n",
    "p = value.iloc[0]\n",
    "print(\"Threshold value value : \" + str(p))\n",
    "\n",
    "data = data[data[\"revol_util\"] < p]"
   ]
  },
  {
   "cell_type": "code",
   "execution_count": 45,
   "id": "2fb116af",
   "metadata": {},
   "outputs": [
    {
     "data": {
      "image/png": "[encoded data removed]",
      "text/plain": [
       "<Figure size 432x288 with 1 Axes>"
      ]
     },
     "metadata": {
      "needs_background": "light"
     },
     "output_type": "display_data"
    },
    {
     "name": "stdout",
     "output_type": "stream",
     "text": [
      "count    19998.000000\n",
      "mean        55.706814\n",
      "std         23.375702\n",
      "min          0.000000\n",
      "25%         38.800000\n",
      "50%         57.100000\n",
      "75%         73.900000\n",
      "max        112.900000\n",
      "Name: revol_util, dtype: float64\n"
     ]
    }
   ],
   "source": [
    "variable = data[\"revol_util\"]\n",
    "\n",
    "mean =np.array(variable).mean()\n",
    "median = np.median(variable)\n",
    "\n",
    "ax= sns.boxplot(variable)\n",
    "ax.axvline(mean,color='r', linestyle = '--')\n",
    "ax.axvline(median,color='g', linestyle = '-')\n",
    "\n",
    "plt.title(\"Revol util\", fontsize=10, loc=\"right\")\n",
    "plt.legend({'Mean': mean, 'Median': median})\n",
    "plt.show()\n",
    "\n",
    "print(data.revol_util.describe())"
   ]
  },
  {
   "cell_type": "markdown",
   "id": "f41bb524",
   "metadata": {},
   "source": [
    "### total_rec_late_fee"
   ]
  },
  {
   "cell_type": "code",
   "execution_count": 46,
   "id": "1ac5b6b5",
   "metadata": {},
   "outputs": [
    {
     "data": {
      "image/png": "[encoded data removed]",
      "text/plain": [
       "<Figure size 432x288 with 1 Axes>"
      ]
     },
     "metadata": {
      "needs_background": "light"
     },
     "output_type": "display_data"
    },
    {
     "name": "stdout",
     "output_type": "stream",
     "text": [
      "count    19998.000000\n",
      "mean         0.289901\n",
      "std          3.107068\n",
      "min          0.000000\n",
      "25%          0.000000\n",
      "50%          0.000000\n",
      "75%          0.000000\n",
      "max         96.466600\n",
      "Name: total_rec_late_fee, dtype: float64\n"
     ]
    }
   ],
   "source": [
    "variable = data[\"total_rec_late_fee\"]\n",
    "\n",
    "mean =np.array(variable).mean()\n",
    "median = np.median(variable)\n",
    "\n",
    "ax= sns.boxplot(variable)\n",
    "ax.axvline(mean,color='r', linestyle = '--')\n",
    "ax.axvline(median,color='g', linestyle = '-')\n",
    "\n",
    "plt.title(\"total_rec_late_fee\", fontsize=10, loc=\"right\")\n",
    "plt.legend({'Mean': mean, 'Median': median})\n",
    "plt.show()\n",
    "\n",
    "print(data.total_rec_late_fee.describe())"
   ]
  },
  {
   "cell_type": "code",
   "execution_count": 47,
   "id": "d81f8f6c",
   "metadata": {},
   "outputs": [
    {
     "name": "stdout",
     "output_type": "stream",
     "text": [
      "Threshold value value : 15.0\n"
     ]
    }
   ],
   "source": [
    "value = data.total_rec_late_fee.quantile([.990])\n",
    "p = value.iloc[0]\n",
    "\n",
    "print(\"Threshold value value : \" + str(p))\n",
    "\n",
    "data = data[data[\"total_rec_late_fee\"] < p]"
   ]
  },
  {
   "cell_type": "code",
   "execution_count": 48,
   "id": "ff177fe3",
   "metadata": {},
   "outputs": [
    {
     "data": {
      "image/png": "[encoded data removed]",
      "text/plain": [
       "<Figure size 432x288 with 1 Axes>"
      ]
     },
     "metadata": {
      "needs_background": "light"
     },
     "output_type": "display_data"
    },
    {
     "name": "stdout",
     "output_type": "stream",
     "text": [
      "count    19796.000000\n",
      "mean         0.018447\n",
      "std          0.521768\n",
      "min          0.000000\n",
      "25%          0.000000\n",
      "50%          0.000000\n",
      "75%          0.000000\n",
      "max         14.997400\n",
      "Name: total_rec_late_fee, dtype: float64\n"
     ]
    }
   ],
   "source": [
    "variable = data[\"total_rec_late_fee\"]\n",
    "\n",
    "mean =np.array(variable).mean()\n",
    "median = np.median(variable)\n",
    "\n",
    "ax= sns.boxplot(variable)\n",
    "ax.axvline(mean,color='r', linestyle = '--')\n",
    "ax.axvline(median,color='g', linestyle = '-')\n",
    "\n",
    "plt.title(\"total_rec_late_fee\", fontsize=10, loc=\"right\")\n",
    "plt.legend({'Mean': mean, 'Median': median})\n",
    "plt.show()\n",
    "\n",
    "print(data.total_rec_late_fee.describe())"
   ]
  },
  {
   "cell_type": "markdown",
   "id": "11ce0387",
   "metadata": {},
   "source": [
    "### MISSING VALUES "
   ]
  },
  {
   "cell_type": "code",
   "execution_count": 49,
   "id": "36bfbb71",
   "metadata": {},
   "outputs": [
    {
     "name": "stdout",
     "output_type": "stream",
     "text": [
      "'annual_inc': number of missing values : '915', portion : '4.622%'\n",
      "'home_ownership': number of missing values : '1477', portion : '7.461%'\n",
      "'dti': number of missing values : '152', portion : '0.768%'\n",
      "'last_major_derog_none': number of missing values : '19225', portion : '97.116%'\n"
     ]
    }
   ],
   "source": [
    "for column in data.columns:\n",
    "    if data[column].isna().sum() != 0:\n",
    "        missing = data[column].isna().sum()\n",
    "        portion = (missing / data.shape[0]) * 100\n",
    "        print(f\"'{column}': number of missing values : '{missing}', portion : '{portion:.3f}%'\")"
   ]
  },
  {
   "cell_type": "markdown",
   "id": "6302a5b7",
   "metadata": {},
   "source": [
    "#### annual_inc (Method: Replacing missing values with mean ( avarage ) )"
   ]
  },
  {
   "cell_type": "code",
   "execution_count": 50,
   "id": "a7e24ded",
   "metadata": {},
   "outputs": [
    {
     "name": "stdout",
     "output_type": "stream",
     "text": [
      "False\n"
     ]
    }
   ],
   "source": [
    "\n",
    "data[\"annual_inc\"] = data. annual_inc.fillna(data.annual_inc.mean())\n",
    "\n",
    "print(data.annual_inc.isnull().values.any())"
   ]
  },
  {
   "cell_type": "markdown",
   "id": "ac02cbfa",
   "metadata": {},
   "source": [
    "#### home_ownership (Method: Replacing missing values with most frequently value)"
   ]
  },
  {
   "cell_type": "code",
   "execution_count": 51,
   "id": "6debc62a",
   "metadata": {},
   "outputs": [
    {
     "name": "stdout",
     "output_type": "stream",
     "text": [
      "False\n"
     ]
    }
   ],
   "source": [
    "data[\"home_ownership\"] = data.home_ownership.fillna(data.home_ownership.value_counts().index[0])\n",
    "\n",
    "print(data.home_ownership.isnull().values.any())"
   ]
  },
  {
   "cell_type": "code",
   "execution_count": 52,
   "id": "5f178727",
   "metadata": {},
   "outputs": [
    {
     "data": {
      "text/plain": [
       "Text(1.0, 1.0, 'home_ownership')"
      ]
     },
     "execution_count": 52,
     "metadata": {},
     "output_type": "execute_result"
    },
    {
     "data": {
      "image/png": "[encoded data removed]",
      "text/plain": [
       "<Figure size 432x360 with 1 Axes>"
      ]
     },
     "metadata": {
      "needs_background": "light"
     },
     "output_type": "display_data"
    }
   ],
   "source": [
    "data[\"home_ownership\"].value_counts(dropna=False).plot(kind=\"bar\", figsize=(6,5), \n",
    "                                                       fontsize=10, \n",
    "                                                       color=sns.color_palette(\"rocket\"), \n",
    "                                                       table=False)\n",
    "plt.xlabel(\"home_ownership\", fontsize=10)\n",
    "plt.xticks(rotation=0, horizontalalignment=\"center\")\n",
    "plt.ylabel(\"Absolute values\", fontsize=10)\n",
    "plt.title(\"home_ownership\", fontsize=10, loc=\"right\")"
   ]
  },
  {
   "cell_type": "markdown",
   "id": "c5136975",
   "metadata": {},
   "source": [
    "#### dti  (Method: Replacing missing values with mean (avarage))"
   ]
  },
  {
   "cell_type": "code",
   "execution_count": 53,
   "id": "8b7ecbbe",
   "metadata": {},
   "outputs": [
    {
     "name": "stdout",
     "output_type": "stream",
     "text": [
      "False\n"
     ]
    }
   ],
   "source": [
    "\n",
    "data[\"dti\"] = data.dti.fillna(data.dti.mean())\n",
    "\n",
    "print(data.dti.isnull().values.any())"
   ]
  },
  {
   "cell_type": "markdown",
   "id": "3615f462",
   "metadata": {},
   "source": [
    "#### last_major_derog_none (Method: Drop column because of too many NA)"
   ]
  },
  {
   "cell_type": "code",
   "execution_count": 54,
   "id": "605c5377",
   "metadata": {},
   "outputs": [],
   "source": [
    "data.drop(\"last_major_derog_none\", axis=1, inplace=True)"
   ]
  },
  {
   "cell_type": "markdown",
   "id": "24dfdf74",
   "metadata": {},
   "source": [
    "### Data selection"
   ]
  },
  {
   "cell_type": "markdown",
   "id": "79cd5968",
   "metadata": {},
   "source": [
    "#### 'id' (Irrelevand feature)"
   ]
  },
  {
   "cell_type": "code",
   "execution_count": 55,
   "id": "298c9358",
   "metadata": {},
   "outputs": [
    {
     "data": {
      "text/plain": [
       "(19796, 13)"
      ]
     },
     "execution_count": 55,
     "metadata": {},
     "output_type": "execute_result"
    }
   ],
   "source": [
    "data.drop(\"id\", axis =1, inplace = True)\n",
    "\n",
    "data.shape"
   ]
  },
  {
   "cell_type": "code",
   "execution_count": 56,
   "id": "95e6bda5",
   "metadata": {},
   "outputs": [],
   "source": [
    "data_nu = data.select_dtypes(exclude=[\"object\",\"category\"]).copy()\n",
    "\n",
    "Xnumerical = data_nu.drop([\"bad_loan\"], axis =\"columns\")\n",
    "Ynumerical = data_nu.bad_loan"
   ]
  },
  {
   "cell_type": "code",
   "execution_count": 57,
   "id": "09335e23",
   "metadata": {},
   "outputs": [
    {
     "data": {
      "text/html": [
       "<div>\n",
       "<style scoped>\n",
       "    .dataframe tbody tr th:only-of-type {\n",
       "        vertical-align: middle;\n",
       "    }\n",
       "\n",
       "    .dataframe tbody tr th {\n",
       "        vertical-align: top;\n",
       "    }\n",
       "\n",
       "    .dataframe thead th {\n",
       "        text-align: right;\n",
       "    }\n",
       "</style>\n",
       "<table border=\"1\" class=\"dataframe\">\n",
       "  <thead>\n",
       "    <tr style=\"text-align: right;\">\n",
       "      <th></th>\n",
       "      <th>Pearson Corr.</th>\n",
       "      <th>p-value</th>\n",
       "    </tr>\n",
       "  </thead>\n",
       "  <tbody>\n",
       "    <tr>\n",
       "      <th>annual_inc</th>\n",
       "      <td>-0.1234</td>\n",
       "      <td>0.0000</td>\n",
       "    </tr>\n",
       "    <tr>\n",
       "      <th>short_emp</th>\n",
       "      <td>0.0366</td>\n",
       "      <td>0.0000</td>\n",
       "    </tr>\n",
       "    <tr>\n",
       "      <th>emp_length_num</th>\n",
       "      <td>-0.0406</td>\n",
       "      <td>0.0000</td>\n",
       "    </tr>\n",
       "    <tr>\n",
       "      <th>dti</th>\n",
       "      <td>0.1397</td>\n",
       "      <td>0.0000</td>\n",
       "    </tr>\n",
       "    <tr>\n",
       "      <th>last_delinq_none</th>\n",
       "      <td>0.0216</td>\n",
       "      <td>0.0024</td>\n",
       "    </tr>\n",
       "    <tr>\n",
       "      <th>revol_util</th>\n",
       "      <td>0.1008</td>\n",
       "      <td>0.0000</td>\n",
       "    </tr>\n",
       "    <tr>\n",
       "      <th>total_rec_late_fee</th>\n",
       "      <td>0.0484</td>\n",
       "      <td>0.0000</td>\n",
       "    </tr>\n",
       "    <tr>\n",
       "      <th>od_ratio</th>\n",
       "      <td>0.0007</td>\n",
       "      <td>0.9236</td>\n",
       "    </tr>\n",
       "  </tbody>\n",
       "</table>\n",
       "</div>"
      ],
      "text/plain": [
       "                    Pearson Corr.  p-value\n",
       "annual_inc                -0.1234   0.0000\n",
       "short_emp                  0.0366   0.0000\n",
       "emp_length_num            -0.0406   0.0000\n",
       "dti                        0.1397   0.0000\n",
       "last_delinq_none           0.0216   0.0024\n",
       "revol_util                 0.1008   0.0000\n",
       "total_rec_late_fee         0.0484   0.0000\n",
       "od_ratio                   0.0007   0.9236"
      ]
     },
     "execution_count": 57,
     "metadata": {},
     "output_type": "execute_result"
    }
   ],
   "source": [
    "pd.DataFrame(\n",
    "    [scipy.stats.pearsonr(Xnumerical[col],\n",
    "    Ynumerical) for col in Xnumerical.columns],\n",
    "    columns= [\"Pearson Corr.\", \"p-value\"],\n",
    "    index = Xnumerical.columns,\n",
    ").round(4)"
   ]
  },
  {
   "cell_type": "markdown",
   "id": "f9505d81",
   "metadata": {},
   "source": [
    "##### From heat map, lowest pearson value 0.0004 'od_ratio'. So decided to drop this column."
   ]
  },
  {
   "cell_type": "code",
   "execution_count": 58,
   "id": "48e5a1b5",
   "metadata": {},
   "outputs": [
    {
     "data": {
      "text/plain": [
       "(19796, 12)"
      ]
     },
     "execution_count": 58,
     "metadata": {},
     "output_type": "execute_result"
    }
   ],
   "source": [
    "data.drop(\"od_ratio\", axis =1, inplace = True)\n",
    "\n",
    "data.shape"
   ]
  },
  {
   "cell_type": "code",
   "execution_count": 59,
   "id": "6d8927df",
   "metadata": {},
   "outputs": [],
   "source": [
    "Xcategorical = data.select_dtypes(exclude = ['int64', 'float64']).copy()"
   ]
  },
  {
   "cell_type": "code",
   "execution_count": 60,
   "id": "1aee693d",
   "metadata": {},
   "outputs": [],
   "source": [
    "Ycategorical = data.bad_loan"
   ]
  },
  {
   "cell_type": "code",
   "execution_count": 61,
   "id": "d8dca27a",
   "metadata": {},
   "outputs": [
    {
     "name": "stdout",
     "output_type": "stream",
     "text": [
      "\n"
     ]
    },
    {
     "data": {
      "text/html": [
       "<div>\n",
       "<style scoped>\n",
       "    .dataframe tbody tr th:only-of-type {\n",
       "        vertical-align: middle;\n",
       "    }\n",
       "\n",
       "    .dataframe tbody tr th {\n",
       "        vertical-align: top;\n",
       "    }\n",
       "\n",
       "    .dataframe thead th {\n",
       "        text-align: right;\n",
       "    }\n",
       "</style>\n",
       "<table border=\"1\" class=\"dataframe\">\n",
       "  <thead>\n",
       "    <tr style=\"text-align: right;\">\n",
       "      <th>bad_loan</th>\n",
       "      <th>0</th>\n",
       "      <th>1</th>\n",
       "    </tr>\n",
       "    <tr>\n",
       "      <th>grade</th>\n",
       "      <th></th>\n",
       "      <th></th>\n",
       "    </tr>\n",
       "  </thead>\n",
       "  <tbody>\n",
       "    <tr>\n",
       "      <th>A</th>\n",
       "      <td>2031</td>\n",
       "      <td>120</td>\n",
       "    </tr>\n",
       "    <tr>\n",
       "      <th>B</th>\n",
       "      <td>5259</td>\n",
       "      <td>737</td>\n",
       "    </tr>\n",
       "    <tr>\n",
       "      <th>C</th>\n",
       "      <td>4376</td>\n",
       "      <td>1128</td>\n",
       "    </tr>\n",
       "    <tr>\n",
       "      <th>D</th>\n",
       "      <td>2566</td>\n",
       "      <td>955</td>\n",
       "    </tr>\n",
       "    <tr>\n",
       "      <th>E</th>\n",
       "      <td>1099</td>\n",
       "      <td>517</td>\n",
       "    </tr>\n",
       "    <tr>\n",
       "      <th>F</th>\n",
       "      <td>509</td>\n",
       "      <td>335</td>\n",
       "    </tr>\n",
       "    <tr>\n",
       "      <th>G</th>\n",
       "      <td>102</td>\n",
       "      <td>62</td>\n",
       "    </tr>\n",
       "  </tbody>\n",
       "</table>\n",
       "</div>"
      ],
      "text/plain": [
       "bad_loan     0     1\n",
       "grade               \n",
       "A         2031   120\n",
       "B         5259   737\n",
       "C         4376  1128\n",
       "D         2566   955\n",
       "E         1099   517\n",
       "F          509   335\n",
       "G          102    62"
      ]
     },
     "metadata": {},
     "output_type": "display_data"
    },
    {
     "name": "stdout",
     "output_type": "stream",
     "text": [
      "p-value: 0.0000000000000000000000000\n",
      "\n"
     ]
    },
    {
     "data": {
      "text/html": [
       "<div>\n",
       "<style scoped>\n",
       "    .dataframe tbody tr th:only-of-type {\n",
       "        vertical-align: middle;\n",
       "    }\n",
       "\n",
       "    .dataframe tbody tr th {\n",
       "        vertical-align: top;\n",
       "    }\n",
       "\n",
       "    .dataframe thead th {\n",
       "        text-align: right;\n",
       "    }\n",
       "</style>\n",
       "<table border=\"1\" class=\"dataframe\">\n",
       "  <thead>\n",
       "    <tr style=\"text-align: right;\">\n",
       "      <th>bad_loan</th>\n",
       "      <th>0</th>\n",
       "      <th>1</th>\n",
       "    </tr>\n",
       "    <tr>\n",
       "      <th>home_ownership</th>\n",
       "      <th></th>\n",
       "      <th></th>\n",
       "    </tr>\n",
       "  </thead>\n",
       "  <tbody>\n",
       "    <tr>\n",
       "      <th>MORTGAGE</th>\n",
       "      <td>9300</td>\n",
       "      <td>1927</td>\n",
       "    </tr>\n",
       "    <tr>\n",
       "      <th>OWN</th>\n",
       "      <td>1293</td>\n",
       "      <td>308</td>\n",
       "    </tr>\n",
       "    <tr>\n",
       "      <th>RENT</th>\n",
       "      <td>5349</td>\n",
       "      <td>1619</td>\n",
       "    </tr>\n",
       "  </tbody>\n",
       "</table>\n",
       "</div>"
      ],
      "text/plain": [
       "bad_loan           0     1\n",
       "home_ownership            \n",
       "MORTGAGE        9300  1927\n",
       "OWN             1293   308\n",
       "RENT            5349  1619"
      ]
     },
     "metadata": {},
     "output_type": "display_data"
    },
    {
     "name": "stdout",
     "output_type": "stream",
     "text": [
      "p-value: 0.0000000000000000000001098\n",
      "\n"
     ]
    },
    {
     "data": {
      "text/html": [
       "<div>\n",
       "<style scoped>\n",
       "    .dataframe tbody tr th:only-of-type {\n",
       "        vertical-align: middle;\n",
       "    }\n",
       "\n",
       "    .dataframe tbody tr th {\n",
       "        vertical-align: top;\n",
       "    }\n",
       "\n",
       "    .dataframe thead th {\n",
       "        text-align: right;\n",
       "    }\n",
       "</style>\n",
       "<table border=\"1\" class=\"dataframe\">\n",
       "  <thead>\n",
       "    <tr style=\"text-align: right;\">\n",
       "      <th>bad_loan</th>\n",
       "      <th>0</th>\n",
       "      <th>1</th>\n",
       "    </tr>\n",
       "    <tr>\n",
       "      <th>purpose</th>\n",
       "      <th></th>\n",
       "      <th></th>\n",
       "    </tr>\n",
       "  </thead>\n",
       "  <tbody>\n",
       "    <tr>\n",
       "      <th>car</th>\n",
       "      <td>138</td>\n",
       "      <td>30</td>\n",
       "    </tr>\n",
       "    <tr>\n",
       "      <th>credit_card</th>\n",
       "      <td>3425</td>\n",
       "      <td>681</td>\n",
       "    </tr>\n",
       "    <tr>\n",
       "      <th>debt_consolidation</th>\n",
       "      <td>9826</td>\n",
       "      <td>2388</td>\n",
       "    </tr>\n",
       "    <tr>\n",
       "      <th>home_improvement</th>\n",
       "      <td>881</td>\n",
       "      <td>199</td>\n",
       "    </tr>\n",
       "    <tr>\n",
       "      <th>house</th>\n",
       "      <td>85</td>\n",
       "      <td>13</td>\n",
       "    </tr>\n",
       "    <tr>\n",
       "      <th>major_purchase</th>\n",
       "      <td>290</td>\n",
       "      <td>83</td>\n",
       "    </tr>\n",
       "    <tr>\n",
       "      <th>medical</th>\n",
       "      <td>135</td>\n",
       "      <td>38</td>\n",
       "    </tr>\n",
       "    <tr>\n",
       "      <th>moving</th>\n",
       "      <td>92</td>\n",
       "      <td>29</td>\n",
       "    </tr>\n",
       "    <tr>\n",
       "      <th>other</th>\n",
       "      <td>745</td>\n",
       "      <td>266</td>\n",
       "    </tr>\n",
       "    <tr>\n",
       "      <th>small_business</th>\n",
       "      <td>173</td>\n",
       "      <td>84</td>\n",
       "    </tr>\n",
       "    <tr>\n",
       "      <th>vacation</th>\n",
       "      <td>86</td>\n",
       "      <td>24</td>\n",
       "    </tr>\n",
       "    <tr>\n",
       "      <th>wedding</th>\n",
       "      <td>66</td>\n",
       "      <td>19</td>\n",
       "    </tr>\n",
       "  </tbody>\n",
       "</table>\n",
       "</div>"
      ],
      "text/plain": [
       "bad_loan               0     1\n",
       "purpose                       \n",
       "car                  138    30\n",
       "credit_card         3425   681\n",
       "debt_consolidation  9826  2388\n",
       "home_improvement     881   199\n",
       "house                 85    13\n",
       "major_purchase       290    83\n",
       "medical              135    38\n",
       "moving                92    29\n",
       "other                745   266\n",
       "small_business       173    84\n",
       "vacation              86    24\n",
       "wedding               66    19"
      ]
     },
     "metadata": {},
     "output_type": "display_data"
    },
    {
     "name": "stdout",
     "output_type": "stream",
     "text": [
      "p-value: 0.0000000000000261163123969\n",
      "\n"
     ]
    },
    {
     "data": {
      "text/html": [
       "<div>\n",
       "<style scoped>\n",
       "    .dataframe tbody tr th:only-of-type {\n",
       "        vertical-align: middle;\n",
       "    }\n",
       "\n",
       "    .dataframe tbody tr th {\n",
       "        vertical-align: top;\n",
       "    }\n",
       "\n",
       "    .dataframe thead th {\n",
       "        text-align: right;\n",
       "    }\n",
       "</style>\n",
       "<table border=\"1\" class=\"dataframe\">\n",
       "  <thead>\n",
       "    <tr style=\"text-align: right;\">\n",
       "      <th>bad_loan</th>\n",
       "      <th>0</th>\n",
       "      <th>1</th>\n",
       "    </tr>\n",
       "    <tr>\n",
       "      <th>term</th>\n",
       "      <th></th>\n",
       "      <th></th>\n",
       "    </tr>\n",
       "  </thead>\n",
       "  <tbody>\n",
       "    <tr>\n",
       "      <th>36 months</th>\n",
       "      <td>12420</td>\n",
       "      <td>2447</td>\n",
       "    </tr>\n",
       "    <tr>\n",
       "      <th>60 months</th>\n",
       "      <td>3522</td>\n",
       "      <td>1407</td>\n",
       "    </tr>\n",
       "  </tbody>\n",
       "</table>\n",
       "</div>"
      ],
      "text/plain": [
       "bad_loan        0     1\n",
       "term                   \n",
       " 36 months  12420  2447\n",
       " 60 months   3522  1407"
      ]
     },
     "metadata": {},
     "output_type": "display_data"
    },
    {
     "name": "stdout",
     "output_type": "stream",
     "text": [
      "p-value: 0.0000000000000000000000000\n"
     ]
    }
   ],
   "source": [
    "for col in Xcategorical.columns:\n",
    "    table = pd.crosstab(Xcategorical[col], Ycategorical)\n",
    "    print()\n",
    "    display(table)\n",
    "    _, pval, _, expected_table = scipy.stats.chi2_contingency(table)\n",
    "    print(f\"p-value: {pval:.25f}\")"
   ]
  },
  {
   "cell_type": "code",
   "execution_count": 62,
   "id": "6b23ba7c",
   "metadata": {},
   "outputs": [
    {
     "data": {
      "text/html": [
       "<div>\n",
       "<style scoped>\n",
       "    .dataframe tbody tr th:only-of-type {\n",
       "        vertical-align: middle;\n",
       "    }\n",
       "\n",
       "    .dataframe tbody tr th {\n",
       "        vertical-align: top;\n",
       "    }\n",
       "\n",
       "    .dataframe thead th {\n",
       "        text-align: right;\n",
       "    }\n",
       "</style>\n",
       "<table border=\"1\" class=\"dataframe\">\n",
       "  <thead>\n",
       "    <tr style=\"text-align: right;\">\n",
       "      <th></th>\n",
       "      <th>grade</th>\n",
       "      <th>annual_inc</th>\n",
       "      <th>short_emp</th>\n",
       "      <th>emp_length_num</th>\n",
       "      <th>home_ownership</th>\n",
       "      <th>dti</th>\n",
       "      <th>purpose</th>\n",
       "      <th>term</th>\n",
       "      <th>last_delinq_none</th>\n",
       "      <th>revol_util</th>\n",
       "      <th>total_rec_late_fee</th>\n",
       "      <th>bad_loan</th>\n",
       "    </tr>\n",
       "  </thead>\n",
       "  <tbody>\n",
       "    <tr>\n",
       "      <th>0</th>\n",
       "      <td>A</td>\n",
       "      <td>100000.0</td>\n",
       "      <td>1</td>\n",
       "      <td>1</td>\n",
       "      <td>RENT</td>\n",
       "      <td>26.27</td>\n",
       "      <td>credit_card</td>\n",
       "      <td>36 months</td>\n",
       "      <td>1</td>\n",
       "      <td>43.2</td>\n",
       "      <td>0.0</td>\n",
       "      <td>0</td>\n",
       "    </tr>\n",
       "    <tr>\n",
       "      <th>1</th>\n",
       "      <td>A</td>\n",
       "      <td>83000.0</td>\n",
       "      <td>0</td>\n",
       "      <td>4</td>\n",
       "      <td>OWN</td>\n",
       "      <td>5.39</td>\n",
       "      <td>credit_card</td>\n",
       "      <td>36 months</td>\n",
       "      <td>0</td>\n",
       "      <td>21.5</td>\n",
       "      <td>0.0</td>\n",
       "      <td>0</td>\n",
       "    </tr>\n",
       "    <tr>\n",
       "      <th>2</th>\n",
       "      <td>D</td>\n",
       "      <td>78000.0</td>\n",
       "      <td>0</td>\n",
       "      <td>11</td>\n",
       "      <td>MORTGAGE</td>\n",
       "      <td>18.45</td>\n",
       "      <td>debt_consolidation</td>\n",
       "      <td>60 months</td>\n",
       "      <td>1</td>\n",
       "      <td>46.3</td>\n",
       "      <td>0.0</td>\n",
       "      <td>1</td>\n",
       "    </tr>\n",
       "    <tr>\n",
       "      <th>3</th>\n",
       "      <td>D</td>\n",
       "      <td>37536.0</td>\n",
       "      <td>0</td>\n",
       "      <td>6</td>\n",
       "      <td>MORTGAGE</td>\n",
       "      <td>12.28</td>\n",
       "      <td>medical</td>\n",
       "      <td>60 months</td>\n",
       "      <td>0</td>\n",
       "      <td>10.7</td>\n",
       "      <td>0.0</td>\n",
       "      <td>1</td>\n",
       "    </tr>\n",
       "    <tr>\n",
       "      <th>4</th>\n",
       "      <td>D</td>\n",
       "      <td>65000.0</td>\n",
       "      <td>0</td>\n",
       "      <td>11</td>\n",
       "      <td>MORTGAGE</td>\n",
       "      <td>11.26</td>\n",
       "      <td>debt_consolidation</td>\n",
       "      <td>36 months</td>\n",
       "      <td>0</td>\n",
       "      <td>15.2</td>\n",
       "      <td>0.0</td>\n",
       "      <td>0</td>\n",
       "    </tr>\n",
       "  </tbody>\n",
       "</table>\n",
       "</div>"
      ],
      "text/plain": [
       "  grade  annual_inc  short_emp  emp_length_num home_ownership    dti  \\\n",
       "0     A    100000.0          1               1           RENT  26.27   \n",
       "1     A     83000.0          0               4            OWN   5.39   \n",
       "2     D     78000.0          0              11       MORTGAGE  18.45   \n",
       "3     D     37536.0          0               6       MORTGAGE  12.28   \n",
       "4     D     65000.0          0              11       MORTGAGE  11.26   \n",
       "\n",
       "              purpose        term  last_delinq_none  revol_util  \\\n",
       "0         credit_card   36 months                 1        43.2   \n",
       "1         credit_card   36 months                 0        21.5   \n",
       "2  debt_consolidation   60 months                 1        46.3   \n",
       "3             medical   60 months                 0        10.7   \n",
       "4  debt_consolidation   36 months                 0        15.2   \n",
       "\n",
       "   total_rec_late_fee  bad_loan  \n",
       "0                 0.0         0  \n",
       "1                 0.0         0  \n",
       "2                 0.0         1  \n",
       "3                 0.0         1  \n",
       "4                 0.0         0  "
      ]
     },
     "execution_count": 62,
     "metadata": {},
     "output_type": "execute_result"
    }
   ],
   "source": [
    "data.head()"
   ]
  },
  {
   "cell_type": "markdown",
   "id": "9ea4d4d6",
   "metadata": {},
   "source": [
    "### ENCODING "
   ]
  },
  {
   "cell_type": "markdown",
   "id": "0cfff155",
   "metadata": {},
   "source": [
    "#### ' grade '\n"
   ]
  },
  {
   "cell_type": "code",
   "execution_count": 63,
   "id": "cf0c8aff",
   "metadata": {},
   "outputs": [],
   "source": [
    "data[\"grade\"] = data.grade.map({\"A\":7, \"B\":6, \"C\":5, \"D\":4, \"E\":3, \"F\":2, \"G\":1})"
   ]
  },
  {
   "cell_type": "markdown",
   "id": "b6b4fa1c",
   "metadata": {},
   "source": [
    "#### ' term ' , ' home_ownership' , ' purpose '"
   ]
  },
  {
   "cell_type": "code",
   "execution_count": 64,
   "id": "1ef09aea",
   "metadata": {},
   "outputs": [],
   "source": [
    "df_term = data.term\n",
    "df_home = data.home_ownership\n",
    "df_purp = data.purpose\n",
    "\n",
    "# term\n",
    "t_ohe = pd.get_dummies(df_term)\n",
    "bin_enc_term = BinaryEncoder()\n",
    "t_bin = bin_enc_term.fit_transform(df_term)\n",
    "\n",
    "h_ohe = pd.get_dummies(df_home)\n",
    "bin_enc_home = BinaryEncoder()\n",
    "h_bin = bin_enc_home.fit_transform(df_home)\n",
    "\n",
    "\n",
    "p_ohe = pd.get_dummies(df_purp)\n",
    "bin_enc_purp = BinaryEncoder()\n",
    "p_bin = bin_enc_purp.fit_transform(df_purp)"
   ]
  },
  {
   "cell_type": "code",
   "execution_count": 65,
   "id": "98fd88ef",
   "metadata": {},
   "outputs": [
    {
     "name": "stdout",
     "output_type": "stream",
     "text": [
      "##BINARY Column Size###\n",
      "term : 2\n",
      "home_ownership : 2\n",
      "purpose : 4\n",
      "### OHE Column Size###\n",
      "term : 2\n",
      "home_ownership : 3\n",
      "purpose : 12\n"
     ]
    }
   ],
   "source": [
    "print(\"##BINARY Column Size###\")\n",
    "print ( \"term : \"+ str(len(t_bin.columns)))\n",
    "print ( \"home_ownership : \"+ str(len(h_bin.columns)))\n",
    "print ( \"purpose : \"+ str(len(p_bin.columns)))\n",
    "\n",
    "\n",
    "print(\"### OHE Column Size###\")\n",
    "print (\"term : \" + str(len(t_ohe.columns)))\n",
    "print (\"home_ownership : \" + str(len(h_ohe.columns)))\n",
    "print (\"purpose : \" + str(len(p_ohe.columns)))\n"
   ]
  },
  {
   "cell_type": "markdown",
   "id": "1cd4707c",
   "metadata": {},
   "source": [
    " - According to result term and home_ownership are selected as One Hot Encoding\n",
    " - On the other hand purpose is selected as Binary Encoding"
   ]
  },
  {
   "cell_type": "code",
   "execution_count": 66,
   "id": "db8d2cd5",
   "metadata": {},
   "outputs": [],
   "source": [
    "data = pd.get_dummies(data, columns=[\"term\",\"home_ownership\"])"
   ]
  },
  {
   "cell_type": "code",
   "execution_count": 67,
   "id": "770675ba",
   "metadata": {},
   "outputs": [],
   "source": [
    "bin_enc_purp = BinaryEncoder()\n",
    "data_bin = bin_enc_purp.fit_transform(data.purpose)"
   ]
  },
  {
   "cell_type": "code",
   "execution_count": 68,
   "id": "bc699bcb",
   "metadata": {},
   "outputs": [
    {
     "data": {
      "text/html": [
       "<div>\n",
       "<style scoped>\n",
       "    .dataframe tbody tr th:only-of-type {\n",
       "        vertical-align: middle;\n",
       "    }\n",
       "\n",
       "    .dataframe tbody tr th {\n",
       "        vertical-align: top;\n",
       "    }\n",
       "\n",
       "    .dataframe thead th {\n",
       "        text-align: right;\n",
       "    }\n",
       "</style>\n",
       "<table border=\"1\" class=\"dataframe\">\n",
       "  <thead>\n",
       "    <tr style=\"text-align: right;\">\n",
       "      <th></th>\n",
       "      <th>grade</th>\n",
       "      <th>annual_inc</th>\n",
       "      <th>short_emp</th>\n",
       "      <th>emp_length_num</th>\n",
       "      <th>dti</th>\n",
       "      <th>last_delinq_none</th>\n",
       "      <th>revol_util</th>\n",
       "      <th>total_rec_late_fee</th>\n",
       "      <th>bad_loan</th>\n",
       "      <th>term_ 36 months</th>\n",
       "      <th>term_ 60 months</th>\n",
       "      <th>home_ownership_mortgage</th>\n",
       "      <th>home_ownership_own</th>\n",
       "      <th>home_ownership_rent</th>\n",
       "      <th>purpose_0</th>\n",
       "      <th>purpose_1</th>\n",
       "      <th>purpose_2</th>\n",
       "      <th>purpose_3</th>\n",
       "    </tr>\n",
       "  </thead>\n",
       "  <tbody>\n",
       "    <tr>\n",
       "      <th>0</th>\n",
       "      <td>7</td>\n",
       "      <td>100000.0</td>\n",
       "      <td>1</td>\n",
       "      <td>1</td>\n",
       "      <td>26.27</td>\n",
       "      <td>1</td>\n",
       "      <td>43.2</td>\n",
       "      <td>0.0</td>\n",
       "      <td>0</td>\n",
       "      <td>1</td>\n",
       "      <td>0</td>\n",
       "      <td>0</td>\n",
       "      <td>0</td>\n",
       "      <td>1</td>\n",
       "      <td>0</td>\n",
       "      <td>0</td>\n",
       "      <td>0</td>\n",
       "      <td>1</td>\n",
       "    </tr>\n",
       "    <tr>\n",
       "      <th>1</th>\n",
       "      <td>7</td>\n",
       "      <td>83000.0</td>\n",
       "      <td>0</td>\n",
       "      <td>4</td>\n",
       "      <td>5.39</td>\n",
       "      <td>0</td>\n",
       "      <td>21.5</td>\n",
       "      <td>0.0</td>\n",
       "      <td>0</td>\n",
       "      <td>1</td>\n",
       "      <td>0</td>\n",
       "      <td>0</td>\n",
       "      <td>1</td>\n",
       "      <td>0</td>\n",
       "      <td>0</td>\n",
       "      <td>0</td>\n",
       "      <td>0</td>\n",
       "      <td>1</td>\n",
       "    </tr>\n",
       "    <tr>\n",
       "      <th>2</th>\n",
       "      <td>4</td>\n",
       "      <td>78000.0</td>\n",
       "      <td>0</td>\n",
       "      <td>11</td>\n",
       "      <td>18.45</td>\n",
       "      <td>1</td>\n",
       "      <td>46.3</td>\n",
       "      <td>0.0</td>\n",
       "      <td>1</td>\n",
       "      <td>0</td>\n",
       "      <td>1</td>\n",
       "      <td>1</td>\n",
       "      <td>0</td>\n",
       "      <td>0</td>\n",
       "      <td>0</td>\n",
       "      <td>0</td>\n",
       "      <td>1</td>\n",
       "      <td>0</td>\n",
       "    </tr>\n",
       "    <tr>\n",
       "      <th>3</th>\n",
       "      <td>4</td>\n",
       "      <td>37536.0</td>\n",
       "      <td>0</td>\n",
       "      <td>6</td>\n",
       "      <td>12.28</td>\n",
       "      <td>0</td>\n",
       "      <td>10.7</td>\n",
       "      <td>0.0</td>\n",
       "      <td>1</td>\n",
       "      <td>0</td>\n",
       "      <td>1</td>\n",
       "      <td>1</td>\n",
       "      <td>0</td>\n",
       "      <td>0</td>\n",
       "      <td>0</td>\n",
       "      <td>0</td>\n",
       "      <td>1</td>\n",
       "      <td>1</td>\n",
       "    </tr>\n",
       "    <tr>\n",
       "      <th>4</th>\n",
       "      <td>4</td>\n",
       "      <td>65000.0</td>\n",
       "      <td>0</td>\n",
       "      <td>11</td>\n",
       "      <td>11.26</td>\n",
       "      <td>0</td>\n",
       "      <td>15.2</td>\n",
       "      <td>0.0</td>\n",
       "      <td>0</td>\n",
       "      <td>1</td>\n",
       "      <td>0</td>\n",
       "      <td>1</td>\n",
       "      <td>0</td>\n",
       "      <td>0</td>\n",
       "      <td>0</td>\n",
       "      <td>0</td>\n",
       "      <td>1</td>\n",
       "      <td>0</td>\n",
       "    </tr>\n",
       "  </tbody>\n",
       "</table>\n",
       "</div>"
      ],
      "text/plain": [
       "   grade  annual_inc  short_emp  emp_length_num    dti  last_delinq_none  \\\n",
       "0      7    100000.0          1               1  26.27                 1   \n",
       "1      7     83000.0          0               4   5.39                 0   \n",
       "2      4     78000.0          0              11  18.45                 1   \n",
       "3      4     37536.0          0               6  12.28                 0   \n",
       "4      4     65000.0          0              11  11.26                 0   \n",
       "\n",
       "   revol_util  total_rec_late_fee  bad_loan  term_ 36 months  term_ 60 months  \\\n",
       "0        43.2                 0.0         0                1                0   \n",
       "1        21.5                 0.0         0                1                0   \n",
       "2        46.3                 0.0         1                0                1   \n",
       "3        10.7                 0.0         1                0                1   \n",
       "4        15.2                 0.0         0                1                0   \n",
       "\n",
       "   home_ownership_mortgage  home_ownership_own  home_ownership_rent  \\\n",
       "0                        0                   0                    1   \n",
       "1                        0                   1                    0   \n",
       "2                        1                   0                    0   \n",
       "3                        1                   0                    0   \n",
       "4                        1                   0                    0   \n",
       "\n",
       "   purpose_0  purpose_1  purpose_2  purpose_3  \n",
       "0          0          0          0          1  \n",
       "1          0          0          0          1  \n",
       "2          0          0          1          0  \n",
       "3          0          0          1          1  \n",
       "4          0          0          1          0  "
      ]
     },
     "execution_count": 68,
     "metadata": {},
     "output_type": "execute_result"
    }
   ],
   "source": [
    "df = pd.concat([data,data_bin],axis=1)\n",
    "df.drop([\"purpose\"], axis=1, inplace=True)\n",
    "df.columns = [x.lower() for x in df.columns]\n",
    "df.head()"
   ]
  },
  {
   "cell_type": "code",
   "execution_count": 69,
   "id": "37b09a9a",
   "metadata": {},
   "outputs": [
    {
     "data": {
      "text/plain": [
       "Index(['grade', 'annual_inc', 'short_emp', 'emp_length_num', 'dti',\n",
       "       'last_delinq_none', 'revol_util', 'total_rec_late_fee', 'bad_loan',\n",
       "       'term_ 36 months', 'term_ 60 months', 'home_ownership_mortgage',\n",
       "       'home_ownership_own', 'home_ownership_rent', 'purpose_0', 'purpose_1',\n",
       "       'purpose_2', 'purpose_3'],\n",
       "      dtype='object')"
      ]
     },
     "execution_count": 69,
     "metadata": {},
     "output_type": "execute_result"
    }
   ],
   "source": [
    "df.columns"
   ]
  },
  {
   "cell_type": "code",
   "execution_count": null,
   "id": "7dce4a57",
   "metadata": {},
   "outputs": [],
   "source": []
  },
  {
   "cell_type": "markdown",
   "id": "c6123158",
   "metadata": {},
   "source": [
    "# ML : Models"
   ]
  },
  {
   "cell_type": "markdown",
   "id": "999ba05d",
   "metadata": {},
   "source": [
    " - Logistic Regression\n",
    " - KNN\n",
    " - SVM\n",
    " - Decision Tree\n",
    " - Random Forest\n",
    " - Neural Network"
   ]
  },
  {
   "cell_type": "code",
   "execution_count": 70,
   "id": "e9b35873",
   "metadata": {},
   "outputs": [],
   "source": [
    "def auc_roc_plot(y_test, y_preds):\n",
    "    fpr, tpr, thresholds = roc_curve(y_test,y_preds)\n",
    "    \n",
    "    roc_auc = auc(fpr, tpr)   \n",
    "    \n",
    "    print(roc_auc)    \n",
    "    plt.title('Receiver Operating Characteristic')\n",
    "    plt.plot(fpr, tpr, 'b', label = 'AUC = %0.2f' % roc_auc)\n",
    "    plt.legend(loc = 'lower right')\n",
    "    plt.plot([0, 1], [0, 1],'r--')\n",
    "    plt.xlim([0, 1])\n",
    "    plt.ylim([0, 1])\n",
    "    plt.ylabel('True Positive Rate')\n",
    "    plt.xlabel('False Positive Rate')\n",
    "    plt.show()\n",
    "    return roc_auc;"
   ]
  },
  {
   "cell_type": "markdown",
   "id": "7764d300",
   "metadata": {},
   "source": [
    "# LOGISTIC REGRESSION"
   ]
  },
  {
   "cell_type": "code",
   "execution_count": 71,
   "id": "82e879b5",
   "metadata": {},
   "outputs": [
    {
     "name": "stdout",
     "output_type": "stream",
     "text": [
      "Wall time: 0 ns\n",
      "Wall time: 0 ns\n"
     ]
    }
   ],
   "source": [
    "# Making a copy of the dataset\n",
    "df_lr = df.copy()\n",
    "\n",
    "\n",
    "\n",
    "# Dividing the dataset in train (80%) and test (20%)\n",
    "train_set_lr, test_set_lr = train_test_split(df_lr, test_size = 0.2, random_state = seed)\n",
    "\n",
    "X_train_lr = train_set_lr.drop(['bad_loan'], axis = 1)\n",
    "y_train_lr = train_set_lr['bad_loan']\n",
    "\n",
    "X_test_lr = test_set_lr.drop(['bad_loan'], axis = 1)\n",
    "y_test_lr = test_set_lr['bad_loan']\n",
    "\n",
    "\n",
    "# Normalizing the train and test data\n",
    "\n",
    "scaler_lr = MinMaxScaler()\n",
    "features_names = X_train_lr.columns\n",
    "\n",
    "X_train_lr = scaler_lr.fit_transform(X_train_lr)\n",
    "X_train_lr = pd.DataFrame(X_train_lr, columns = features_names)\n",
    "\n",
    "X_test_lr = scaler_lr.transform(X_test_lr)\n",
    "X_test_lr = pd.DataFrame(X_test_lr, columns = features_names)\n",
    "\n",
    "%time\n",
    "lr = LogisticRegression(max_iter = 1000, solver = 'lbfgs', random_state = seed, class_weight = 'balanced' )\n",
    "parameters = {'C':[0.001, 0.01, 0.1, 1, 10, 100]} #Inverse of regularization strength\n",
    "clf_lr = GridSearchCV(lr, parameters, cv=5).fit(X_train_lr, y_train_lr)\n",
    "%time\n"
   ]
  },
  {
   "cell_type": "code",
   "execution_count": 72,
   "id": "32c91374",
   "metadata": {},
   "outputs": [
    {
     "data": {
      "text/plain": [
       "GridSearchCV(cv=5,\n",
       "             estimator=LogisticRegression(class_weight='balanced',\n",
       "                                          max_iter=1000, random_state=42),\n",
       "             param_grid={'C': [0.001, 0.01, 0.1, 1, 10, 100]})"
      ]
     },
     "execution_count": 72,
     "metadata": {},
     "output_type": "execute_result"
    }
   ],
   "source": [
    "clf_lr"
   ]
  },
  {
   "cell_type": "code",
   "execution_count": 73,
   "id": "0899a810",
   "metadata": {},
   "outputs": [
    {
     "data": {
      "text/plain": [
       "LogisticRegression(C=100, class_weight='balanced', max_iter=1000,\n",
       "                   random_state=42)"
      ]
     },
     "execution_count": 73,
     "metadata": {},
     "output_type": "execute_result"
    }
   ],
   "source": [
    "clf_lr.best_estimator_"
   ]
  },
  {
   "cell_type": "code",
   "execution_count": 74,
   "id": "dd6512a5",
   "metadata": {},
   "outputs": [],
   "source": [
    "y_preds_lr = clf_lr.predict_proba(X_test_lr)[:,1]"
   ]
  },
  {
   "cell_type": "code",
   "execution_count": 75,
   "id": "a58c6d3f",
   "metadata": {},
   "outputs": [
    {
     "name": "stdout",
     "output_type": "stream",
     "text": [
      "0.706706354146872\n"
     ]
    },
    {
     "data": {
      "image/png": "[encoded data removed]",
      "text/plain": [
       "<Figure size 432x288 with 1 Axes>"
      ]
     },
     "metadata": {
      "needs_background": "light"
     },
     "output_type": "display_data"
    }
   ],
   "source": [
    "aucroclr = auc_roc_plot(y_test_lr, y_preds_lr)"
   ]
  },
  {
   "cell_type": "code",
   "execution_count": 76,
   "id": "cb28aad8",
   "metadata": {},
   "outputs": [
    {
     "data": {
      "image/png": "[encoded data removed]",
      "text/plain": [
       "<Figure size 432x288 with 2 Axes>"
      ]
     },
     "metadata": {
      "needs_background": "light"
     },
     "output_type": "display_data"
    }
   ],
   "source": [
    "plot_confusion_matrix(clf_lr, X_test_lr, y_test_lr, values_format=\".4g\", cmap=\"Blues\");\n",
    "\n",
    "tn, fp, fn, tp = confusion_matrix(y_test_lr == 1, y_preds_lr > 0.5).ravel()\n",
    "\n",
    "tn_lr = tn\n",
    "fp_lr = fp\n",
    "fn_lr = fn\n",
    "tp_lr = tp"
   ]
  },
  {
   "cell_type": "markdown",
   "id": "8e645167",
   "metadata": {},
   "source": [
    "# KNN"
   ]
  },
  {
   "cell_type": "code",
   "execution_count": 77,
   "id": "ca300962",
   "metadata": {},
   "outputs": [
    {
     "name": "stdout",
     "output_type": "stream",
     "text": [
      "Wall time: 0 ns\n",
      "Accuracy for k =  2 is :  0.793939393939394\n",
      "Accuracy for k =  7 is :  0.7934343434343434\n",
      "Accuracy for k =  12 is :  0.805050505050505\n",
      "Accuracy for k =  17 is :  0.807070707070707\n",
      "Accuracy for k =  22 is :  0.8063131313131313\n",
      "Accuracy for k =  27 is :  0.805050505050505\n",
      "Accuracy for k =  32 is :  0.8058080808080809\n",
      "Accuracy for k =  37 is :  0.806060606060606\n",
      "Accuracy for k =  42 is :  0.8068181818181818\n",
      "Accuracy for k =  47 is :  0.8053030303030303\n",
      "Accuracy for k =  52 is :  0.8065656565656566\n",
      "Accuracy for k =  57 is :  0.8058080808080809\n",
      "Accuracy for k =  62 is :  0.8065656565656566\n",
      "Accuracy for k =  67 is :  0.8068181818181818\n",
      "Accuracy for k =  72 is :  0.807070707070707\n",
      "Accuracy for k =  77 is :  0.8065656565656566\n",
      "Accuracy for k =  82 is :  0.8068181818181818\n",
      "Accuracy for k =  87 is :  0.807070707070707\n",
      "Accuracy for k =  92 is :  0.8068181818181818\n",
      "Accuracy for k =  97 is :  0.8073232323232323\n",
      "Accuracy for k =  102 is :  0.807070707070707\n",
      "Accuracy for k =  107 is :  0.8068181818181818\n",
      "Accuracy for k =  112 is :  0.807070707070707\n",
      "Accuracy for k =  117 is :  0.807070707070707\n",
      "Accuracy for k =  122 is :  0.807070707070707\n",
      "Accuracy for k =  127 is :  0.807070707070707\n",
      "Accuracy for k =  132 is :  0.807070707070707\n",
      "Accuracy for k =  137 is :  0.807070707070707\n",
      "Accuracy for k =  142 is :  0.807070707070707\n",
      "Accuracy for k =  147 is :  0.807070707070707\n",
      "Accuracy for k =  152 is :  0.807070707070707\n",
      "Accuracy for k =  157 is :  0.807070707070707\n",
      "Accuracy for k =  162 is :  0.807070707070707\n",
      "Accuracy for k =  167 is :  0.807070707070707\n",
      "Accuracy for k =  172 is :  0.807070707070707\n",
      "Accuracy for k =  177 is :  0.807070707070707\n",
      "Accuracy for k =  182 is :  0.807070707070707\n",
      "Accuracy for k =  187 is :  0.807070707070707\n",
      "Accuracy for k =  192 is :  0.807070707070707\n",
      "Accuracy for k =  197 is :  0.807070707070707\n"
     ]
    }
   ],
   "source": [
    "df_knn = df.copy()\n",
    "\n",
    "\n",
    "\n",
    "train_set_knn, test_set_knn = train_test_split(df_knn, test_size = 0.2, random_state = seed)\n",
    "\n",
    "X_train_knn = train_set_knn.drop(['bad_loan'], axis = 1)\n",
    "y_train_knn = train_set_knn['bad_loan']\n",
    "\n",
    "X_test_knn = test_set_knn.drop(['bad_loan'], axis = 1)\n",
    "y_test_knn = test_set_knn['bad_loan']\n",
    "\n",
    "\n",
    "\n",
    "scaler_knn = MinMaxScaler()\n",
    "features_names = X_train_knn.columns\n",
    "\n",
    "X_train_knn = scaler_knn.fit_transform(X_train_knn)\n",
    "X_train_knn = pd.DataFrame(X_train_knn, columns = features_names)\n",
    "\n",
    "X_test_knn = scaler_knn.transform(X_test_knn)\n",
    "X_test_knn = pd.DataFrame(X_test_knn, columns = features_names)\n",
    "\n",
    "%time\n",
    "max = 0\n",
    "best_k = 0\n",
    "for k in range(1, 200, 5):\n",
    "    k = k + 1\n",
    "    knn = KNeighborsClassifier(n_neighbors = k).fit(X_train_knn, y_train_knn)\n",
    "    acc = knn.score(X_test_knn, y_test_knn)\n",
    "    if(acc > max):\n",
    "        max = acc\n",
    "        best_k = k\n",
    "    print('Accuracy for k = ', k , 'is : ' , acc)"
   ]
  },
  {
   "cell_type": "code",
   "execution_count": 78,
   "id": "d80ac647",
   "metadata": {},
   "outputs": [
    {
     "name": "stdout",
     "output_type": "stream",
     "text": [
      "Wall time: 0 ns\n"
     ]
    }
   ],
   "source": [
    "%time\n",
    "knn = KNeighborsClassifier(n_neighbors = best_k, weights='uniform').fit(X_train_knn, y_train_knn)\n",
    "\n",
    "y_preds_knn = knn.predict(X_test_knn)"
   ]
  },
  {
   "cell_type": "code",
   "execution_count": 79,
   "id": "595dc587",
   "metadata": {},
   "outputs": [
    {
     "name": "stdout",
     "output_type": "stream",
     "text": [
      "0.5006544502617801\n"
     ]
    },
    {
     "data": {
      "image/png": "[encoded data removed]",
      "text/plain": [
       "<Figure size 432x288 with 1 Axes>"
      ]
     },
     "metadata": {
      "needs_background": "light"
     },
     "output_type": "display_data"
    }
   ],
   "source": [
    "aucrocknn = auc_roc_plot(y_test_knn, y_preds_knn)"
   ]
  },
  {
   "cell_type": "code",
   "execution_count": 80,
   "id": "c476f4f6",
   "metadata": {},
   "outputs": [
    {
     "data": {
      "image/png": "[encoded data removed]",
      "text/plain": [
       "<Figure size 432x288 with 2 Axes>"
      ]
     },
     "metadata": {
      "needs_background": "light"
     },
     "output_type": "display_data"
    }
   ],
   "source": [
    "plot_confusion_matrix(knn, X_test_knn, y_test_knn, values_format=\".4g\", cmap=\"Blues\");\n",
    "\n",
    "tn, fp, fn, tp = confusion_matrix(y_test_knn == 1, y_preds_knn > 0.5).ravel()\n",
    "\n",
    "tn_knn = tn\n",
    "fp_knn = fp\n",
    "fn_knn = fn\n",
    "tp_knn = tp"
   ]
  },
  {
   "cell_type": "markdown",
   "id": "e1bf1656",
   "metadata": {},
   "source": [
    "# support vector machine"
   ]
  },
  {
   "cell_type": "code",
   "execution_count": 81,
   "id": "c2eac544",
   "metadata": {},
   "outputs": [
    {
     "name": "stdout",
     "output_type": "stream",
     "text": [
      "Wall time: 0 ns\n",
      "[LibSVM][LibSVM][LibSVM][LibSVM][LibSVM][LibSVM][LibSVM][LibSVM][LibSVM][LibSVM][LibSVM][LibSVM][LibSVM][LibSVM][LibSVM][LibSVM]"
     ]
    }
   ],
   "source": [
    "df_svm = df.copy()\n",
    "\n",
    "train_set_svc, test_set_svc = train_test_split(df_svm, test_size = 0.2, random_state = seed)\n",
    "\n",
    "X_train_svc = train_set_svc.drop(['bad_loan'], axis = 1)\n",
    "y_train_svc = train_set_svc['bad_loan']\n",
    "X_test_svc = test_set_svc.drop(['bad_loan'], axis = 1)\n",
    "y_test_svc = test_set_svc['bad_loan']\n",
    "\n",
    "scaler_svc = MinMaxScaler()\n",
    "features_names = X_train_svc.columns\n",
    "\n",
    "X_train_svc = scaler_svc.fit_transform(X_train_svc)\n",
    "X_train_svc = pd.DataFrame(X_train_svc, columns = features_names)\n",
    "\n",
    "X_test_svc = scaler_svc.transform(X_test_svc)\n",
    "X_test_svc = pd.DataFrame(X_test_svc, columns = features_names)\n",
    "\n",
    "%time\n",
    "svc = SVC(random_state=seed, class_weight='balanced',probability=True, verbose=True)\n",
    "\n",
    "parameters = {'C':[0.1, 1, 10]}\n",
    "clf_svc = GridSearchCV(svc, parameters, cv = 5).fit(X_train_svc, y_train_svc)"
   ]
  },
  {
   "cell_type": "code",
   "execution_count": 82,
   "id": "38629949",
   "metadata": {},
   "outputs": [
    {
     "data": {
      "text/plain": [
       "SVC(C=10, class_weight='balanced', probability=True, random_state=42,\n",
       "    verbose=True)"
      ]
     },
     "execution_count": 82,
     "metadata": {},
     "output_type": "execute_result"
    }
   ],
   "source": [
    "clf_svc.best_estimator_"
   ]
  },
  {
   "cell_type": "code",
   "execution_count": 83,
   "id": "76d452e3",
   "metadata": {},
   "outputs": [],
   "source": [
    "y_preds_svc = clf_svc.predict_proba(X_test_svc)[:,1]"
   ]
  },
  {
   "cell_type": "code",
   "execution_count": 84,
   "id": "455b54ee",
   "metadata": {},
   "outputs": [
    {
     "name": "stdout",
     "output_type": "stream",
     "text": [
      "0.6885770989915404\n"
     ]
    },
    {
     "data": {
      "image/png": "[encoded data removed]",
      "text/plain": [
       "<Figure size 432x288 with 1 Axes>"
      ]
     },
     "metadata": {
      "needs_background": "light"
     },
     "output_type": "display_data"
    }
   ],
   "source": [
    "aucrocsvc = auc_roc_plot(y_test_svc, y_preds_svc)"
   ]
  },
  {
   "cell_type": "code",
   "execution_count": 85,
   "id": "ecb832d8",
   "metadata": {},
   "outputs": [
    {
     "data": {
      "image/png": "[encoded data removed]",
      "text/plain": [
       "<Figure size 432x288 with 2 Axes>"
      ]
     },
     "metadata": {
      "needs_background": "light"
     },
     "output_type": "display_data"
    }
   ],
   "source": [
    "# Confusion Matrix display\n",
    "plot_confusion_matrix(clf_svc, X_test_svc, y_test_svc, values_format=\".4g\", cmap=\"Blues\");\n",
    "                   \n",
    "tn, fp, fn, tp = confusion_matrix(y_test_svc == 1, y_preds_svc > 0.5).ravel()\n",
    "\n",
    "tn_svc = tn\n",
    "fp_svc = fp\n",
    "fn_svc = fn\n",
    "tp_svc = tp"
   ]
  },
  {
   "cell_type": "markdown",
   "id": "846cfd6d",
   "metadata": {},
   "source": [
    "# DESICION TREE"
   ]
  },
  {
   "cell_type": "code",
   "execution_count": 86,
   "id": "bdd9de13",
   "metadata": {},
   "outputs": [
    {
     "name": "stdout",
     "output_type": "stream",
     "text": [
      "Wall time: 0 ns\n"
     ]
    },
    {
     "data": {
      "text/html": [
       "<div>\n",
       "<style scoped>\n",
       "    .dataframe tbody tr th:only-of-type {\n",
       "        vertical-align: middle;\n",
       "    }\n",
       "\n",
       "    .dataframe tbody tr th {\n",
       "        vertical-align: top;\n",
       "    }\n",
       "\n",
       "    .dataframe thead th {\n",
       "        text-align: right;\n",
       "    }\n",
       "</style>\n",
       "<table border=\"1\" class=\"dataframe\">\n",
       "  <thead>\n",
       "    <tr style=\"text-align: right;\">\n",
       "      <th></th>\n",
       "      <th>value</th>\n",
       "    </tr>\n",
       "  </thead>\n",
       "  <tbody>\n",
       "    <tr>\n",
       "      <th>dti</th>\n",
       "      <td>0.252338</td>\n",
       "    </tr>\n",
       "    <tr>\n",
       "      <th>grade</th>\n",
       "      <td>0.216716</td>\n",
       "    </tr>\n",
       "    <tr>\n",
       "      <th>annual_inc</th>\n",
       "      <td>0.200247</td>\n",
       "    </tr>\n",
       "    <tr>\n",
       "      <th>revol_util</th>\n",
       "      <td>0.150732</td>\n",
       "    </tr>\n",
       "    <tr>\n",
       "      <th>emp_length_num</th>\n",
       "      <td>0.050589</td>\n",
       "    </tr>\n",
       "    <tr>\n",
       "      <th>term_ 36 months</th>\n",
       "      <td>0.022149</td>\n",
       "    </tr>\n",
       "    <tr>\n",
       "      <th>home_ownership_mortgage</th>\n",
       "      <td>0.018653</td>\n",
       "    </tr>\n",
       "    <tr>\n",
       "      <th>purpose_1</th>\n",
       "      <td>0.015956</td>\n",
       "    </tr>\n",
       "    <tr>\n",
       "      <th>last_delinq_none</th>\n",
       "      <td>0.012631</td>\n",
       "    </tr>\n",
       "    <tr>\n",
       "      <th>term_ 60 months</th>\n",
       "      <td>0.010606</td>\n",
       "    </tr>\n",
       "    <tr>\n",
       "      <th>purpose_2</th>\n",
       "      <td>0.009643</td>\n",
       "    </tr>\n",
       "    <tr>\n",
       "      <th>home_ownership_rent</th>\n",
       "      <td>0.008818</td>\n",
       "    </tr>\n",
       "    <tr>\n",
       "      <th>home_ownership_own</th>\n",
       "      <td>0.008249</td>\n",
       "    </tr>\n",
       "    <tr>\n",
       "      <th>short_emp</th>\n",
       "      <td>0.007917</td>\n",
       "    </tr>\n",
       "    <tr>\n",
       "      <th>purpose_3</th>\n",
       "      <td>0.007101</td>\n",
       "    </tr>\n",
       "    <tr>\n",
       "      <th>total_rec_late_fee</th>\n",
       "      <td>0.007039</td>\n",
       "    </tr>\n",
       "    <tr>\n",
       "      <th>purpose_0</th>\n",
       "      <td>0.000616</td>\n",
       "    </tr>\n",
       "  </tbody>\n",
       "</table>\n",
       "</div>"
      ],
      "text/plain": [
       "                            value\n",
       "dti                      0.252338\n",
       "grade                    0.216716\n",
       "annual_inc               0.200247\n",
       "revol_util               0.150732\n",
       "emp_length_num           0.050589\n",
       "term_ 36 months          0.022149\n",
       "home_ownership_mortgage  0.018653\n",
       "purpose_1                0.015956\n",
       "last_delinq_none         0.012631\n",
       "term_ 60 months          0.010606\n",
       "purpose_2                0.009643\n",
       "home_ownership_rent      0.008818\n",
       "home_ownership_own       0.008249\n",
       "short_emp                0.007917\n",
       "purpose_3                0.007101\n",
       "total_rec_late_fee       0.007039\n",
       "purpose_0                0.000616"
      ]
     },
     "execution_count": 86,
     "metadata": {},
     "output_type": "execute_result"
    }
   ],
   "source": [
    "df_trees = df.copy()\n",
    "\n",
    "train_set_dt, test_set_dt = train_test_split(df_trees, test_size = 0.2, random_state = seed)\n",
    "\n",
    "X_train_dt = train_set_dt.drop(['bad_loan'], axis = 1)\n",
    "y_train_dt = train_set_dt['bad_loan']\n",
    "\n",
    "X_test_dt = test_set_dt.drop(['bad_loan'], axis = 1)\n",
    "y_test_dt = test_set_dt['bad_loan']\n",
    "\n",
    "%time\n",
    "clf_tree = tree.DecisionTreeClassifier(random_state = seed, max_depth = 10).fit(X_train_dt, y_train_dt)\n",
    "\n",
    "important_features = pd.DataFrame(data = clf_tree.feature_importances_, index = X_train_dt.columns, columns = [\"value\"])\n",
    "important_features.sort_values(by = \"value\", ascending = False)"
   ]
  },
  {
   "cell_type": "code",
   "execution_count": 87,
   "id": "75536d3a",
   "metadata": {},
   "outputs": [],
   "source": [
    "y_preds_dt = clf_tree.predict_proba(X_test_dt)[:,1]"
   ]
  },
  {
   "cell_type": "code",
   "execution_count": 88,
   "id": "8016e24f",
   "metadata": {},
   "outputs": [
    {
     "name": "stdout",
     "output_type": "stream",
     "text": [
      "0.6320687180965736\n"
     ]
    },
    {
     "data": {
      "image/png": "[encoded data removed]",
      "text/plain": [
       "<Figure size 432x288 with 1 Axes>"
      ]
     },
     "metadata": {
      "needs_background": "light"
     },
     "output_type": "display_data"
    }
   ],
   "source": [
    "aucrocdt = auc_roc_plot(y_test_dt, y_preds_dt)"
   ]
  },
  {
   "cell_type": "code",
   "execution_count": 89,
   "id": "44f299db",
   "metadata": {},
   "outputs": [
    {
     "data": {
      "image/png": "[encoded data removed]",
      "text/plain": [
       "<Figure size 432x288 with 2 Axes>"
      ]
     },
     "metadata": {
      "needs_background": "light"
     },
     "output_type": "display_data"
    }
   ],
   "source": [
    "# Confusion Matrix display\n",
    "plot_confusion_matrix(clf_tree, X_test_dt, y_test_dt, values_format=\".4g\", cmap=\"Blues\");\n",
    "                   \n",
    "tn, fp, fn, tp = confusion_matrix(y_test_dt == 1, y_preds_dt > 0.5).ravel()\n",
    "\n",
    "tn_dt = tn\n",
    "fp_dt = fp\n",
    "fn_dt = fn\n",
    "tp_dt= tp"
   ]
  },
  {
   "cell_type": "markdown",
   "id": "373dc3cc",
   "metadata": {},
   "source": [
    "# Random Forest"
   ]
  },
  {
   "cell_type": "code",
   "execution_count": 90,
   "id": "ef7a251b",
   "metadata": {},
   "outputs": [
    {
     "name": "stdout",
     "output_type": "stream",
     "text": [
      "Wall time: 0 ns\n"
     ]
    }
   ],
   "source": [
    "df_rf = df.copy() \n",
    "\n",
    "\n",
    "train_set_rf, test_set_rf = train_test_split(df_rf, test_size = 0.2, random_state = seed)\n",
    "X_train_rf = train_set_rf.drop(['bad_loan'], axis = 1)\n",
    "y_train_rf = train_set_rf['bad_loan']\n",
    "X_test_rf = test_set_rf.drop(['bad_loan'], axis = 1)\n",
    "y_test_rf = test_set_rf['bad_loan']\n",
    "\n",
    "%time\n",
    "rf = RandomForestClassifier(random_state = seed, class_weight = None).fit(X_train_rf, y_train_rf)\n",
    "parameters = {'n_estimators':[10, 100, 300, 1000]} # The number of trees in the forest.\n",
    "clf_rf = GridSearchCV(rf, parameters, cv = 5).fit(X_train_rf, y_train_rf)"
   ]
  },
  {
   "cell_type": "code",
   "execution_count": 91,
   "id": "e9ee7f28",
   "metadata": {},
   "outputs": [
    {
     "data": {
      "text/plain": [
       "RandomForestClassifier(n_estimators=1000, random_state=42)"
      ]
     },
     "execution_count": 91,
     "metadata": {},
     "output_type": "execute_result"
    }
   ],
   "source": [
    "clf_rf.best_estimator_"
   ]
  },
  {
   "cell_type": "code",
   "execution_count": 92,
   "id": "0948668a",
   "metadata": {},
   "outputs": [],
   "source": [
    "y_preds_rf = clf_rf.predict_proba(X_test_rf)[:,1]"
   ]
  },
  {
   "cell_type": "code",
   "execution_count": 93,
   "id": "c742b07b",
   "metadata": {},
   "outputs": [
    {
     "name": "stdout",
     "output_type": "stream",
     "text": [
      "0.6820268627669404\n"
     ]
    },
    {
     "data": {
      "image/png": "[encoded data removed]",
      "text/plain": [
       "<Figure size 432x288 with 1 Axes>"
      ]
     },
     "metadata": {
      "needs_background": "light"
     },
     "output_type": "display_data"
    }
   ],
   "source": [
    "aucrocrf = auc_roc_plot(y_test_rf, y_preds_rf)"
   ]
  },
  {
   "cell_type": "code",
   "execution_count": 94,
   "id": "abbf1d20",
   "metadata": {},
   "outputs": [
    {
     "data": {
      "image/png": "[encoded data removed]",
      "text/plain": [
       "<Figure size 432x288 with 2 Axes>"
      ]
     },
     "metadata": {
      "needs_background": "light"
     },
     "output_type": "display_data"
    }
   ],
   "source": [
    "\n",
    "plot_confusion_matrix(clf_rf, X_test_rf, y_test_rf, values_format=\".4g\", cmap=\"Blues\")\n",
    "\n",
    "tn, fp, fn, tp = confusion_matrix(y_test_rf == 1, y_preds_rf > 0.5).ravel()\n",
    "\n",
    "tn_rf = tn\n",
    "fp_rf = fp\n",
    "fn_rf = fn\n",
    "tp_rf = tp"
   ]
  },
  {
   "cell_type": "markdown",
   "id": "0a1ff919",
   "metadata": {},
   "source": [
    "# Neural Neworks (NN)"
   ]
  },
  {
   "cell_type": "code",
   "execution_count": 95,
   "id": "34c8fbed",
   "metadata": {},
   "outputs": [
    {
     "name": "stdout",
     "output_type": "stream",
     "text": [
      "Wall time: 0 ns\n"
     ]
    }
   ],
   "source": [
    "df_nn = df.copy()\n",
    "\n",
    "train_set_nn, test_set_nn = train_test_split(df_nn, test_size = 0.2, random_state = seed)\n",
    "\n",
    "X_train_nn = train_set_nn.drop(['bad_loan'], axis = 1)\n",
    "y_train_nn = train_set_nn['bad_loan']\n",
    "\n",
    "X_test_nn = test_set_nn.drop(['bad_loan'], axis = 1)\n",
    "y_test_nn = test_set_nn['bad_loan']\n",
    "\n",
    "scaler_nn = MinMaxScaler()\n",
    "features_names = X_train_nn.columns\n",
    "\n",
    "X_train_nn = scaler_nn.fit_transform(X_train_nn)\n",
    "X_train_nn = pd.DataFrame(X_train_nn, columns = features_names)\n",
    "\n",
    "X_test_nn = scaler_nn.transform(X_test_nn)\n",
    "X_test_nn = pd.DataFrame(X_test_nn, columns = features_names)\n",
    "\n",
    "%time\n",
    "mlp_nn = MLPClassifier(solver = 'adam', random_state = seed, max_iter = 1000 )\n",
    "#‘adam’ refers to a stochastic gradient-based optimizer proposed by Kingma\n",
    "parameters = {'hidden_layer_sizes': [(20,), (20,10), (20, 10, 2)],\n",
    "              'learning_rate_init':[0.0001, 0.001, 0.01, 0.1]}\n",
    "\n",
    "clf_nn = GridSearchCV(mlp_nn, parameters, cv = 5).fit(X_train_nn, y_train_nn)\n"
   ]
  },
  {
   "cell_type": "code",
   "execution_count": 96,
   "id": "1575bdd8",
   "metadata": {},
   "outputs": [
    {
     "data": {
      "text/html": [
       "<div>\n",
       "<style scoped>\n",
       "    .dataframe tbody tr th:only-of-type {\n",
       "        vertical-align: middle;\n",
       "    }\n",
       "\n",
       "    .dataframe tbody tr th {\n",
       "        vertical-align: top;\n",
       "    }\n",
       "\n",
       "    .dataframe thead th {\n",
       "        text-align: right;\n",
       "    }\n",
       "</style>\n",
       "<table border=\"1\" class=\"dataframe\">\n",
       "  <thead>\n",
       "    <tr style=\"text-align: right;\">\n",
       "      <th></th>\n",
       "      <th>grade</th>\n",
       "      <th>annual_inc</th>\n",
       "      <th>short_emp</th>\n",
       "      <th>emp_length_num</th>\n",
       "      <th>dti</th>\n",
       "      <th>last_delinq_none</th>\n",
       "      <th>revol_util</th>\n",
       "      <th>total_rec_late_fee</th>\n",
       "      <th>term_ 36 months</th>\n",
       "      <th>term_ 60 months</th>\n",
       "      <th>home_ownership_mortgage</th>\n",
       "      <th>home_ownership_own</th>\n",
       "      <th>home_ownership_rent</th>\n",
       "      <th>purpose_0</th>\n",
       "      <th>purpose_1</th>\n",
       "      <th>purpose_2</th>\n",
       "      <th>purpose_3</th>\n",
       "    </tr>\n",
       "  </thead>\n",
       "  <tbody>\n",
       "    <tr>\n",
       "      <th>0</th>\n",
       "      <td>0.833333</td>\n",
       "      <td>0.508239</td>\n",
       "      <td>0.0</td>\n",
       "      <td>0.545455</td>\n",
       "      <td>0.193770</td>\n",
       "      <td>0.0</td>\n",
       "      <td>0.378211</td>\n",
       "      <td>0.0</td>\n",
       "      <td>1.0</td>\n",
       "      <td>0.0</td>\n",
       "      <td>1.0</td>\n",
       "      <td>0.0</td>\n",
       "      <td>0.0</td>\n",
       "      <td>0.0</td>\n",
       "      <td>0.0</td>\n",
       "      <td>0.0</td>\n",
       "      <td>1.0</td>\n",
       "    </tr>\n",
       "    <tr>\n",
       "      <th>1</th>\n",
       "      <td>0.333333</td>\n",
       "      <td>0.390644</td>\n",
       "      <td>0.0</td>\n",
       "      <td>0.363636</td>\n",
       "      <td>0.345241</td>\n",
       "      <td>0.0</td>\n",
       "      <td>0.758193</td>\n",
       "      <td>0.0</td>\n",
       "      <td>1.0</td>\n",
       "      <td>0.0</td>\n",
       "      <td>0.0</td>\n",
       "      <td>0.0</td>\n",
       "      <td>1.0</td>\n",
       "      <td>0.0</td>\n",
       "      <td>0.0</td>\n",
       "      <td>1.0</td>\n",
       "      <td>0.0</td>\n",
       "    </tr>\n",
       "    <tr>\n",
       "      <th>2</th>\n",
       "      <td>0.833333</td>\n",
       "      <td>0.379953</td>\n",
       "      <td>1.0</td>\n",
       "      <td>0.000000</td>\n",
       "      <td>0.924264</td>\n",
       "      <td>1.0</td>\n",
       "      <td>0.604074</td>\n",
       "      <td>0.0</td>\n",
       "      <td>1.0</td>\n",
       "      <td>0.0</td>\n",
       "      <td>1.0</td>\n",
       "      <td>0.0</td>\n",
       "      <td>0.0</td>\n",
       "      <td>0.0</td>\n",
       "      <td>0.0</td>\n",
       "      <td>0.0</td>\n",
       "      <td>1.0</td>\n",
       "    </tr>\n",
       "    <tr>\n",
       "      <th>3</th>\n",
       "      <td>0.500000</td>\n",
       "      <td>0.201779</td>\n",
       "      <td>0.0</td>\n",
       "      <td>0.727273</td>\n",
       "      <td>0.292083</td>\n",
       "      <td>0.0</td>\n",
       "      <td>0.449956</td>\n",
       "      <td>0.0</td>\n",
       "      <td>1.0</td>\n",
       "      <td>0.0</td>\n",
       "      <td>0.0</td>\n",
       "      <td>0.0</td>\n",
       "      <td>1.0</td>\n",
       "      <td>0.0</td>\n",
       "      <td>0.0</td>\n",
       "      <td>1.0</td>\n",
       "      <td>0.0</td>\n",
       "    </tr>\n",
       "    <tr>\n",
       "      <th>4</th>\n",
       "      <td>0.166667</td>\n",
       "      <td>0.294430</td>\n",
       "      <td>0.0</td>\n",
       "      <td>0.636364</td>\n",
       "      <td>0.689340</td>\n",
       "      <td>0.0</td>\n",
       "      <td>0.432241</td>\n",
       "      <td>0.0</td>\n",
       "      <td>0.0</td>\n",
       "      <td>1.0</td>\n",
       "      <td>0.0</td>\n",
       "      <td>0.0</td>\n",
       "      <td>1.0</td>\n",
       "      <td>0.0</td>\n",
       "      <td>0.0</td>\n",
       "      <td>1.0</td>\n",
       "      <td>0.0</td>\n",
       "    </tr>\n",
       "  </tbody>\n",
       "</table>\n",
       "</div>"
      ],
      "text/plain": [
       "      grade  annual_inc  short_emp  emp_length_num       dti  \\\n",
       "0  0.833333    0.508239        0.0        0.545455  0.193770   \n",
       "1  0.333333    0.390644        0.0        0.363636  0.345241   \n",
       "2  0.833333    0.379953        1.0        0.000000  0.924264   \n",
       "3  0.500000    0.201779        0.0        0.727273  0.292083   \n",
       "4  0.166667    0.294430        0.0        0.636364  0.689340   \n",
       "\n",
       "   last_delinq_none  revol_util  total_rec_late_fee  term_ 36 months  \\\n",
       "0               0.0    0.378211                 0.0              1.0   \n",
       "1               0.0    0.758193                 0.0              1.0   \n",
       "2               1.0    0.604074                 0.0              1.0   \n",
       "3               0.0    0.449956                 0.0              1.0   \n",
       "4               0.0    0.432241                 0.0              0.0   \n",
       "\n",
       "   term_ 60 months  home_ownership_mortgage  home_ownership_own  \\\n",
       "0              0.0                      1.0                 0.0   \n",
       "1              0.0                      0.0                 0.0   \n",
       "2              0.0                      1.0                 0.0   \n",
       "3              0.0                      0.0                 0.0   \n",
       "4              1.0                      0.0                 0.0   \n",
       "\n",
       "   home_ownership_rent  purpose_0  purpose_1  purpose_2  purpose_3  \n",
       "0                  0.0        0.0        0.0        0.0        1.0  \n",
       "1                  1.0        0.0        0.0        1.0        0.0  \n",
       "2                  0.0        0.0        0.0        0.0        1.0  \n",
       "3                  1.0        0.0        0.0        1.0        0.0  \n",
       "4                  1.0        0.0        0.0        1.0        0.0  "
      ]
     },
     "execution_count": 96,
     "metadata": {},
     "output_type": "execute_result"
    }
   ],
   "source": [
    "X_test_nn.head()"
   ]
  },
  {
   "cell_type": "code",
   "execution_count": 97,
   "id": "ba40a619",
   "metadata": {},
   "outputs": [
    {
     "data": {
      "text/plain": [
       "MLPClassifier(hidden_layer_sizes=(20, 10), learning_rate_init=0.0001,\n",
       "              max_iter=1000, random_state=42)"
      ]
     },
     "execution_count": 97,
     "metadata": {},
     "output_type": "execute_result"
    }
   ],
   "source": [
    "clf_nn.best_estimator_"
   ]
  },
  {
   "cell_type": "code",
   "execution_count": 98,
   "id": "b11a5209",
   "metadata": {},
   "outputs": [],
   "source": [
    "y_preds_nn = clf_nn.predict_proba(X_test_nn)[:,1]"
   ]
  },
  {
   "cell_type": "code",
   "execution_count": 99,
   "id": "f84d5f0f",
   "metadata": {},
   "outputs": [
    {
     "data": {
      "text/plain": [
       "array([0.06204818, 0.28392225, 0.2133977 , ..., 0.19918842, 0.15291876,\n",
       "       0.18652051])"
      ]
     },
     "execution_count": 99,
     "metadata": {},
     "output_type": "execute_result"
    }
   ],
   "source": [
    "y_preds_nn"
   ]
  },
  {
   "cell_type": "code",
   "execution_count": 100,
   "id": "04717b65",
   "metadata": {},
   "outputs": [
    {
     "data": {
      "image/png": "[encoded data removed]",
      "text/plain": [
       "<Figure size 432x288 with 2 Axes>"
      ]
     },
     "metadata": {
      "needs_background": "light"
     },
     "output_type": "display_data"
    }
   ],
   "source": [
    "\n",
    "plot_confusion_matrix(clf_nn, X_test_nn, y_test_nn, values_format=\".4g\", cmap=\"Blues\")\n",
    "\n",
    "tn, fp, fn, tp = confusion_matrix(y_test_nn == 1, y_preds_nn > 0.5).ravel()\n",
    "\n",
    "tn_nn = tn\n",
    "fp_nn = fp\n",
    "fn_nn = fn\n",
    "tp_nn = tp"
   ]
  },
  {
   "cell_type": "code",
   "execution_count": 101,
   "id": "919650b1",
   "metadata": {},
   "outputs": [
    {
     "name": "stdout",
     "output_type": "stream",
     "text": [
      "0.7055174498227496\n"
     ]
    },
    {
     "data": {
      "image/png": "[encoded data removed]",
      "text/plain": [
       "<Figure size 432x288 with 1 Axes>"
      ]
     },
     "metadata": {
      "needs_background": "light"
     },
     "output_type": "display_data"
    }
   ],
   "source": [
    "aucrocnn = auc_roc_plot(y_test_nn, y_preds_nn)"
   ]
  },
  {
   "cell_type": "code",
   "execution_count": 102,
   "id": "ac1cbc8d",
   "metadata": {},
   "outputs": [],
   "source": [
    "test_size = X_test_nn.shape[0]"
   ]
  },
  {
   "cell_type": "markdown",
   "id": "a7ddc9f1",
   "metadata": {},
   "source": [
    "# Result"
   ]
  },
  {
   "cell_type": "code",
   "execution_count": 103,
   "id": "a765da51",
   "metadata": {},
   "outputs": [
    {
     "data": {
      "text/html": [
       "<div>\n",
       "<style scoped>\n",
       "    .dataframe tbody tr th:only-of-type {\n",
       "        vertical-align: middle;\n",
       "    }\n",
       "\n",
       "    .dataframe tbody tr th {\n",
       "        vertical-align: top;\n",
       "    }\n",
       "\n",
       "    .dataframe thead th {\n",
       "        text-align: right;\n",
       "    }\n",
       "</style>\n",
       "<table border=\"1\" class=\"dataframe\">\n",
       "  <thead>\n",
       "    <tr style=\"text-align: right;\">\n",
       "      <th>Classifier</th>\n",
       "      <th>AUC ROC (%)</th>\n",
       "      <th>TN (%)</th>\n",
       "      <th>FP (%)</th>\n",
       "      <th>FN (%)</th>\n",
       "      <th>TP (%)</th>\n",
       "    </tr>\n",
       "  </thead>\n",
       "  <tbody>\n",
       "    <tr>\n",
       "      <th>Logistic Regression (LR)</th>\n",
       "      <td>70.670635</td>\n",
       "      <td>51.26</td>\n",
       "      <td>29.44</td>\n",
       "      <td>6.14</td>\n",
       "      <td>13.16</td>\n",
       "    </tr>\n",
       "    <tr>\n",
       "      <th>K Nearest Neighbour (KNN)</th>\n",
       "      <td>50.065445</td>\n",
       "      <td>80.71</td>\n",
       "      <td>0.00</td>\n",
       "      <td>19.27</td>\n",
       "      <td>1.09</td>\n",
       "    </tr>\n",
       "    <tr>\n",
       "      <th>Support Vector Machine (SVC)</th>\n",
       "      <td>68.857710</td>\n",
       "      <td>80.61</td>\n",
       "      <td>0.10</td>\n",
       "      <td>19.22</td>\n",
       "      <td>0.08</td>\n",
       "    </tr>\n",
       "    <tr>\n",
       "      <th>Decision Trees (DT)</th>\n",
       "      <td>63.206872</td>\n",
       "      <td>76.64</td>\n",
       "      <td>4.07</td>\n",
       "      <td>17.45</td>\n",
       "      <td>1.84</td>\n",
       "    </tr>\n",
       "    <tr>\n",
       "      <th>Random Forest (RF)</th>\n",
       "      <td>68.202686</td>\n",
       "      <td>78.66</td>\n",
       "      <td>2.05</td>\n",
       "      <td>17.68</td>\n",
       "      <td>1.62</td>\n",
       "    </tr>\n",
       "    <tr>\n",
       "      <th>Neural Networks (NN)</th>\n",
       "      <td>70.551745</td>\n",
       "      <td>79.85</td>\n",
       "      <td>0.86</td>\n",
       "      <td>18.21</td>\n",
       "      <td>1.09</td>\n",
       "    </tr>\n",
       "  </tbody>\n",
       "</table>\n",
       "</div>"
      ],
      "text/plain": [
       "Classifier                    AUC ROC (%)  TN (%)  FP (%)  FN (%)  TP (%)\n",
       "Logistic Regression (LR)        70.670635   51.26   29.44    6.14   13.16\n",
       "K Nearest Neighbour (KNN)       50.065445   80.71    0.00   19.27    1.09\n",
       "Support Vector Machine (SVC)    68.857710   80.61    0.10   19.22    0.08\n",
       "Decision Trees (DT)             63.206872   76.64    4.07   17.45    1.84\n",
       "Random Forest (RF)              68.202686   78.66    2.05   17.68    1.62\n",
       "Neural Networks (NN)            70.551745   79.85    0.86   18.21    1.09"
      ]
     },
     "execution_count": 103,
     "metadata": {},
     "output_type": "execute_result"
    }
   ],
   "source": [
    "# Creating performance table\n",
    "results_1 = {'Classifier': ['AUC ROC (%)','TN (%)','FP (%)','FN (%)','TP (%)'],\n",
    "             'Logistic Regression (LR)': [aucroclr*100, (tn_lr/test_size*100).round(2), (fp_lr/test_size*100).round(2), (fn_lr/test_size*100).round(2), (tp_lr/test_size*100).round(2)],\n",
    "             'K Nearest Neighbour (KNN)': [aucrocknn*100, (tn_knn/test_size*100).round(2),(fp_knn/test_size*100).round(2), (fn_knn/test_size*100).round(2),(tp_nn/test_size*100).round(2)],\n",
    "             'Support Vector Machine (SVC)': [aucrocsvc*100, (tn_svc/test_size*100).round(2),(fp_svc/test_size*100).round(2), (fn_svc/test_size*100).round(2),(tp_svc/test_size*100).round(2)],\n",
    "             'Decision Trees (DT)': [aucrocdt*100, (tn_dt/test_size*100).round(2), (fp_dt/test_size*100).round(2), (fn_dt/test_size*100).round(2),(tp_dt/test_size*100).round(2)],\n",
    "             'Random Forest (RF)': [aucrocrf*100, (tn_rf/test_size*100).round(2), (fp_rf/test_size*100).round(2), (fn_rf/test_size*100).round(2),(tp_rf/test_size*100).round(2)],\n",
    "             'Neural Networks (NN)': [aucrocnn*100, (tn_nn/test_size*100).round(2), (fp_nn/test_size*100).round(2),(fn_nn/test_size*100).round(2),(tp_nn/test_size*100).round(2)]}\n",
    "\n",
    "df1 = pd.DataFrame(results_1, columns = ['Classifier', 'Logistic Regression (LR)', 'K Nearest Neighbour (KNN)', 'Support Vector Machine (SVC)', 'Decision Trees (DT)', 'Random Forest (RF)', 'Neural Networks (NN)'])\n",
    "\n",
    "df1.set_index(\"Classifier\", inplace=True)\n",
    "\n",
    "results = df1.T\n",
    "results"
   ]
  },
  {
   "cell_type": "code",
   "execution_count": 104,
   "id": "2b17290e",
   "metadata": {},
   "outputs": [
    {
     "data": {
      "image/png": "[encoded data removed]",
      "text/plain": [
       "<Figure size 864x576 with 1 Axes>"
      ]
     },
     "metadata": {
      "needs_background": "light"
     },
     "output_type": "display_data"
    }
   ],
   "source": [
    "\n",
    "results_2 = {'Classifier': ['ROC AUC'], 'Logistic Regression (LR)': [aucroclr*100], \n",
    "             'K Nearest Neighbour (KNN)': [aucrocknn*100], \n",
    "             'Support Vector Machine (SVC)': [aucrocsvc*100], \n",
    "             'Decision Trees (DT)': [aucrocdt*100], \n",
    "             'Random Forest (RF)': [aucrocrf*100], \n",
    "             'Neural Networks (NN)': [aucrocnn*100]}\n",
    "df2 = pd.DataFrame(results_2, columns = ['Classifier', 'Logistic Regression (LR)',\n",
    "                                         'K Nearest Neighbour (KNN)', 'Support Vector Machine (SVC)',\n",
    "                                         'Decision Trees (DT)', 'Random Forest (RF)', 'Neural Networks (NN)'])\n",
    "df2.set_index(\"Classifier\", inplace=True)\n",
    "results_2 = df2\n",
    "\n",
    "\n",
    "ax = results_2.plot(kind=\"bar\", title=(\"Evaluating models' performance\"), \n",
    "                    figsize=(12,8) ,fontsize=10, grid=True)\n",
    "for p in ax.patches:\n",
    "    ax.annotate(\"%2.2f\" % p.get_height(), (p.get_x() + p.get_width() /\n",
    "                                          2., p.get_height()), ha='center', va='center', xytext=(0, 5), \n",
    "                                          textcoords='offset points')\n",
    "\n",
    "plt.legend(fontsize=8.5, loc=\"upper right\")\n",
    "plt.xlabel('')\n",
    "plt.xticks(rotation='horizontal')\n",
    "plt.ylabel('Relative frequency (%)')\n",
    "plt.show()"
   ]
  },
  {
   "cell_type": "markdown",
   "id": "9adf543a",
   "metadata": {},
   "source": [
    "# Example"
   ]
  },
  {
   "cell_type": "code",
   "execution_count": 228,
   "id": "80b03471",
   "metadata": {},
   "outputs": [],
   "source": [
    "df_test = df.copy()\n",
    "\n",
    "train_set_test, test_set_test = train_test_split(df_test, test_size = 0.2, random_state = seed)\n",
    "\n",
    "X_train_test = train_set_test.drop(['bad_loan'], axis = 1)\n",
    "y_train_test = train_set_test['bad_loan']"
   ]
  },
  {
   "cell_type": "code",
   "execution_count": 229,
   "id": "f6f6dd11",
   "metadata": {},
   "outputs": [],
   "source": [
    "x= {'grade': ['2.0'],\n",
    "    'annual_inc': [100000.0],\n",
    "    'short_emp': [0.0] ,\n",
    "    'emp_length_num':[3.0] ,\n",
    "    'dti': [60.00],\n",
    "    'last_delinq_none': [1.0],\n",
    "    'revol_util': [60.0],\n",
    "    'total_rec_late_fee': [0.2],\n",
    "    'term_ 36 months': [1.0],\n",
    "    'term_ 60 months': [0.0],\n",
    "    'home_ownership_mortgage':[0.0],\n",
    "    'home_ownership_own':[0.0],\n",
    "    'home_ownership_rent':[1.0],\n",
    "    'purpose_0':[1.0],\n",
    "    'purpose_1':[0.0],\n",
    "    'purpose_2':[0.0],\n",
    "    'purpose_3':[1.0]\n",
    "     }"
   ]
  },
  {
   "cell_type": "code",
   "execution_count": 230,
   "id": "cea5d6ee",
   "metadata": {},
   "outputs": [],
   "source": [
    "test= pd.DataFrame(x)"
   ]
  },
  {
   "cell_type": "code",
   "execution_count": 231,
   "id": "15e7098f",
   "metadata": {},
   "outputs": [
    {
     "data": {
      "text/html": [
       "<div>\n",
       "<style scoped>\n",
       "    .dataframe tbody tr th:only-of-type {\n",
       "        vertical-align: middle;\n",
       "    }\n",
       "\n",
       "    .dataframe tbody tr th {\n",
       "        vertical-align: top;\n",
       "    }\n",
       "\n",
       "    .dataframe thead th {\n",
       "        text-align: right;\n",
       "    }\n",
       "</style>\n",
       "<table border=\"1\" class=\"dataframe\">\n",
       "  <thead>\n",
       "    <tr style=\"text-align: right;\">\n",
       "      <th></th>\n",
       "      <th>grade</th>\n",
       "      <th>annual_inc</th>\n",
       "      <th>short_emp</th>\n",
       "      <th>emp_length_num</th>\n",
       "      <th>dti</th>\n",
       "      <th>last_delinq_none</th>\n",
       "      <th>revol_util</th>\n",
       "      <th>total_rec_late_fee</th>\n",
       "      <th>term_ 36 months</th>\n",
       "      <th>term_ 60 months</th>\n",
       "      <th>home_ownership_mortgage</th>\n",
       "      <th>home_ownership_own</th>\n",
       "      <th>home_ownership_rent</th>\n",
       "      <th>purpose_0</th>\n",
       "      <th>purpose_1</th>\n",
       "      <th>purpose_2</th>\n",
       "      <th>purpose_3</th>\n",
       "    </tr>\n",
       "  </thead>\n",
       "  <tbody>\n",
       "    <tr>\n",
       "      <th>0</th>\n",
       "      <td>2.0</td>\n",
       "      <td>100000.0</td>\n",
       "      <td>0.0</td>\n",
       "      <td>3.0</td>\n",
       "      <td>60.0</td>\n",
       "      <td>1.0</td>\n",
       "      <td>60.0</td>\n",
       "      <td>0.2</td>\n",
       "      <td>1.0</td>\n",
       "      <td>0.0</td>\n",
       "      <td>0.0</td>\n",
       "      <td>0.0</td>\n",
       "      <td>1.0</td>\n",
       "      <td>1.0</td>\n",
       "      <td>0.0</td>\n",
       "      <td>0.0</td>\n",
       "      <td>1.0</td>\n",
       "    </tr>\n",
       "  </tbody>\n",
       "</table>\n",
       "</div>"
      ],
      "text/plain": [
       "  grade  annual_inc  short_emp  emp_length_num   dti  last_delinq_none  \\\n",
       "0   2.0    100000.0        0.0             3.0  60.0               1.0   \n",
       "\n",
       "   revol_util  total_rec_late_fee  term_ 36 months  term_ 60 months  \\\n",
       "0        60.0                 0.2              1.0              0.0   \n",
       "\n",
       "   home_ownership_mortgage  home_ownership_own  home_ownership_rent  \\\n",
       "0                      0.0                 0.0                  1.0   \n",
       "\n",
       "   purpose_0  purpose_1  purpose_2  purpose_3  \n",
       "0        1.0        0.0        0.0        1.0  "
      ]
     },
     "execution_count": 231,
     "metadata": {},
     "output_type": "execute_result"
    }
   ],
   "source": [
    "test.head()"
   ]
  },
  {
   "cell_type": "code",
   "execution_count": 232,
   "id": "b1c8bd5c",
   "metadata": {},
   "outputs": [],
   "source": [
    "scaler = MinMaxScaler()\n",
    "features_names = X_train_test.columns"
   ]
  },
  {
   "cell_type": "code",
   "execution_count": 233,
   "id": "32d2d60c",
   "metadata": {},
   "outputs": [],
   "source": [
    "X_train_test = scaler.fit_transform(X_train_test)\n",
    "X_train_test = pd.DataFrame(X_train_test, columns = features_names)"
   ]
  },
  {
   "cell_type": "code",
   "execution_count": 234,
   "id": "ed07b305",
   "metadata": {},
   "outputs": [],
   "source": [
    "test_scaled = scaler.transform(test)\n",
    "test_scaled = pd.DataFrame(test_scaled, columns = features_names)"
   ]
  },
  {
   "cell_type": "code",
   "execution_count": 235,
   "id": "3680185a",
   "metadata": {},
   "outputs": [
    {
     "data": {
      "text/html": [
       "<div>\n",
       "<style scoped>\n",
       "    .dataframe tbody tr th:only-of-type {\n",
       "        vertical-align: middle;\n",
       "    }\n",
       "\n",
       "    .dataframe tbody tr th {\n",
       "        vertical-align: top;\n",
       "    }\n",
       "\n",
       "    .dataframe thead th {\n",
       "        text-align: right;\n",
       "    }\n",
       "</style>\n",
       "<table border=\"1\" class=\"dataframe\">\n",
       "  <thead>\n",
       "    <tr style=\"text-align: right;\">\n",
       "      <th></th>\n",
       "      <th>grade</th>\n",
       "      <th>annual_inc</th>\n",
       "      <th>short_emp</th>\n",
       "      <th>emp_length_num</th>\n",
       "      <th>dti</th>\n",
       "      <th>last_delinq_none</th>\n",
       "      <th>revol_util</th>\n",
       "      <th>total_rec_late_fee</th>\n",
       "      <th>term_ 36 months</th>\n",
       "      <th>term_ 60 months</th>\n",
       "      <th>home_ownership_mortgage</th>\n",
       "      <th>home_ownership_own</th>\n",
       "      <th>home_ownership_rent</th>\n",
       "      <th>purpose_0</th>\n",
       "      <th>purpose_1</th>\n",
       "      <th>purpose_2</th>\n",
       "      <th>purpose_3</th>\n",
       "    </tr>\n",
       "  </thead>\n",
       "  <tbody>\n",
       "    <tr>\n",
       "      <th>0</th>\n",
       "      <td>0.166667</td>\n",
       "      <td>0.650778</td>\n",
       "      <td>0.0</td>\n",
       "      <td>0.272727</td>\n",
       "      <td>1.714776</td>\n",
       "      <td>1.0</td>\n",
       "      <td>0.531444</td>\n",
       "      <td>0.013336</td>\n",
       "      <td>1.0</td>\n",
       "      <td>0.0</td>\n",
       "      <td>0.0</td>\n",
       "      <td>0.0</td>\n",
       "      <td>1.0</td>\n",
       "      <td>1.0</td>\n",
       "      <td>0.0</td>\n",
       "      <td>0.0</td>\n",
       "      <td>1.0</td>\n",
       "    </tr>\n",
       "  </tbody>\n",
       "</table>\n",
       "</div>"
      ],
      "text/plain": [
       "      grade  annual_inc  short_emp  emp_length_num       dti  \\\n",
       "0  0.166667    0.650778        0.0        0.272727  1.714776   \n",
       "\n",
       "   last_delinq_none  revol_util  total_rec_late_fee  term_ 36 months  \\\n",
       "0               1.0    0.531444            0.013336              1.0   \n",
       "\n",
       "   term_ 60 months  home_ownership_mortgage  home_ownership_own  \\\n",
       "0              0.0                      0.0                 0.0   \n",
       "\n",
       "   home_ownership_rent  purpose_0  purpose_1  purpose_2  purpose_3  \n",
       "0                  1.0        1.0        0.0        0.0        1.0  "
      ]
     },
     "execution_count": 235,
     "metadata": {},
     "output_type": "execute_result"
    }
   ],
   "source": [
    "test_scaled.head()"
   ]
  },
  {
   "cell_type": "code",
   "execution_count": 236,
   "id": "33432364",
   "metadata": {},
   "outputs": [
    {
     "data": {
      "text/html": [
       "<div>\n",
       "<style scoped>\n",
       "    .dataframe tbody tr th:only-of-type {\n",
       "        vertical-align: middle;\n",
       "    }\n",
       "\n",
       "    .dataframe tbody tr th {\n",
       "        vertical-align: top;\n",
       "    }\n",
       "\n",
       "    .dataframe thead th {\n",
       "        text-align: right;\n",
       "    }\n",
       "</style>\n",
       "<table border=\"1\" class=\"dataframe\">\n",
       "  <thead>\n",
       "    <tr style=\"text-align: right;\">\n",
       "      <th></th>\n",
       "      <th>grade</th>\n",
       "      <th>annual_inc</th>\n",
       "      <th>short_emp</th>\n",
       "      <th>emp_length_num</th>\n",
       "      <th>dti</th>\n",
       "      <th>last_delinq_none</th>\n",
       "      <th>revol_util</th>\n",
       "      <th>total_rec_late_fee</th>\n",
       "      <th>term_ 36 months</th>\n",
       "      <th>term_ 60 months</th>\n",
       "      <th>home_ownership_mortgage</th>\n",
       "      <th>home_ownership_own</th>\n",
       "      <th>home_ownership_rent</th>\n",
       "      <th>purpose_0</th>\n",
       "      <th>purpose_1</th>\n",
       "      <th>purpose_2</th>\n",
       "      <th>purpose_3</th>\n",
       "    </tr>\n",
       "  </thead>\n",
       "  <tbody>\n",
       "    <tr>\n",
       "      <th>0</th>\n",
       "      <td>2.0</td>\n",
       "      <td>100000.0</td>\n",
       "      <td>0.0</td>\n",
       "      <td>3.0</td>\n",
       "      <td>60.0</td>\n",
       "      <td>1.0</td>\n",
       "      <td>60.0</td>\n",
       "      <td>0.2</td>\n",
       "      <td>1.0</td>\n",
       "      <td>0.0</td>\n",
       "      <td>0.0</td>\n",
       "      <td>0.0</td>\n",
       "      <td>1.0</td>\n",
       "      <td>1.0</td>\n",
       "      <td>0.0</td>\n",
       "      <td>0.0</td>\n",
       "      <td>1.0</td>\n",
       "    </tr>\n",
       "  </tbody>\n",
       "</table>\n",
       "</div>"
      ],
      "text/plain": [
       "  grade  annual_inc  short_emp  emp_length_num   dti  last_delinq_none  \\\n",
       "0   2.0    100000.0        0.0             3.0  60.0               1.0   \n",
       "\n",
       "   revol_util  total_rec_late_fee  term_ 36 months  term_ 60 months  \\\n",
       "0        60.0                 0.2              1.0              0.0   \n",
       "\n",
       "   home_ownership_mortgage  home_ownership_own  home_ownership_rent  \\\n",
       "0                      0.0                 0.0                  1.0   \n",
       "\n",
       "   purpose_0  purpose_1  purpose_2  purpose_3  \n",
       "0        1.0        0.0        0.0        1.0  "
      ]
     },
     "execution_count": 236,
     "metadata": {},
     "output_type": "execute_result"
    }
   ],
   "source": [
    "test.head()"
   ]
  },
  {
   "cell_type": "code",
   "execution_count": 237,
   "id": "fe58ea6e",
   "metadata": {},
   "outputs": [],
   "source": [
    "y_test_lr = clf_lr.predict_proba(test_scaled)[:,1]\n",
    "y_test_knn = knn.predict_proba(test_scaled)[:,1]\n",
    "y_test_svm = clf_svc.predict_proba(test_scaled)[:,1]\n",
    "y_test_tree = clf_tree.predict_proba(test)[:,1]\n",
    "y_test_rf = clf_rf.predict_proba(test)[:,1]\n",
    "y_test_nn = clf_nn.predict_proba(test_scaled)[:,1]\n"
   ]
  },
  {
   "cell_type": "code",
   "execution_count": 238,
   "id": "2c0d505f",
   "metadata": {},
   "outputs": [
    {
     "data": {
      "text/plain": [
       "array([ True])"
      ]
     },
     "execution_count": 238,
     "metadata": {},
     "output_type": "execute_result"
    }
   ],
   "source": [
    "y_test_lr > 0.5 # bad load = 1"
   ]
  },
  {
   "cell_type": "code",
   "execution_count": 239,
   "id": "ec4517ca",
   "metadata": {},
   "outputs": [
    {
     "data": {
      "text/plain": [
       "array([False])"
      ]
     },
     "execution_count": 239,
     "metadata": {},
     "output_type": "execute_result"
    }
   ],
   "source": [
    "y_test_knn > 0.5 # bad load = 1"
   ]
  },
  {
   "cell_type": "code",
   "execution_count": 240,
   "id": "afc47d22",
   "metadata": {},
   "outputs": [
    {
     "data": {
      "text/plain": [
       "array([False])"
      ]
     },
     "execution_count": 240,
     "metadata": {},
     "output_type": "execute_result"
    }
   ],
   "source": [
    "y_test_svm > 0.5 # bad load = 1"
   ]
  },
  {
   "cell_type": "code",
   "execution_count": 241,
   "id": "a3055276",
   "metadata": {},
   "outputs": [
    {
     "data": {
      "text/plain": [
       "array([ True])"
      ]
     },
     "execution_count": 241,
     "metadata": {},
     "output_type": "execute_result"
    }
   ],
   "source": [
    "y_test_tree > 0.5 # bad load = 1"
   ]
  },
  {
   "cell_type": "code",
   "execution_count": 242,
   "id": "382213de",
   "metadata": {},
   "outputs": [
    {
     "data": {
      "text/plain": [
       "array([False])"
      ]
     },
     "execution_count": 242,
     "metadata": {},
     "output_type": "execute_result"
    }
   ],
   "source": [
    "y_test_rf > 0.5 # bad load = 1"
   ]
  },
  {
   "cell_type": "code",
   "execution_count": 243,
   "id": "83b71d73",
   "metadata": {},
   "outputs": [
    {
     "data": {
      "text/plain": [
       "array([ True])"
      ]
     },
     "execution_count": 243,
     "metadata": {},
     "output_type": "execute_result"
    }
   ],
   "source": [
    "y_test_nn > 0.5 # bad load = 1"
   ]
  },
  {
   "cell_type": "markdown",
   "id": "140a700a",
   "metadata": {},
   "source": [
    "# Thank You"
   ]
  },
  {
   "cell_type": "code",
   "execution_count": null,
   "id": "ea7486da",
   "metadata": {},
   "outputs": [],
   "source": []
  },
  {
   "cell_type": "code",
   "execution_count": null,
   "id": "c851ab1e",
   "metadata": {},
   "outputs": [],
   "source": []
  },
  {
   "cell_type": "code",
   "execution_count": null,
   "id": "7f36cdb2",
   "metadata": {},
   "outputs": [],
   "source": []
  },
  {
   "cell_type": "code",
   "execution_count": null,
   "id": "dc66be18",
   "metadata": {},
   "outputs": [],
   "source": []
  },
  {
   "cell_type": "code",
   "execution_count": null,
   "id": "8d234cd8",
   "metadata": {},
   "outputs": [],
   "source": []
  },
  {
   "cell_type": "code",
   "execution_count": null,
   "id": "a5a061b0",
   "metadata": {},
   "outputs": [],
   "source": []
  },
  {
   "cell_type": "code",
   "execution_count": null,
   "id": "15c6a16d",
   "metadata": {},
   "outputs": [],
   "source": []
  }
 ],
 "metadata": {
  "kernelspec": {
   "display_name": "Python 3",
   "language": "python",
   "name": "python3"
  },
  "language_info": {
   "codemirror_mode": {
    "name": "ipython",
    "version": 3
   },
   "file_extension": ".py",
   "mimetype": "text/x-python",
   "name": "python",
   "nbconvert_exporter": "python",
   "pygments_lexer": "ipython3",
   "version": "3.8.8"
  }
 },
 "nbformat": 4,
 "nbformat_minor": 5
}
