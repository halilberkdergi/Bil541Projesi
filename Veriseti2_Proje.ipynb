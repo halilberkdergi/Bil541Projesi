{
 "cells": [
  {
   "cell_type": "code",
   "execution_count": 8,
   "id": "0ac9dbd4",
   "metadata": {},
   "outputs": [],
   "source": [
    "import pandas as pd\n",
    "import numpy as np\n",
    "import seaborn as sns\n",
    "import pingouin as pg\n",
    "import scipy\n",
    "from scipy.stats import chi2\n",
    "from scipy.stats import chi2_contingency\n",
    "from scipy.stats import pearsonr, spearmanr\n",
    "from sklearn.preprocessing import StandardScaler\n",
    "from sklearn.preprocessing import MinMaxScaler\n",
    "from sklearn.model_selection import train_test_split\n",
    "from sklearn.model_selection import GridSearchCV\n",
    "from sklearn.ensemble import RandomForestClassifier\n",
    "from sklearn.linear_model import LogisticRegression\n",
    "from sklearn.neighbors import KNeighborsClassifier\n",
    "from sklearn.svm import SVC\n",
    "from sklearn import tree\n",
    "from sklearn.tree import export_graphviz\n",
    "from sklearn.linear_model import Perceptron\n",
    "from sklearn.neural_network import MLPClassifier\n",
    "from sklearn.metrics import roc_curve,  precision_recall_curve, roc_auc_score, confusion_matrix, accuracy_score, recall_score, precision_score, f1_score,auc, roc_curve, plot_confusion_matrix\n",
    "from category_encoders import BinaryEncoder\n",
    "from IPython.display import Image\n",
    "import pydotplus\n",
    "import matplotlib.pyplot as plt\n",
    "%matplotlib inline\n",
    "color = sns.color_palette()\n",
    "seed = 42\n",
    "import dataframe_image as dfi"
   ]
  },
  {
   "cell_type": "code",
   "execution_count": 9,
   "id": "5b9432a0",
   "metadata": {},
   "outputs": [],
   "source": [
    "data = pd.read_csv('german_credit_data.csv', low_memory=False)"
   ]
  },
  {
   "cell_type": "code",
   "execution_count": 10,
   "id": "9e327b9c",
   "metadata": {},
   "outputs": [],
   "source": [
    "dfi.export(data.head(), 'veriseti2_head.png')"
   ]
  },
  {
   "cell_type": "code",
   "execution_count": 11,
   "id": "d3616edf",
   "metadata": {},
   "outputs": [
    {
     "data": {
      "text/html": [
       "<div>\n",
       "<style scoped>\n",
       "    .dataframe tbody tr th:only-of-type {\n",
       "        vertical-align: middle;\n",
       "    }\n",
       "\n",
       "    .dataframe tbody tr th {\n",
       "        vertical-align: top;\n",
       "    }\n",
       "\n",
       "    .dataframe thead th {\n",
       "        text-align: right;\n",
       "    }\n",
       "</style>\n",
       "<table border=\"1\" class=\"dataframe\">\n",
       "  <thead>\n",
       "    <tr style=\"text-align: right;\">\n",
       "      <th></th>\n",
       "      <th>Unnamed: 0</th>\n",
       "      <th>Age</th>\n",
       "      <th>Sex</th>\n",
       "      <th>Job</th>\n",
       "      <th>Housing</th>\n",
       "      <th>Saving accounts</th>\n",
       "      <th>Checking account</th>\n",
       "      <th>Credit amount</th>\n",
       "      <th>Duration</th>\n",
       "      <th>Purpose</th>\n",
       "      <th>Risk</th>\n",
       "    </tr>\n",
       "  </thead>\n",
       "  <tbody>\n",
       "    <tr>\n",
       "      <th>0</th>\n",
       "      <td>0</td>\n",
       "      <td>67</td>\n",
       "      <td>male</td>\n",
       "      <td>2</td>\n",
       "      <td>own</td>\n",
       "      <td>NaN</td>\n",
       "      <td>little</td>\n",
       "      <td>1169</td>\n",
       "      <td>6</td>\n",
       "      <td>radio/TV</td>\n",
       "      <td>good</td>\n",
       "    </tr>\n",
       "    <tr>\n",
       "      <th>1</th>\n",
       "      <td>1</td>\n",
       "      <td>22</td>\n",
       "      <td>female</td>\n",
       "      <td>2</td>\n",
       "      <td>own</td>\n",
       "      <td>little</td>\n",
       "      <td>moderate</td>\n",
       "      <td>5951</td>\n",
       "      <td>48</td>\n",
       "      <td>radio/TV</td>\n",
       "      <td>bad</td>\n",
       "    </tr>\n",
       "    <tr>\n",
       "      <th>2</th>\n",
       "      <td>2</td>\n",
       "      <td>49</td>\n",
       "      <td>male</td>\n",
       "      <td>1</td>\n",
       "      <td>own</td>\n",
       "      <td>little</td>\n",
       "      <td>NaN</td>\n",
       "      <td>2096</td>\n",
       "      <td>12</td>\n",
       "      <td>education</td>\n",
       "      <td>good</td>\n",
       "    </tr>\n",
       "    <tr>\n",
       "      <th>3</th>\n",
       "      <td>3</td>\n",
       "      <td>45</td>\n",
       "      <td>male</td>\n",
       "      <td>2</td>\n",
       "      <td>free</td>\n",
       "      <td>little</td>\n",
       "      <td>little</td>\n",
       "      <td>7882</td>\n",
       "      <td>42</td>\n",
       "      <td>furniture/equipment</td>\n",
       "      <td>good</td>\n",
       "    </tr>\n",
       "    <tr>\n",
       "      <th>4</th>\n",
       "      <td>4</td>\n",
       "      <td>53</td>\n",
       "      <td>male</td>\n",
       "      <td>2</td>\n",
       "      <td>free</td>\n",
       "      <td>little</td>\n",
       "      <td>little</td>\n",
       "      <td>4870</td>\n",
       "      <td>24</td>\n",
       "      <td>car</td>\n",
       "      <td>bad</td>\n",
       "    </tr>\n",
       "  </tbody>\n",
       "</table>\n",
       "</div>"
      ],
      "text/plain": [
       "   Unnamed: 0  Age     Sex  Job Housing Saving accounts Checking account  \\\n",
       "0           0   67    male    2     own             NaN           little   \n",
       "1           1   22  female    2     own          little         moderate   \n",
       "2           2   49    male    1     own          little              NaN   \n",
       "3           3   45    male    2    free          little           little   \n",
       "4           4   53    male    2    free          little           little   \n",
       "\n",
       "   Credit amount  Duration              Purpose  Risk  \n",
       "0           1169         6             radio/TV  good  \n",
       "1           5951        48             radio/TV   bad  \n",
       "2           2096        12            education  good  \n",
       "3           7882        42  furniture/equipment  good  \n",
       "4           4870        24                  car   bad  "
      ]
     },
     "execution_count": 11,
     "metadata": {},
     "output_type": "execute_result"
    }
   ],
   "source": [
    "data.head()"
   ]
  },
  {
   "cell_type": "code",
   "execution_count": 12,
   "id": "cab8cc48",
   "metadata": {},
   "outputs": [],
   "source": [
    "data.rename(columns = {'Saving accounts':'Saving_accounts','Checking account':'Checking_account','Credit amount':'Credit_amount'}, inplace = True)"
   ]
  },
  {
   "cell_type": "code",
   "execution_count": 13,
   "id": "bc7c4f43",
   "metadata": {},
   "outputs": [
    {
     "data": {
      "text/html": [
       "<div>\n",
       "<style scoped>\n",
       "    .dataframe tbody tr th:only-of-type {\n",
       "        vertical-align: middle;\n",
       "    }\n",
       "\n",
       "    .dataframe tbody tr th {\n",
       "        vertical-align: top;\n",
       "    }\n",
       "\n",
       "    .dataframe thead th {\n",
       "        text-align: right;\n",
       "    }\n",
       "</style>\n",
       "<table border=\"1\" class=\"dataframe\">\n",
       "  <thead>\n",
       "    <tr style=\"text-align: right;\">\n",
       "      <th></th>\n",
       "      <th>Unnamed: 0</th>\n",
       "      <th>Age</th>\n",
       "      <th>Job</th>\n",
       "      <th>Credit_amount</th>\n",
       "      <th>Duration</th>\n",
       "    </tr>\n",
       "  </thead>\n",
       "  <tbody>\n",
       "    <tr>\n",
       "      <th>count</th>\n",
       "      <td>1000.000</td>\n",
       "      <td>1000.000</td>\n",
       "      <td>1000.000</td>\n",
       "      <td>1000.000</td>\n",
       "      <td>1000.000</td>\n",
       "    </tr>\n",
       "    <tr>\n",
       "      <th>mean</th>\n",
       "      <td>499.500</td>\n",
       "      <td>35.546</td>\n",
       "      <td>1.904</td>\n",
       "      <td>3271.258</td>\n",
       "      <td>20.903</td>\n",
       "    </tr>\n",
       "    <tr>\n",
       "      <th>std</th>\n",
       "      <td>288.819</td>\n",
       "      <td>11.375</td>\n",
       "      <td>0.654</td>\n",
       "      <td>2822.737</td>\n",
       "      <td>12.059</td>\n",
       "    </tr>\n",
       "    <tr>\n",
       "      <th>min</th>\n",
       "      <td>0.000</td>\n",
       "      <td>19.000</td>\n",
       "      <td>0.000</td>\n",
       "      <td>250.000</td>\n",
       "      <td>4.000</td>\n",
       "    </tr>\n",
       "    <tr>\n",
       "      <th>25%</th>\n",
       "      <td>249.750</td>\n",
       "      <td>27.000</td>\n",
       "      <td>2.000</td>\n",
       "      <td>1365.500</td>\n",
       "      <td>12.000</td>\n",
       "    </tr>\n",
       "    <tr>\n",
       "      <th>50%</th>\n",
       "      <td>499.500</td>\n",
       "      <td>33.000</td>\n",
       "      <td>2.000</td>\n",
       "      <td>2319.500</td>\n",
       "      <td>18.000</td>\n",
       "    </tr>\n",
       "    <tr>\n",
       "      <th>75%</th>\n",
       "      <td>749.250</td>\n",
       "      <td>42.000</td>\n",
       "      <td>2.000</td>\n",
       "      <td>3972.250</td>\n",
       "      <td>24.000</td>\n",
       "    </tr>\n",
       "    <tr>\n",
       "      <th>max</th>\n",
       "      <td>999.000</td>\n",
       "      <td>75.000</td>\n",
       "      <td>3.000</td>\n",
       "      <td>18424.000</td>\n",
       "      <td>72.000</td>\n",
       "    </tr>\n",
       "  </tbody>\n",
       "</table>\n",
       "</div>"
      ],
      "text/plain": [
       "       Unnamed: 0       Age       Job  Credit_amount  Duration\n",
       "count    1000.000  1000.000  1000.000       1000.000  1000.000\n",
       "mean      499.500    35.546     1.904       3271.258    20.903\n",
       "std       288.819    11.375     0.654       2822.737    12.059\n",
       "min         0.000    19.000     0.000        250.000     4.000\n",
       "25%       249.750    27.000     2.000       1365.500    12.000\n",
       "50%       499.500    33.000     2.000       2319.500    18.000\n",
       "75%       749.250    42.000     2.000       3972.250    24.000\n",
       "max       999.000    75.000     3.000      18424.000    72.000"
      ]
     },
     "execution_count": 13,
     "metadata": {},
     "output_type": "execute_result"
    }
   ],
   "source": [
    "data.describe().round(3)"
   ]
  },
  {
   "cell_type": "code",
   "execution_count": 14,
   "id": "540bd761",
   "metadata": {},
   "outputs": [
    {
     "name": "stderr",
     "output_type": "stream",
     "text": [
      "<ipython-input-14-c07674af406a>:1: DeprecationWarning: `np.object` is a deprecated alias for the builtin `object`. To silence this warning, use `object` by itself. Doing this will not modify any behavior and is safe. \n",
      "Deprecated in NumPy 1.20; for more details and guidance: https://numpy.org/devdocs/release/1.20.0-notes.html#deprecations\n",
      "  data.describe(include=[np.object])\n"
     ]
    },
    {
     "data": {
      "text/html": [
       "<div>\n",
       "<style scoped>\n",
       "    .dataframe tbody tr th:only-of-type {\n",
       "        vertical-align: middle;\n",
       "    }\n",
       "\n",
       "    .dataframe tbody tr th {\n",
       "        vertical-align: top;\n",
       "    }\n",
       "\n",
       "    .dataframe thead th {\n",
       "        text-align: right;\n",
       "    }\n",
       "</style>\n",
       "<table border=\"1\" class=\"dataframe\">\n",
       "  <thead>\n",
       "    <tr style=\"text-align: right;\">\n",
       "      <th></th>\n",
       "      <th>Sex</th>\n",
       "      <th>Housing</th>\n",
       "      <th>Saving_accounts</th>\n",
       "      <th>Checking_account</th>\n",
       "      <th>Purpose</th>\n",
       "      <th>Risk</th>\n",
       "    </tr>\n",
       "  </thead>\n",
       "  <tbody>\n",
       "    <tr>\n",
       "      <th>count</th>\n",
       "      <td>1000</td>\n",
       "      <td>1000</td>\n",
       "      <td>817</td>\n",
       "      <td>606</td>\n",
       "      <td>1000</td>\n",
       "      <td>1000</td>\n",
       "    </tr>\n",
       "    <tr>\n",
       "      <th>unique</th>\n",
       "      <td>2</td>\n",
       "      <td>3</td>\n",
       "      <td>4</td>\n",
       "      <td>3</td>\n",
       "      <td>8</td>\n",
       "      <td>2</td>\n",
       "    </tr>\n",
       "    <tr>\n",
       "      <th>top</th>\n",
       "      <td>male</td>\n",
       "      <td>own</td>\n",
       "      <td>little</td>\n",
       "      <td>little</td>\n",
       "      <td>car</td>\n",
       "      <td>good</td>\n",
       "    </tr>\n",
       "    <tr>\n",
       "      <th>freq</th>\n",
       "      <td>690</td>\n",
       "      <td>713</td>\n",
       "      <td>603</td>\n",
       "      <td>274</td>\n",
       "      <td>337</td>\n",
       "      <td>700</td>\n",
       "    </tr>\n",
       "  </tbody>\n",
       "</table>\n",
       "</div>"
      ],
      "text/plain": [
       "         Sex Housing Saving_accounts Checking_account Purpose  Risk\n",
       "count   1000    1000             817              606    1000  1000\n",
       "unique     2       3               4                3       8     2\n",
       "top     male     own          little           little     car  good\n",
       "freq     690     713             603              274     337   700"
      ]
     },
     "execution_count": 14,
     "metadata": {},
     "output_type": "execute_result"
    }
   ],
   "source": [
    "data.describe(include=[np.object])"
   ]
  },
  {
   "cell_type": "code",
   "execution_count": 15,
   "id": "5b242f2a",
   "metadata": {},
   "outputs": [
    {
     "data": {
      "text/html": [
       "<div>\n",
       "<style scoped>\n",
       "    .dataframe tbody tr th:only-of-type {\n",
       "        vertical-align: middle;\n",
       "    }\n",
       "\n",
       "    .dataframe tbody tr th {\n",
       "        vertical-align: top;\n",
       "    }\n",
       "\n",
       "    .dataframe thead th {\n",
       "        text-align: right;\n",
       "    }\n",
       "</style>\n",
       "<table border=\"1\" class=\"dataframe\">\n",
       "  <thead>\n",
       "    <tr style=\"text-align: right;\">\n",
       "      <th></th>\n",
       "      <th>absolute</th>\n",
       "      <th>percent</th>\n",
       "    </tr>\n",
       "  </thead>\n",
       "  <tbody>\n",
       "    <tr>\n",
       "      <th>good</th>\n",
       "      <td>700</td>\n",
       "      <td>70.0</td>\n",
       "    </tr>\n",
       "    <tr>\n",
       "      <th>bad</th>\n",
       "      <td>300</td>\n",
       "      <td>30.0</td>\n",
       "    </tr>\n",
       "  </tbody>\n",
       "</table>\n",
       "</div>"
      ],
      "text/plain": [
       "      absolute  percent\n",
       "good       700     70.0\n",
       "bad        300     30.0"
      ]
     },
     "execution_count": 15,
     "metadata": {},
     "output_type": "execute_result"
    }
   ],
   "source": [
    "Risk = data.Risk.value_counts().to_frame().rename(columns={\"Risk\":\"absolute\" })\n",
    "\n",
    "Risk[\"percent\"] = Risk.apply(lambda x: x/x.sum()*100).round(2)\n",
    "\n",
    "Risk"
   ]
  },
  {
   "cell_type": "code",
   "execution_count": 16,
   "id": "617ba5f3",
   "metadata": {},
   "outputs": [
    {
     "data": {
      "image/png": "[encoded data removed]",
      "text/plain": [
       "<Figure size 1008x432 with 1 Axes>"
      ]
     },
     "metadata": {},
     "output_type": "display_data"
    }
   ],
   "source": [
    "#pie chart\n",
    "data.Risk.value_counts().plot(kind = 'pie', subplots=True,\n",
    "                                 autopct='%1.2f%%', explode = (0.05, 0.05),\n",
    "                                  startangle=80, legend =True,\n",
    "                                  fontsize=12, figsize=(14,6), textprops={'color':\"black\"})\n",
    "plt.legend([\"0: good\",\"1:bad\"]);"
   ]
  },
  {
   "cell_type": "code",
   "execution_count": 17,
   "id": "97663e7f",
   "metadata": {},
   "outputs": [
    {
     "data": {
      "text/plain": [
       "Unnamed: 0           int64\n",
       "Age                  int64\n",
       "Job                  int64\n",
       "Credit_amount        int64\n",
       "Duration             int64\n",
       "Sex                 object\n",
       "Housing             object\n",
       "Saving_accounts     object\n",
       "Checking_account    object\n",
       "Purpose             object\n",
       "Risk                object\n",
       "dtype: object"
      ]
     },
     "execution_count": 17,
     "metadata": {},
     "output_type": "execute_result"
    }
   ],
   "source": [
    "data.dtypes.sort_values(ascending=True)"
   ]
  },
  {
   "cell_type": "code",
   "execution_count": 18,
   "id": "a17a5be6",
   "metadata": {},
   "outputs": [
    {
     "data": {
      "text/plain": [
       "object    6\n",
       "int64     5\n",
       "dtype: int64"
      ]
     },
     "execution_count": 18,
     "metadata": {},
     "output_type": "execute_result"
    }
   ],
   "source": [
    "data.dtypes.value_counts()"
   ]
  },
  {
   "cell_type": "code",
   "execution_count": 19,
   "id": "b10e439e",
   "metadata": {},
   "outputs": [
    {
     "data": {
      "text/html": [
       "<div>\n",
       "<style scoped>\n",
       "    .dataframe tbody tr th:only-of-type {\n",
       "        vertical-align: middle;\n",
       "    }\n",
       "\n",
       "    .dataframe tbody tr th {\n",
       "        vertical-align: top;\n",
       "    }\n",
       "\n",
       "    .dataframe thead th {\n",
       "        text-align: right;\n",
       "    }\n",
       "</style>\n",
       "<table border=\"1\" class=\"dataframe\">\n",
       "  <thead>\n",
       "    <tr style=\"text-align: right;\">\n",
       "      <th></th>\n",
       "      <th>absolute</th>\n",
       "      <th>percent</th>\n",
       "    </tr>\n",
       "  </thead>\n",
       "  <tbody>\n",
       "    <tr>\n",
       "      <th>Unnamed: 0</th>\n",
       "      <td>0</td>\n",
       "      <td>0.00</td>\n",
       "    </tr>\n",
       "    <tr>\n",
       "      <th>Age</th>\n",
       "      <td>0</td>\n",
       "      <td>0.00</td>\n",
       "    </tr>\n",
       "    <tr>\n",
       "      <th>Sex</th>\n",
       "      <td>0</td>\n",
       "      <td>0.00</td>\n",
       "    </tr>\n",
       "    <tr>\n",
       "      <th>Job</th>\n",
       "      <td>0</td>\n",
       "      <td>0.00</td>\n",
       "    </tr>\n",
       "    <tr>\n",
       "      <th>Housing</th>\n",
       "      <td>0</td>\n",
       "      <td>0.00</td>\n",
       "    </tr>\n",
       "    <tr>\n",
       "      <th>Saving_accounts</th>\n",
       "      <td>183</td>\n",
       "      <td>31.72</td>\n",
       "    </tr>\n",
       "    <tr>\n",
       "      <th>Checking_account</th>\n",
       "      <td>394</td>\n",
       "      <td>68.28</td>\n",
       "    </tr>\n",
       "    <tr>\n",
       "      <th>Credit_amount</th>\n",
       "      <td>0</td>\n",
       "      <td>0.00</td>\n",
       "    </tr>\n",
       "    <tr>\n",
       "      <th>Duration</th>\n",
       "      <td>0</td>\n",
       "      <td>0.00</td>\n",
       "    </tr>\n",
       "    <tr>\n",
       "      <th>Purpose</th>\n",
       "      <td>0</td>\n",
       "      <td>0.00</td>\n",
       "    </tr>\n",
       "    <tr>\n",
       "      <th>Risk</th>\n",
       "      <td>0</td>\n",
       "      <td>0.00</td>\n",
       "    </tr>\n",
       "  </tbody>\n",
       "</table>\n",
       "</div>"
      ],
      "text/plain": [
       "                  absolute  percent\n",
       "Unnamed: 0               0     0.00\n",
       "Age                      0     0.00\n",
       "Sex                      0     0.00\n",
       "Job                      0     0.00\n",
       "Housing                  0     0.00\n",
       "Saving_accounts        183    31.72\n",
       "Checking_account       394    68.28\n",
       "Credit_amount            0     0.00\n",
       "Duration                 0     0.00\n",
       "Purpose                  0     0.00\n",
       "Risk                     0     0.00"
      ]
     },
     "execution_count": 19,
     "metadata": {},
     "output_type": "execute_result"
    }
   ],
   "source": [
    "nulval = data.isnull().sum().to_frame().rename(columns ={ 0: \"absolute\"})\n",
    "\n",
    "nulval[\"percent\"] = (nulval.apply(lambda x: x/x.sum())*100).round(2)\n",
    "\n",
    "nulval"
   ]
  },
  {
   "cell_type": "markdown",
   "id": "32c09eb0",
   "metadata": {},
   "source": [
    "### 'Saving Accounts' and 'Checking Account' have missing value"
   ]
  },
  {
   "cell_type": "code",
   "execution_count": 20,
   "id": "0e54f785",
   "metadata": {},
   "outputs": [],
   "source": [
    "# Histogram\n",
    "def hist(x):\n",
    "    plt.hist(data[x], bins=25)\n",
    "    plt.title(x, fontsize=10, loc=\"right\")\n",
    "    plt.xlabel('Relative frequency')\n",
    "    plt.ylabel('Absolute frequency')\n",
    "    plt.show()"
   ]
  },
  {
   "cell_type": "code",
   "execution_count": 21,
   "id": "be3c572f",
   "metadata": {},
   "outputs": [
    {
     "data": {
      "image/png": "[encoded data removed]",
      "text/plain": [
       "<Figure size 720x648 with 6 Axes>"
      ]
     },
     "metadata": {
      "needs_background": "light"
     },
     "output_type": "display_data"
    }
   ],
   "source": [
    "data.hist(figsize=(10,9), bins=12, ec=\"b\", xlabelsize=8, ylabelsize=8, alpha=0.9, grid=False)\n",
    "\n",
    "plt.tight_layout()\n",
    "plt.show()"
   ]
  },
  {
   "cell_type": "code",
   "execution_count": 22,
   "id": "d9f5b720",
   "metadata": {},
   "outputs": [
    {
     "data": {
      "image/png": "[encoded data removed]",
      "text/plain": [
       "<Figure size 432x288 with 1 Axes>"
      ]
     },
     "metadata": {
      "needs_background": "light"
     },
     "output_type": "display_data"
    },
    {
     "data": {
      "image/png": "[encoded data removed]",
      "text/plain": [
       "<Figure size 432x288 with 1 Axes>"
      ]
     },
     "metadata": {
      "needs_background": "light"
     },
     "output_type": "display_data"
    },
    {
     "data": {
      "image/png": "[encoded data removed]",
      "text/plain": [
       "<Figure size 432x288 with 1 Axes>"
      ]
     },
     "metadata": {
      "needs_background": "light"
     },
     "output_type": "display_data"
    },
    {
     "data": {
      "image/png": "[encoded data removed]",
      "text/plain": [
       "<Figure size 432x288 with 1 Axes>"
      ]
     },
     "metadata": {
      "needs_background": "light"
     },
     "output_type": "display_data"
    },
    {
     "data": {
      "image/png": "[encoded data removed]",
      "text/plain": [
       "<Figure size 432x288 with 1 Axes>"
      ]
     },
     "metadata": {
      "needs_background": "light"
     },
     "output_type": "display_data"
    },
    {
     "data": {
      "image/png": "[encoded data removed]",
      "text/plain": [
       "<Figure size 432x288 with 1 Axes>"
      ]
     },
     "metadata": {
      "needs_background": "light"
     },
     "output_type": "display_data"
    }
   ],
   "source": [
    "for col in data.select_dtypes(include=[\"object\"]).columns:\n",
    "    data[col].value_counts().plot(kind=\"bar\", color=sns.color_palette(\"rocket\"))\n",
    "\n",
    "    plt.xlabel(\"Class\", fontsize=10)\n",
    "    plt.xticks(rotation = 90, horizontalalignment =\"center\")\n",
    "    plt.ylabel(\"Count\", fontsize =10)\n",
    "    plt.title(col, fontsize=10, loc = \"right\")\n",
    "    plt.show()"
   ]
  },
  {
   "cell_type": "code",
   "execution_count": 23,
   "id": "d89ce742",
   "metadata": {},
   "outputs": [],
   "source": [
    "def target(x):\n",
    "    short_0 = data[data.Risk == \"good\"].loc[:,x]\n",
    "    short_1 = data[data.Risk == \"bad\"].loc[:,x]\n",
    "    \n",
    "    a = np.array(short_0)\n",
    "    b = np.array(short_1)\n",
    "    \n",
    "    np.warnings.filterwarnings('ignore')\n",
    "    \n",
    "    plt.hist(a, bins=40, density=True, color=\"g\", alpha = 0.6, label='good', align=\"left\")\n",
    "    plt.hist(b, bins=40, density=True, color=\"r\", alpha = 0.6, label='bad', align=\"right\")\n",
    "    plt.legend(loc='upper right')\n",
    "    plt.title(x, fontsize=10, loc=\"right\")\n",
    "    plt.xlabel('Absolute frequency')\n",
    "    plt.ylabel('Relative frequency')\n",
    "    plt.show()"
   ]
  },
  {
   "cell_type": "markdown",
   "id": "e793c704",
   "metadata": {},
   "source": [
    "# Age"
   ]
  },
  {
   "cell_type": "code",
   "execution_count": 24,
   "id": "1f7bbd31",
   "metadata": {},
   "outputs": [
    {
     "name": "stderr",
     "output_type": "stream",
     "text": [
      "C:\\Users\\berk.dergi\\Anaconda3\\lib\\site-packages\\seaborn\\distributions.py:2557: FutureWarning: `distplot` is a deprecated function and will be removed in a future version. Please adapt your code to use either `displot` (a figure-level function with similar flexibility) or `histplot` (an axes-level function for histograms).\n",
      "  warnings.warn(msg, FutureWarning)\n"
     ]
    },
    {
     "data": {
      "image/png": "[encoded data removed]",
      "text/plain": [
       "<Figure size 432x288 with 1 Axes>"
      ]
     },
     "metadata": {
      "needs_background": "light"
     },
     "output_type": "display_data"
    },
    {
     "data": {
      "text/plain": [
       "'Median: 33.0'"
      ]
     },
     "metadata": {},
     "output_type": "display_data"
    },
    {
     "data": {
      "text/plain": [
       "'Mean: 35.546'"
      ]
     },
     "metadata": {},
     "output_type": "display_data"
    }
   ],
   "source": [
    "variable = data[\"Age\"]\n",
    "\n",
    "mean =np.array(variable).mean()\n",
    "median = np.median(variable)\n",
    "\n",
    "ax= sns.distplot(variable)\n",
    "ax.axvline(mean,color='r', linestyle = '--')\n",
    "ax.axvline(median,color='g', linestyle = '-')\n",
    "\n",
    "plt.title(\"Age\", fontsize=10, loc=\"right\")\n",
    "plt.legend({'Mean': mean, 'Median': median})\n",
    "plt.show()\n",
    "\n",
    "display(\"Median: \" + str(median))\n",
    "display(\"Mean: \" + str(mean))"
   ]
  },
  {
   "cell_type": "markdown",
   "id": "9cbd6f02",
   "metadata": {},
   "source": [
    "# Sex"
   ]
  },
  {
   "cell_type": "code",
   "execution_count": 25,
   "id": "6ae4a740",
   "metadata": {},
   "outputs": [
    {
     "data": {
      "text/plain": [
       "array([<AxesSubplot:ylabel='Sex'>], dtype=object)"
      ]
     },
     "execution_count": 25,
     "metadata": {},
     "output_type": "execute_result"
    },
    {
     "data": {
      "image/png": "[encoded data removed]",
      "text/plain": [
       "<Figure size 1008x432 with 1 Axes>"
      ]
     },
     "metadata": {},
     "output_type": "display_data"
    }
   ],
   "source": [
    "data.Sex.value_counts().plot(kind = 'pie', subplots=True,\n",
    "                                 autopct='%1.2f%%', explode = (0.05, 0.05),\n",
    "                                  startangle=80, legend =True,\n",
    "                                  fontsize=12, figsize=(14,6), textprops={'color':\"black\"})\n"
   ]
  },
  {
   "cell_type": "code",
   "execution_count": 26,
   "id": "a3903072",
   "metadata": {},
   "outputs": [
    {
     "data": {
      "image/png": "[encoded data removed]",
      "text/plain": [
       "<Figure size 432x288 with 1 Axes>"
      ]
     },
     "metadata": {
      "needs_background": "light"
     },
     "output_type": "display_data"
    }
   ],
   "source": [
    "target(\"Sex\")"
   ]
  },
  {
   "cell_type": "markdown",
   "id": "010e2e2b",
   "metadata": {},
   "source": [
    "# Job"
   ]
  },
  {
   "cell_type": "code",
   "execution_count": 27,
   "id": "f0f83c1b",
   "metadata": {},
   "outputs": [
    {
     "data": {
      "text/plain": [
       "array([<AxesSubplot:ylabel='Job'>], dtype=object)"
      ]
     },
     "execution_count": 27,
     "metadata": {},
     "output_type": "execute_result"
    },
    {
     "data": {
      "image/png": "[encoded data removed]",
      "text/plain": [
       "<Figure size 1008x432 with 1 Axes>"
      ]
     },
     "metadata": {},
     "output_type": "display_data"
    }
   ],
   "source": [
    "data.Job.value_counts().plot(kind = 'pie', subplots=True,\n",
    "                                 autopct='%1.2f%%',\n",
    "                                  startangle=80, legend =True,\n",
    "                                  fontsize=12, figsize=(14,6), textprops={'color':\"black\"})"
   ]
  },
  {
   "cell_type": "code",
   "execution_count": 28,
   "id": "8350c1e0",
   "metadata": {},
   "outputs": [
    {
     "data": {
      "image/png": "[encoded data removed]",
      "text/plain": [
       "<Figure size 432x288 with 1 Axes>"
      ]
     },
     "metadata": {
      "needs_background": "light"
     },
     "output_type": "display_data"
    }
   ],
   "source": [
    "target(\"Job\")"
   ]
  },
  {
   "cell_type": "markdown",
   "id": "b625c168",
   "metadata": {},
   "source": [
    "# Housing"
   ]
  },
  {
   "cell_type": "code",
   "execution_count": 29,
   "id": "18355b7a",
   "metadata": {},
   "outputs": [
    {
     "data": {
      "text/plain": [
       "array([<AxesSubplot:ylabel='Housing'>], dtype=object)"
      ]
     },
     "execution_count": 29,
     "metadata": {},
     "output_type": "execute_result"
    },
    {
     "data": {
      "image/png": "[encoded data removed]",
      "text/plain": [
       "<Figure size 1008x432 with 1 Axes>"
      ]
     },
     "metadata": {},
     "output_type": "display_data"
    }
   ],
   "source": [
    "data.Housing.value_counts().plot(kind = 'pie', subplots=True,\n",
    "                                 autopct='%1.2f%%',\n",
    "                                  startangle=80, legend =True,\n",
    "                                  fontsize=12, figsize=(14,6), textprops={'color':\"black\"})"
   ]
  },
  {
   "cell_type": "code",
   "execution_count": 30,
   "id": "04d8f2f2",
   "metadata": {},
   "outputs": [
    {
     "data": {
      "image/png": "[encoded data removed]",
      "text/plain": [
       "<Figure size 432x288 with 1 Axes>"
      ]
     },
     "metadata": {
      "needs_background": "light"
     },
     "output_type": "display_data"
    }
   ],
   "source": [
    "target(\"Housing\")"
   ]
  },
  {
   "cell_type": "markdown",
   "id": "cd8d79d8",
   "metadata": {},
   "source": [
    "# Saving accounts"
   ]
  },
  {
   "cell_type": "code",
   "execution_count": 31,
   "id": "70d8c4ab",
   "metadata": {},
   "outputs": [
    {
     "data": {
      "text/plain": [
       "array([<AxesSubplot:ylabel='Saving_accounts'>], dtype=object)"
      ]
     },
     "execution_count": 31,
     "metadata": {},
     "output_type": "execute_result"
    },
    {
     "data": {
      "image/png": "[encoded data removed]",
      "text/plain": [
       "<Figure size 1008x432 with 1 Axes>"
      ]
     },
     "metadata": {},
     "output_type": "display_data"
    }
   ],
   "source": [
    "data.Saving_accounts.value_counts().plot(kind = 'pie', subplots=True,\n",
    "                                 autopct='%1.2f%%',\n",
    "                                  startangle=80, legend =True,\n",
    "                                  fontsize=12, figsize=(14,6), textprops={'color':\"black\"})\n"
   ]
  },
  {
   "cell_type": "markdown",
   "id": "6b16dfb4",
   "metadata": {},
   "source": [
    "# Checking_account"
   ]
  },
  {
   "cell_type": "code",
   "execution_count": 32,
   "id": "53dae9ef",
   "metadata": {},
   "outputs": [
    {
     "data": {
      "text/plain": [
       "array([<AxesSubplot:ylabel='Checking_account'>], dtype=object)"
      ]
     },
     "execution_count": 32,
     "metadata": {},
     "output_type": "execute_result"
    },
    {
     "data": {
      "image/png": "[encoded data removed]",
      "text/plain": [
       "<Figure size 1008x432 with 1 Axes>"
      ]
     },
     "metadata": {},
     "output_type": "display_data"
    }
   ],
   "source": [
    "data.Checking_account.value_counts().plot(kind = 'pie', subplots=True,\n",
    "                                 autopct='%1.2f%%',\n",
    "                                  startangle=80, legend =True,\n",
    "                                  fontsize=12, figsize=(14,6), textprops={'color':\"black\"})\n",
    "\n"
   ]
  },
  {
   "cell_type": "markdown",
   "id": "fa3bc97d",
   "metadata": {},
   "source": [
    "# Credit Amount"
   ]
  },
  {
   "cell_type": "code",
   "execution_count": 33,
   "id": "caa9e746",
   "metadata": {},
   "outputs": [
    {
     "data": {
      "image/png": "[encoded data removed]",
      "text/plain": [
       "<Figure size 432x288 with 1 Axes>"
      ]
     },
     "metadata": {
      "needs_background": "light"
     },
     "output_type": "display_data"
    },
    {
     "data": {
      "text/plain": [
       "'Median: 2319.5'"
      ]
     },
     "metadata": {},
     "output_type": "display_data"
    },
    {
     "data": {
      "text/plain": [
       "'Mean: 3271.258'"
      ]
     },
     "metadata": {},
     "output_type": "display_data"
    }
   ],
   "source": [
    "variable = data[\"Credit_amount\"]\n",
    "mean =np.array(variable).mean()\n",
    "median = np.median(variable)\n",
    "\n",
    "ax= sns.distplot(variable)\n",
    "ax.axvline(mean,color='r', linestyle = '--')\n",
    "ax.axvline(median,color='g', linestyle = '-')\n",
    "\n",
    "plt.title(\"Age\", fontsize=10, loc=\"right\")\n",
    "plt.legend({'Mean': mean, 'Median': median})\n",
    "plt.show()\n",
    "\n",
    "display(\"Median: \" + str(median))\n",
    "display(\"Mean: \" + str(mean))"
   ]
  },
  {
   "cell_type": "code",
   "execution_count": 34,
   "id": "a54d2fc0",
   "metadata": {},
   "outputs": [
    {
     "data": {
      "image/png": "[encoded data removed]",
      "text/plain": [
       "<Figure size 432x288 with 1 Axes>"
      ]
     },
     "metadata": {
      "needs_background": "light"
     },
     "output_type": "display_data"
    }
   ],
   "source": [
    "target(\"Credit_amount\")"
   ]
  },
  {
   "cell_type": "markdown",
   "id": "3a109049",
   "metadata": {},
   "source": [
    "# Duration "
   ]
  },
  {
   "cell_type": "code",
   "execution_count": 35,
   "id": "912ddc76",
   "metadata": {},
   "outputs": [
    {
     "data": {
      "image/png": "[encoded data removed]",
      "text/plain": [
       "<Figure size 432x288 with 1 Axes>"
      ]
     },
     "metadata": {
      "needs_background": "light"
     },
     "output_type": "display_data"
    },
    {
     "data": {
      "text/plain": [
       "'Median: 18.0'"
      ]
     },
     "metadata": {},
     "output_type": "display_data"
    },
    {
     "data": {
      "text/plain": [
       "'Mean: 20.903'"
      ]
     },
     "metadata": {},
     "output_type": "display_data"
    }
   ],
   "source": [
    "variable = data[\"Duration\"]\n",
    "mean =np.array(variable).mean()\n",
    "median = np.median(variable)\n",
    "\n",
    "ax= sns.distplot(variable)\n",
    "ax.axvline(mean,color='r', linestyle = '--')\n",
    "ax.axvline(median,color='g', linestyle = '-')\n",
    "\n",
    "plt.title(\"Age\", fontsize=10, loc=\"right\")\n",
    "plt.legend({'Mean': mean, 'Median': median})\n",
    "plt.show()\n",
    "\n",
    "display(\"Median: \" + str(median))\n",
    "display(\"Mean: \" + str(mean))"
   ]
  },
  {
   "cell_type": "markdown",
   "id": "654f0e6d",
   "metadata": {},
   "source": [
    "# Purpose"
   ]
  },
  {
   "cell_type": "code",
   "execution_count": 36,
   "id": "a7836d0f",
   "metadata": {},
   "outputs": [
    {
     "data": {
      "text/plain": [
       "array([<AxesSubplot:ylabel='Purpose'>], dtype=object)"
      ]
     },
     "execution_count": 36,
     "metadata": {},
     "output_type": "execute_result"
    },
    {
     "data": {
      "image/png": "[encoded data removed]",
      "text/plain": [
       "<Figure size 1008x432 with 1 Axes>"
      ]
     },
     "metadata": {},
     "output_type": "display_data"
    }
   ],
   "source": [
    "data.Purpose.value_counts().plot(kind = 'pie', subplots=True,\n",
    "                                 autopct='%1.2f%%',\n",
    "                                  startangle=80, legend =True,\n",
    "                                  fontsize=12, figsize=(14,6), textprops={'color':\"black\"})\n",
    "\n"
   ]
  },
  {
   "cell_type": "markdown",
   "id": "98993a8e",
   "metadata": {},
   "source": [
    "# Corelation"
   ]
  },
  {
   "cell_type": "code",
   "execution_count": 37,
   "id": "04b119b4",
   "metadata": {},
   "outputs": [
    {
     "data": {
      "image/png": "[encoded data removed]",
      "text/plain": [
       "<Figure size 1368x648 with 2 Axes>"
      ]
     },
     "metadata": {
      "needs_background": "light"
     },
     "output_type": "display_data"
    }
   ],
   "source": [
    "mask = np.triu(data.corr(), 1)\n",
    "\n",
    "plt.figure(figsize=(19, 9))\n",
    "\n",
    "sns.heatmap(data.corr(), annot=True, vmax=1, vmin=-1, square=True, cmap='BrBG', mask=mask);"
   ]
  },
  {
   "cell_type": "markdown",
   "id": "6c9bfe79",
   "metadata": {},
   "source": [
    "# 2) Data Wragling ( Cleaning, Missing values, Encoding)"
   ]
  },
  {
   "cell_type": "code",
   "execution_count": 38,
   "id": "b2c2f1e9",
   "metadata": {},
   "outputs": [],
   "source": [
    "# Numerical data\n",
    "data_ca = data.select_dtypes(exclude=[\"int64\",\"float64\"]).copy()"
   ]
  },
  {
   "cell_type": "code",
   "execution_count": 39,
   "id": "f0da9aff",
   "metadata": {},
   "outputs": [],
   "source": [
    "# Categoric data\n",
    "data_nu = data.select_dtypes(exclude=[\"object\",\"category\"]).copy()"
   ]
  },
  {
   "cell_type": "code",
   "execution_count": 40,
   "id": "67fdc2a5",
   "metadata": {},
   "outputs": [
    {
     "data": {
      "image/png": "[encoded data removed]",
      "text/plain": [
       "<Figure size 576x1152 with 6 Axes>"
      ]
     },
     "metadata": {
      "needs_background": "light"
     },
     "output_type": "display_data"
    }
   ],
   "source": [
    "fig , axs = plt.subplots(ncols = 3, nrows=2, figsize=(8,16))\n",
    "index = 0\n",
    "axs = axs.flatten()\n",
    "\n",
    "for k,v in data_nu.items():\n",
    "    sns.boxplot(y = k , data = data_nu, ax = axs[index], orient = \"h\")\n",
    "    index +=1\n",
    "    plt.tight_layout(pad= 0.4, w_pad = 0.5 , h_pad = 5.0)"
   ]
  },
  {
   "cell_type": "markdown",
   "id": "b5140742",
   "metadata": {},
   "source": [
    "# Age"
   ]
  },
  {
   "cell_type": "code",
   "execution_count": 41,
   "id": "a547d544",
   "metadata": {},
   "outputs": [
    {
     "data": {
      "image/png": "[encoded data removed]",
      "text/plain": [
       "<Figure size 432x288 with 1 Axes>"
      ]
     },
     "metadata": {
      "needs_background": "light"
     },
     "output_type": "display_data"
    },
    {
     "name": "stdout",
     "output_type": "stream",
     "text": [
      "count    1000.000000\n",
      "mean       35.546000\n",
      "std        11.375469\n",
      "min        19.000000\n",
      "25%        27.000000\n",
      "50%        33.000000\n",
      "75%        42.000000\n",
      "max        75.000000\n",
      "Name: Age, dtype: float64\n"
     ]
    }
   ],
   "source": [
    "variable = data[\"Age\"]\n",
    "\n",
    "mean =np.array(variable).mean()\n",
    "median = np.median(variable)\n",
    "\n",
    "ax= sns.boxplot(variable)\n",
    "ax.axvline(mean,color='r', linestyle = '--')\n",
    "ax.axvline(median,color='g', linestyle = '-')\n",
    "\n",
    "plt.title(\"Age\", fontsize=10, loc=\"right\")\n",
    "plt.legend({'Mean': mean, 'Median': median})\n",
    "plt.show()\n",
    "\n",
    "print(data.Age.describe())"
   ]
  },
  {
   "cell_type": "code",
   "execution_count": 42,
   "id": "41ae4294",
   "metadata": {},
   "outputs": [
    {
     "data": {
      "image/png": "[encoded data removed]",
      "text/plain": [
       "<Figure size 432x288 with 1 Axes>"
      ]
     },
     "metadata": {
      "needs_background": "light"
     },
     "output_type": "display_data"
    },
    {
     "name": "stdout",
     "output_type": "stream",
     "text": [
      "count    977.000000\n",
      "mean      34.769703\n",
      "std       10.291110\n",
      "min       19.000000\n",
      "25%       27.000000\n",
      "50%       33.000000\n",
      "75%       41.000000\n",
      "max       64.000000\n",
      "Name: Age, dtype: float64\n"
     ]
    }
   ],
   "source": [
    "# finding outliners according to IQR score and DELETING\n",
    "\n",
    "Q1 = data['Age'].quantile(0.25)\n",
    "Q3 = data['Age'].quantile(0.75)\n",
    "\n",
    "IQR = Q3 -Q1\n",
    "\n",
    "data['Age'] = data.Age[~((data.Age < Q1 - 1.5 * IQR ) |\n",
    "                                      (data.Age > Q3 + 1.5 *IQR ))]\n",
    "\n",
    "\n",
    "\n",
    "\n",
    "variable = data[\"Age\"]\n",
    "\n",
    "mean =np.array(variable).mean()\n",
    "median = np.median(variable)\n",
    "\n",
    "ax= sns.boxplot(variable)\n",
    "ax.axvline(mean,color='r', linestyle = '--')\n",
    "ax.axvline(median,color='g', linestyle = '-')\n",
    "\n",
    "plt.title(\"Age\", fontsize=10, loc=\"right\")\n",
    "plt.legend({'Mean': mean, 'Median': median})\n",
    "plt.show()\n",
    "\n",
    "print(data.Age.describe())"
   ]
  },
  {
   "cell_type": "code",
   "execution_count": 43,
   "id": "e3d77ec1",
   "metadata": {},
   "outputs": [
    {
     "name": "stdout",
     "output_type": "stream",
     "text": [
      "Number of deleted outliners : 23.0\n"
     ]
    }
   ],
   "source": [
    " print( \"Number of deleted outliners : \"+ str(data_nu.Age.describe()[0] - data.Age.describe()[0]))"
   ]
  },
  {
   "cell_type": "code",
   "execution_count": 44,
   "id": "25b667eb",
   "metadata": {},
   "outputs": [
    {
     "data": {
      "image/png": "[encoded data removed]",
      "text/plain": [
       "<Figure size 432x288 with 1 Axes>"
      ]
     },
     "metadata": {
      "needs_background": "light"
     },
     "output_type": "display_data"
    },
    {
     "name": "stdout",
     "output_type": "stream",
     "text": [
      "count     1000.000000\n",
      "mean      3271.258000\n",
      "std       2822.736876\n",
      "min        250.000000\n",
      "25%       1365.500000\n",
      "50%       2319.500000\n",
      "75%       3972.250000\n",
      "max      18424.000000\n",
      "Name: Credit_amount, dtype: float64\n"
     ]
    }
   ],
   "source": [
    "variable = data[\"Credit_amount\"]\n",
    "\n",
    "mean =np.array(variable).mean()\n",
    "median = np.median(variable)\n",
    "\n",
    "ax= sns.boxplot(variable)\n",
    "ax.axvline(mean,color='r', linestyle = '--')\n",
    "ax.axvline(median,color='g', linestyle = '-')\n",
    "\n",
    "plt.title(\"Credit_amount\", fontsize=10, loc=\"right\")\n",
    "plt.legend({'Mean': mean, 'Median': median})\n",
    "plt.show()\n",
    "\n",
    "print(data.Credit_amount.describe())"
   ]
  },
  {
   "cell_type": "code",
   "execution_count": 45,
   "id": "2a6d6340",
   "metadata": {},
   "outputs": [
    {
     "data": {
      "image/png": "[encoded data removed]",
      "text/plain": [
       "<Figure size 432x288 with 1 Axes>"
      ]
     },
     "metadata": {
      "needs_background": "light"
     },
     "output_type": "display_data"
    },
    {
     "name": "stdout",
     "output_type": "stream",
     "text": [
      "count     928.000000\n",
      "mean     2676.260776\n",
      "std      1789.289642\n",
      "min       250.000000\n",
      "25%      1328.250000\n",
      "50%      2145.500000\n",
      "75%      3569.250000\n",
      "max      7882.000000\n",
      "Name: Credit_amount, dtype: float64\n"
     ]
    }
   ],
   "source": [
    "# finding outliners according to IQR score and DELETING\n",
    "\n",
    "Q1 = data['Credit_amount'].quantile(0.25)\n",
    "Q3 = data['Credit_amount'].quantile(0.75)\n",
    "\n",
    "IQR = Q3 -Q1\n",
    "\n",
    "data['Credit_amount'] = data.Credit_amount[~((data.Credit_amount < Q1 - 1.5 * IQR ) |\n",
    "                                      (data.Credit_amount > Q3 + 1.5 *IQR ))]\n",
    "\n",
    "\n",
    "\n",
    "\n",
    "variable = data[\"Credit_amount\"]\n",
    "\n",
    "mean =np.array(variable).mean()\n",
    "median = np.median(variable)\n",
    "\n",
    "ax= sns.boxplot(variable)\n",
    "ax.axvline(mean,color='r', linestyle = '--')\n",
    "ax.axvline(median,color='g', linestyle = '-')\n",
    "\n",
    "plt.title(\"Credit_amount\", fontsize=10, loc=\"right\")\n",
    "plt.legend({'Mean': mean, 'Median': median})\n",
    "plt.show()\n",
    "\n",
    "print(data.Credit_amount.describe())"
   ]
  },
  {
   "cell_type": "code",
   "execution_count": 46,
   "id": "9e764b6f",
   "metadata": {},
   "outputs": [
    {
     "data": {
      "image/png": "[encoded data removed]",
      "text/plain": [
       "<Figure size 432x288 with 1 Axes>"
      ]
     },
     "metadata": {
      "needs_background": "light"
     },
     "output_type": "display_data"
    },
    {
     "name": "stdout",
     "output_type": "stream",
     "text": [
      "count    1000.000000\n",
      "mean       20.903000\n",
      "std        12.058814\n",
      "min         4.000000\n",
      "25%        12.000000\n",
      "50%        18.000000\n",
      "75%        24.000000\n",
      "max        72.000000\n",
      "Name: Duration, dtype: float64\n"
     ]
    }
   ],
   "source": [
    "variable = data[\"Duration\"]\n",
    "\n",
    "mean =np.array(variable).mean()\n",
    "median = np.median(variable)\n",
    "\n",
    "ax= sns.boxplot(variable)\n",
    "ax.axvline(mean,color='r', linestyle = '--')\n",
    "ax.axvline(median,color='g', linestyle = '-')\n",
    "\n",
    "plt.title(\"Duration\", fontsize=10, loc=\"right\")\n",
    "plt.legend({'Mean': mean, 'Median': median})\n",
    "plt.show()\n",
    "\n",
    "print(data.Duration.describe())"
   ]
  },
  {
   "cell_type": "code",
   "execution_count": 47,
   "id": "5bff6421",
   "metadata": {},
   "outputs": [
    {
     "name": "stdout",
     "output_type": "stream",
     "text": [
      "Threshold value value : 60.0\n"
     ]
    }
   ],
   "source": [
    "value = data.Duration.quantile([.990])\n",
    "p = value.iloc[0]\n",
    "\n",
    "print(\"Threshold value value : \" + str(p))\n",
    "\n",
    "data = data[data[\"Duration\"] < p]"
   ]
  },
  {
   "cell_type": "code",
   "execution_count": 48,
   "id": "85fd7601",
   "metadata": {},
   "outputs": [
    {
     "data": {
      "image/png": "[encoded data removed]",
      "text/plain": [
       "<Figure size 432x288 with 1 Axes>"
      ]
     },
     "metadata": {
      "needs_background": "light"
     },
     "output_type": "display_data"
    },
    {
     "name": "stdout",
     "output_type": "stream",
     "text": [
      "count    986.000000\n",
      "mean      20.335700\n",
      "std       11.150556\n",
      "min        4.000000\n",
      "25%       12.000000\n",
      "50%       18.000000\n",
      "75%       24.000000\n",
      "max       54.000000\n",
      "Name: Duration, dtype: float64\n"
     ]
    }
   ],
   "source": [
    "variable = data[\"Duration\"]\n",
    "\n",
    "mean =np.array(variable).mean()\n",
    "median = np.median(variable)\n",
    "\n",
    "ax= sns.boxplot(variable)\n",
    "ax.axvline(mean,color='r', linestyle = '--')\n",
    "ax.axvline(median,color='g', linestyle = '-')\n",
    "\n",
    "plt.title(\"Duration\", fontsize=10, loc=\"right\")\n",
    "plt.legend({'Mean': mean, 'Median': median})\n",
    "plt.show()\n",
    "\n",
    "print(data.Duration.describe())"
   ]
  },
  {
   "cell_type": "markdown",
   "id": "516d46c9",
   "metadata": {},
   "source": [
    "### MISSING VALUES "
   ]
  },
  {
   "cell_type": "code",
   "execution_count": 49,
   "id": "84f13595",
   "metadata": {},
   "outputs": [
    {
     "name": "stdout",
     "output_type": "stream",
     "text": [
      "'Age': number of missing values : '23', portion : '2.333%'\n",
      "'Saving_accounts': number of missing values : '179', portion : '18.154%'\n",
      "'Checking_account': number of missing values : '389', portion : '39.452%'\n",
      "'Credit_amount': number of missing values : '65', portion : '6.592%'\n"
     ]
    }
   ],
   "source": [
    "for column in data.columns:\n",
    "    if data[column].isna().sum() != 0:\n",
    "        missing = data[column].isna().sum()\n",
    "        portion = (missing / data.shape[0]) * 100\n",
    "        print(f\"'{column}': number of missing values : '{missing}', portion : '{portion:.3f}%'\")"
   ]
  },
  {
   "cell_type": "code",
   "execution_count": 50,
   "id": "2645f378",
   "metadata": {},
   "outputs": [
    {
     "name": "stdout",
     "output_type": "stream",
     "text": [
      "False\n"
     ]
    }
   ],
   "source": [
    "\n",
    "data[\"Age\"] = data. Age.fillna(data.Age.mean())\n",
    "\n",
    "print(data.Age.isnull().values.any())"
   ]
  },
  {
   "cell_type": "code",
   "execution_count": 51,
   "id": "9b6ae6b3",
   "metadata": {},
   "outputs": [
    {
     "name": "stdout",
     "output_type": "stream",
     "text": [
      "False\n"
     ]
    }
   ],
   "source": [
    "data[\"Saving_accounts\"] = data.Saving_accounts.fillna(data.Saving_accounts.value_counts().index[0])\n",
    "\n",
    "print(data.Saving_accounts.isnull().values.any())"
   ]
  },
  {
   "cell_type": "code",
   "execution_count": 52,
   "id": "60dce324",
   "metadata": {},
   "outputs": [
    {
     "name": "stdout",
     "output_type": "stream",
     "text": [
      "False\n"
     ]
    }
   ],
   "source": [
    "data[\"Checking_account\"] = data.Checking_account.fillna(data.Checking_account.value_counts().index[0])\n",
    "\n",
    "print(data.Checking_account.isnull().values.any())"
   ]
  },
  {
   "cell_type": "code",
   "execution_count": 53,
   "id": "defb7ba1",
   "metadata": {},
   "outputs": [
    {
     "name": "stdout",
     "output_type": "stream",
     "text": [
      "False\n"
     ]
    }
   ],
   "source": [
    "\n",
    "data[\"Credit_amount\"] = data. Credit_amount.fillna(data.Credit_amount.mean())\n",
    "\n",
    "print(data.Credit_amount.isnull().values.any())"
   ]
  },
  {
   "cell_type": "markdown",
   "id": "d1573097",
   "metadata": {},
   "source": [
    "# DATA SELECTION"
   ]
  },
  {
   "cell_type": "code",
   "execution_count": 54,
   "id": "f3991819",
   "metadata": {},
   "outputs": [
    {
     "data": {
      "text/plain": [
       "(986, 10)"
      ]
     },
     "execution_count": 54,
     "metadata": {},
     "output_type": "execute_result"
    }
   ],
   "source": [
    "data.drop(\"Unnamed: 0\", axis =1, inplace = True)\n",
    "\n",
    "data.shape"
   ]
  },
  {
   "cell_type": "code",
   "execution_count": 55,
   "id": "738fbad2",
   "metadata": {},
   "outputs": [
    {
     "data": {
      "text/html": [
       "<div>\n",
       "<style scoped>\n",
       "    .dataframe tbody tr th:only-of-type {\n",
       "        vertical-align: middle;\n",
       "    }\n",
       "\n",
       "    .dataframe tbody tr th {\n",
       "        vertical-align: top;\n",
       "    }\n",
       "\n",
       "    .dataframe thead th {\n",
       "        text-align: right;\n",
       "    }\n",
       "</style>\n",
       "<table border=\"1\" class=\"dataframe\">\n",
       "  <thead>\n",
       "    <tr style=\"text-align: right;\">\n",
       "      <th></th>\n",
       "      <th>Age</th>\n",
       "      <th>Sex</th>\n",
       "      <th>Job</th>\n",
       "      <th>Housing</th>\n",
       "      <th>Saving_accounts</th>\n",
       "      <th>Checking_account</th>\n",
       "      <th>Credit_amount</th>\n",
       "      <th>Duration</th>\n",
       "      <th>Purpose</th>\n",
       "      <th>Risk</th>\n",
       "    </tr>\n",
       "  </thead>\n",
       "  <tbody>\n",
       "    <tr>\n",
       "      <th>0</th>\n",
       "      <td>34.744548</td>\n",
       "      <td>male</td>\n",
       "      <td>2</td>\n",
       "      <td>own</td>\n",
       "      <td>little</td>\n",
       "      <td>little</td>\n",
       "      <td>1169.0</td>\n",
       "      <td>6</td>\n",
       "      <td>radio/TV</td>\n",
       "      <td>good</td>\n",
       "    </tr>\n",
       "    <tr>\n",
       "      <th>1</th>\n",
       "      <td>22.000000</td>\n",
       "      <td>female</td>\n",
       "      <td>2</td>\n",
       "      <td>own</td>\n",
       "      <td>little</td>\n",
       "      <td>moderate</td>\n",
       "      <td>5951.0</td>\n",
       "      <td>48</td>\n",
       "      <td>radio/TV</td>\n",
       "      <td>bad</td>\n",
       "    </tr>\n",
       "    <tr>\n",
       "      <th>2</th>\n",
       "      <td>49.000000</td>\n",
       "      <td>male</td>\n",
       "      <td>1</td>\n",
       "      <td>own</td>\n",
       "      <td>little</td>\n",
       "      <td>little</td>\n",
       "      <td>2096.0</td>\n",
       "      <td>12</td>\n",
       "      <td>education</td>\n",
       "      <td>good</td>\n",
       "    </tr>\n",
       "    <tr>\n",
       "      <th>3</th>\n",
       "      <td>45.000000</td>\n",
       "      <td>male</td>\n",
       "      <td>2</td>\n",
       "      <td>free</td>\n",
       "      <td>little</td>\n",
       "      <td>little</td>\n",
       "      <td>7882.0</td>\n",
       "      <td>42</td>\n",
       "      <td>furniture/equipment</td>\n",
       "      <td>good</td>\n",
       "    </tr>\n",
       "    <tr>\n",
       "      <th>4</th>\n",
       "      <td>53.000000</td>\n",
       "      <td>male</td>\n",
       "      <td>2</td>\n",
       "      <td>free</td>\n",
       "      <td>little</td>\n",
       "      <td>little</td>\n",
       "      <td>4870.0</td>\n",
       "      <td>24</td>\n",
       "      <td>car</td>\n",
       "      <td>bad</td>\n",
       "    </tr>\n",
       "  </tbody>\n",
       "</table>\n",
       "</div>"
      ],
      "text/plain": [
       "         Age     Sex  Job Housing Saving_accounts Checking_account  \\\n",
       "0  34.744548    male    2     own          little           little   \n",
       "1  22.000000  female    2     own          little         moderate   \n",
       "2  49.000000    male    1     own          little           little   \n",
       "3  45.000000    male    2    free          little           little   \n",
       "4  53.000000    male    2    free          little           little   \n",
       "\n",
       "   Credit_amount  Duration              Purpose  Risk  \n",
       "0         1169.0         6             radio/TV  good  \n",
       "1         5951.0        48             radio/TV   bad  \n",
       "2         2096.0        12            education  good  \n",
       "3         7882.0        42  furniture/equipment  good  \n",
       "4         4870.0        24                  car   bad  "
      ]
     },
     "execution_count": 55,
     "metadata": {},
     "output_type": "execute_result"
    }
   ],
   "source": [
    "data.head()"
   ]
  },
  {
   "cell_type": "code",
   "execution_count": 56,
   "id": "a76b652a",
   "metadata": {},
   "outputs": [],
   "source": [
    "data['Age'] = data['Age'].astype('int')"
   ]
  },
  {
   "cell_type": "code",
   "execution_count": 57,
   "id": "eaaf342e",
   "metadata": {},
   "outputs": [],
   "source": [
    "data['Credit_amount'] = data['Credit_amount'].astype('int')"
   ]
  },
  {
   "cell_type": "code",
   "execution_count": 58,
   "id": "5b0e18de",
   "metadata": {},
   "outputs": [
    {
     "data": {
      "text/html": [
       "<div>\n",
       "<style scoped>\n",
       "    .dataframe tbody tr th:only-of-type {\n",
       "        vertical-align: middle;\n",
       "    }\n",
       "\n",
       "    .dataframe tbody tr th {\n",
       "        vertical-align: top;\n",
       "    }\n",
       "\n",
       "    .dataframe thead th {\n",
       "        text-align: right;\n",
       "    }\n",
       "</style>\n",
       "<table border=\"1\" class=\"dataframe\">\n",
       "  <thead>\n",
       "    <tr style=\"text-align: right;\">\n",
       "      <th></th>\n",
       "      <th>Age</th>\n",
       "      <th>Sex</th>\n",
       "      <th>Job</th>\n",
       "      <th>Housing</th>\n",
       "      <th>Saving_accounts</th>\n",
       "      <th>Checking_account</th>\n",
       "      <th>Credit_amount</th>\n",
       "      <th>Duration</th>\n",
       "      <th>Purpose</th>\n",
       "      <th>Risk</th>\n",
       "    </tr>\n",
       "  </thead>\n",
       "  <tbody>\n",
       "    <tr>\n",
       "      <th>0</th>\n",
       "      <td>34</td>\n",
       "      <td>male</td>\n",
       "      <td>2</td>\n",
       "      <td>own</td>\n",
       "      <td>little</td>\n",
       "      <td>little</td>\n",
       "      <td>1169</td>\n",
       "      <td>6</td>\n",
       "      <td>radio/TV</td>\n",
       "      <td>good</td>\n",
       "    </tr>\n",
       "    <tr>\n",
       "      <th>1</th>\n",
       "      <td>22</td>\n",
       "      <td>female</td>\n",
       "      <td>2</td>\n",
       "      <td>own</td>\n",
       "      <td>little</td>\n",
       "      <td>moderate</td>\n",
       "      <td>5951</td>\n",
       "      <td>48</td>\n",
       "      <td>radio/TV</td>\n",
       "      <td>bad</td>\n",
       "    </tr>\n",
       "    <tr>\n",
       "      <th>2</th>\n",
       "      <td>49</td>\n",
       "      <td>male</td>\n",
       "      <td>1</td>\n",
       "      <td>own</td>\n",
       "      <td>little</td>\n",
       "      <td>little</td>\n",
       "      <td>2096</td>\n",
       "      <td>12</td>\n",
       "      <td>education</td>\n",
       "      <td>good</td>\n",
       "    </tr>\n",
       "    <tr>\n",
       "      <th>3</th>\n",
       "      <td>45</td>\n",
       "      <td>male</td>\n",
       "      <td>2</td>\n",
       "      <td>free</td>\n",
       "      <td>little</td>\n",
       "      <td>little</td>\n",
       "      <td>7882</td>\n",
       "      <td>42</td>\n",
       "      <td>furniture/equipment</td>\n",
       "      <td>good</td>\n",
       "    </tr>\n",
       "    <tr>\n",
       "      <th>4</th>\n",
       "      <td>53</td>\n",
       "      <td>male</td>\n",
       "      <td>2</td>\n",
       "      <td>free</td>\n",
       "      <td>little</td>\n",
       "      <td>little</td>\n",
       "      <td>4870</td>\n",
       "      <td>24</td>\n",
       "      <td>car</td>\n",
       "      <td>bad</td>\n",
       "    </tr>\n",
       "  </tbody>\n",
       "</table>\n",
       "</div>"
      ],
      "text/plain": [
       "   Age     Sex  Job Housing Saving_accounts Checking_account  Credit_amount  \\\n",
       "0   34    male    2     own          little           little           1169   \n",
       "1   22  female    2     own          little         moderate           5951   \n",
       "2   49    male    1     own          little           little           2096   \n",
       "3   45    male    2    free          little           little           7882   \n",
       "4   53    male    2    free          little           little           4870   \n",
       "\n",
       "   Duration              Purpose  Risk  \n",
       "0         6             radio/TV  good  \n",
       "1        48             radio/TV   bad  \n",
       "2        12            education  good  \n",
       "3        42  furniture/equipment  good  \n",
       "4        24                  car   bad  "
      ]
     },
     "execution_count": 58,
     "metadata": {},
     "output_type": "execute_result"
    }
   ],
   "source": [
    "data.head()"
   ]
  },
  {
   "cell_type": "code",
   "execution_count": 59,
   "id": "d5d5daa6",
   "metadata": {},
   "outputs": [],
   "source": [
    "data[\"Risk\"] = data.Risk.map({\"good\":0, \"bad\":1})"
   ]
  },
  {
   "cell_type": "code",
   "execution_count": 60,
   "id": "7264cbe7",
   "metadata": {},
   "outputs": [
    {
     "data": {
      "text/html": [
       "<div>\n",
       "<style scoped>\n",
       "    .dataframe tbody tr th:only-of-type {\n",
       "        vertical-align: middle;\n",
       "    }\n",
       "\n",
       "    .dataframe tbody tr th {\n",
       "        vertical-align: top;\n",
       "    }\n",
       "\n",
       "    .dataframe thead th {\n",
       "        text-align: right;\n",
       "    }\n",
       "</style>\n",
       "<table border=\"1\" class=\"dataframe\">\n",
       "  <thead>\n",
       "    <tr style=\"text-align: right;\">\n",
       "      <th></th>\n",
       "      <th>Age</th>\n",
       "      <th>Sex</th>\n",
       "      <th>Job</th>\n",
       "      <th>Housing</th>\n",
       "      <th>Saving_accounts</th>\n",
       "      <th>Checking_account</th>\n",
       "      <th>Credit_amount</th>\n",
       "      <th>Duration</th>\n",
       "      <th>Purpose</th>\n",
       "      <th>Risk</th>\n",
       "    </tr>\n",
       "  </thead>\n",
       "  <tbody>\n",
       "    <tr>\n",
       "      <th>0</th>\n",
       "      <td>34</td>\n",
       "      <td>male</td>\n",
       "      <td>2</td>\n",
       "      <td>own</td>\n",
       "      <td>little</td>\n",
       "      <td>little</td>\n",
       "      <td>1169</td>\n",
       "      <td>6</td>\n",
       "      <td>radio/TV</td>\n",
       "      <td>0</td>\n",
       "    </tr>\n",
       "    <tr>\n",
       "      <th>1</th>\n",
       "      <td>22</td>\n",
       "      <td>female</td>\n",
       "      <td>2</td>\n",
       "      <td>own</td>\n",
       "      <td>little</td>\n",
       "      <td>moderate</td>\n",
       "      <td>5951</td>\n",
       "      <td>48</td>\n",
       "      <td>radio/TV</td>\n",
       "      <td>1</td>\n",
       "    </tr>\n",
       "    <tr>\n",
       "      <th>2</th>\n",
       "      <td>49</td>\n",
       "      <td>male</td>\n",
       "      <td>1</td>\n",
       "      <td>own</td>\n",
       "      <td>little</td>\n",
       "      <td>little</td>\n",
       "      <td>2096</td>\n",
       "      <td>12</td>\n",
       "      <td>education</td>\n",
       "      <td>0</td>\n",
       "    </tr>\n",
       "    <tr>\n",
       "      <th>3</th>\n",
       "      <td>45</td>\n",
       "      <td>male</td>\n",
       "      <td>2</td>\n",
       "      <td>free</td>\n",
       "      <td>little</td>\n",
       "      <td>little</td>\n",
       "      <td>7882</td>\n",
       "      <td>42</td>\n",
       "      <td>furniture/equipment</td>\n",
       "      <td>0</td>\n",
       "    </tr>\n",
       "    <tr>\n",
       "      <th>4</th>\n",
       "      <td>53</td>\n",
       "      <td>male</td>\n",
       "      <td>2</td>\n",
       "      <td>free</td>\n",
       "      <td>little</td>\n",
       "      <td>little</td>\n",
       "      <td>4870</td>\n",
       "      <td>24</td>\n",
       "      <td>car</td>\n",
       "      <td>1</td>\n",
       "    </tr>\n",
       "  </tbody>\n",
       "</table>\n",
       "</div>"
      ],
      "text/plain": [
       "   Age     Sex  Job Housing Saving_accounts Checking_account  Credit_amount  \\\n",
       "0   34    male    2     own          little           little           1169   \n",
       "1   22  female    2     own          little         moderate           5951   \n",
       "2   49    male    1     own          little           little           2096   \n",
       "3   45    male    2    free          little           little           7882   \n",
       "4   53    male    2    free          little           little           4870   \n",
       "\n",
       "   Duration              Purpose  Risk  \n",
       "0         6             radio/TV     0  \n",
       "1        48             radio/TV     1  \n",
       "2        12            education     0  \n",
       "3        42  furniture/equipment     0  \n",
       "4        24                  car     1  "
      ]
     },
     "execution_count": 60,
     "metadata": {},
     "output_type": "execute_result"
    }
   ],
   "source": [
    "data.head()"
   ]
  },
  {
   "cell_type": "code",
   "execution_count": 61,
   "id": "77dd64ab",
   "metadata": {},
   "outputs": [],
   "source": [
    "data_nu = data.select_dtypes(exclude=[\"object\",\"category\"]).copy()\n",
    "\n",
    "Xnumerical = data_nu.drop([\"Risk\"], axis =\"columns\")\n",
    "Ynumerical = data_nu.Risk"
   ]
  },
  {
   "cell_type": "code",
   "execution_count": 62,
   "id": "11412ba7",
   "metadata": {},
   "outputs": [
    {
     "data": {
      "text/html": [
       "<div>\n",
       "<style scoped>\n",
       "    .dataframe tbody tr th:only-of-type {\n",
       "        vertical-align: middle;\n",
       "    }\n",
       "\n",
       "    .dataframe tbody tr th {\n",
       "        vertical-align: top;\n",
       "    }\n",
       "\n",
       "    .dataframe thead th {\n",
       "        text-align: right;\n",
       "    }\n",
       "</style>\n",
       "<table border=\"1\" class=\"dataframe\">\n",
       "  <thead>\n",
       "    <tr style=\"text-align: right;\">\n",
       "      <th></th>\n",
       "      <th>Pearson Corr.</th>\n",
       "      <th>p-value</th>\n",
       "    </tr>\n",
       "  </thead>\n",
       "  <tbody>\n",
       "    <tr>\n",
       "      <th>Age</th>\n",
       "      <td>-0.1024</td>\n",
       "      <td>0.0013</td>\n",
       "    </tr>\n",
       "    <tr>\n",
       "      <th>Job</th>\n",
       "      <td>0.0273</td>\n",
       "      <td>0.3920</td>\n",
       "    </tr>\n",
       "    <tr>\n",
       "      <th>Credit_amount</th>\n",
       "      <td>0.0341</td>\n",
       "      <td>0.2851</td>\n",
       "    </tr>\n",
       "    <tr>\n",
       "      <th>Duration</th>\n",
       "      <td>0.2126</td>\n",
       "      <td>0.0000</td>\n",
       "    </tr>\n",
       "  </tbody>\n",
       "</table>\n",
       "</div>"
      ],
      "text/plain": [
       "               Pearson Corr.  p-value\n",
       "Age                  -0.1024   0.0013\n",
       "Job                   0.0273   0.3920\n",
       "Credit_amount         0.0341   0.2851\n",
       "Duration              0.2126   0.0000"
      ]
     },
     "execution_count": 62,
     "metadata": {},
     "output_type": "execute_result"
    }
   ],
   "source": [
    "pd.DataFrame(\n",
    "    [scipy.stats.pearsonr(Xnumerical[col],\n",
    "    Ynumerical) for col in Xnumerical.columns],\n",
    "    columns= [\"Pearson Corr.\", \"p-value\"],\n",
    "    index = Xnumerical.columns,\n",
    ").round(4)"
   ]
  },
  {
   "cell_type": "code",
   "execution_count": 63,
   "id": "6f801aeb",
   "metadata": {},
   "outputs": [],
   "source": [
    "Xcategorical = data.select_dtypes(exclude = ['int64', 'float64']).copy()"
   ]
  },
  {
   "cell_type": "code",
   "execution_count": 64,
   "id": "14654cb3",
   "metadata": {},
   "outputs": [],
   "source": [
    "Ycategorical = data.Risk"
   ]
  },
  {
   "cell_type": "code",
   "execution_count": 65,
   "id": "f7aec270",
   "metadata": {},
   "outputs": [
    {
     "name": "stdout",
     "output_type": "stream",
     "text": [
      "\n"
     ]
    },
    {
     "data": {
      "text/html": [
       "<div>\n",
       "<style scoped>\n",
       "    .dataframe tbody tr th:only-of-type {\n",
       "        vertical-align: middle;\n",
       "    }\n",
       "\n",
       "    .dataframe tbody tr th {\n",
       "        vertical-align: top;\n",
       "    }\n",
       "\n",
       "    .dataframe thead th {\n",
       "        text-align: right;\n",
       "    }\n",
       "</style>\n",
       "<table border=\"1\" class=\"dataframe\">\n",
       "  <thead>\n",
       "    <tr style=\"text-align: right;\">\n",
       "      <th>Risk</th>\n",
       "      <th>0</th>\n",
       "      <th>1</th>\n",
       "    </tr>\n",
       "    <tr>\n",
       "      <th>Age</th>\n",
       "      <th></th>\n",
       "      <th></th>\n",
       "    </tr>\n",
       "  </thead>\n",
       "  <tbody>\n",
       "    <tr>\n",
       "      <th>19</th>\n",
       "      <td>1</td>\n",
       "      <td>1</td>\n",
       "    </tr>\n",
       "    <tr>\n",
       "      <th>20</th>\n",
       "      <td>9</td>\n",
       "      <td>5</td>\n",
       "    </tr>\n",
       "    <tr>\n",
       "      <th>21</th>\n",
       "      <td>7</td>\n",
       "      <td>5</td>\n",
       "    </tr>\n",
       "    <tr>\n",
       "      <th>22</th>\n",
       "      <td>16</td>\n",
       "      <td>11</td>\n",
       "    </tr>\n",
       "    <tr>\n",
       "      <th>23</th>\n",
       "      <td>28</td>\n",
       "      <td>20</td>\n",
       "    </tr>\n",
       "    <tr>\n",
       "      <th>24</th>\n",
       "      <td>25</td>\n",
       "      <td>17</td>\n",
       "    </tr>\n",
       "    <tr>\n",
       "      <th>25</th>\n",
       "      <td>22</td>\n",
       "      <td>19</td>\n",
       "    </tr>\n",
       "    <tr>\n",
       "      <th>26</th>\n",
       "      <td>36</td>\n",
       "      <td>14</td>\n",
       "    </tr>\n",
       "    <tr>\n",
       "      <th>27</th>\n",
       "      <td>36</td>\n",
       "      <td>12</td>\n",
       "    </tr>\n",
       "    <tr>\n",
       "      <th>28</th>\n",
       "      <td>28</td>\n",
       "      <td>15</td>\n",
       "    </tr>\n",
       "    <tr>\n",
       "      <th>29</th>\n",
       "      <td>22</td>\n",
       "      <td>15</td>\n",
       "    </tr>\n",
       "    <tr>\n",
       "      <th>30</th>\n",
       "      <td>29</td>\n",
       "      <td>11</td>\n",
       "    </tr>\n",
       "    <tr>\n",
       "      <th>31</th>\n",
       "      <td>27</td>\n",
       "      <td>11</td>\n",
       "    </tr>\n",
       "    <tr>\n",
       "      <th>32</th>\n",
       "      <td>25</td>\n",
       "      <td>9</td>\n",
       "    </tr>\n",
       "    <tr>\n",
       "      <th>33</th>\n",
       "      <td>20</td>\n",
       "      <td>13</td>\n",
       "    </tr>\n",
       "    <tr>\n",
       "      <th>34</th>\n",
       "      <td>37</td>\n",
       "      <td>17</td>\n",
       "    </tr>\n",
       "    <tr>\n",
       "      <th>35</th>\n",
       "      <td>34</td>\n",
       "      <td>6</td>\n",
       "    </tr>\n",
       "    <tr>\n",
       "      <th>36</th>\n",
       "      <td>33</td>\n",
       "      <td>5</td>\n",
       "    </tr>\n",
       "    <tr>\n",
       "      <th>37</th>\n",
       "      <td>21</td>\n",
       "      <td>8</td>\n",
       "    </tr>\n",
       "    <tr>\n",
       "      <th>38</th>\n",
       "      <td>20</td>\n",
       "      <td>4</td>\n",
       "    </tr>\n",
       "    <tr>\n",
       "      <th>39</th>\n",
       "      <td>15</td>\n",
       "      <td>6</td>\n",
       "    </tr>\n",
       "    <tr>\n",
       "      <th>40</th>\n",
       "      <td>19</td>\n",
       "      <td>6</td>\n",
       "    </tr>\n",
       "    <tr>\n",
       "      <th>41</th>\n",
       "      <td>13</td>\n",
       "      <td>4</td>\n",
       "    </tr>\n",
       "    <tr>\n",
       "      <th>42</th>\n",
       "      <td>13</td>\n",
       "      <td>7</td>\n",
       "    </tr>\n",
       "    <tr>\n",
       "      <th>43</th>\n",
       "      <td>12</td>\n",
       "      <td>5</td>\n",
       "    </tr>\n",
       "    <tr>\n",
       "      <th>44</th>\n",
       "      <td>12</td>\n",
       "      <td>5</td>\n",
       "    </tr>\n",
       "    <tr>\n",
       "      <th>45</th>\n",
       "      <td>12</td>\n",
       "      <td>3</td>\n",
       "    </tr>\n",
       "    <tr>\n",
       "      <th>46</th>\n",
       "      <td>14</td>\n",
       "      <td>4</td>\n",
       "    </tr>\n",
       "    <tr>\n",
       "      <th>47</th>\n",
       "      <td>12</td>\n",
       "      <td>5</td>\n",
       "    </tr>\n",
       "    <tr>\n",
       "      <th>48</th>\n",
       "      <td>9</td>\n",
       "      <td>3</td>\n",
       "    </tr>\n",
       "    <tr>\n",
       "      <th>49</th>\n",
       "      <td>13</td>\n",
       "      <td>1</td>\n",
       "    </tr>\n",
       "    <tr>\n",
       "      <th>50</th>\n",
       "      <td>9</td>\n",
       "      <td>3</td>\n",
       "    </tr>\n",
       "    <tr>\n",
       "      <th>51</th>\n",
       "      <td>7</td>\n",
       "      <td>1</td>\n",
       "    </tr>\n",
       "    <tr>\n",
       "      <th>52</th>\n",
       "      <td>8</td>\n",
       "      <td>1</td>\n",
       "    </tr>\n",
       "    <tr>\n",
       "      <th>53</th>\n",
       "      <td>2</td>\n",
       "      <td>5</td>\n",
       "    </tr>\n",
       "    <tr>\n",
       "      <th>54</th>\n",
       "      <td>8</td>\n",
       "      <td>2</td>\n",
       "    </tr>\n",
       "    <tr>\n",
       "      <th>55</th>\n",
       "      <td>5</td>\n",
       "      <td>3</td>\n",
       "    </tr>\n",
       "    <tr>\n",
       "      <th>56</th>\n",
       "      <td>3</td>\n",
       "      <td>0</td>\n",
       "    </tr>\n",
       "    <tr>\n",
       "      <th>57</th>\n",
       "      <td>6</td>\n",
       "      <td>3</td>\n",
       "    </tr>\n",
       "    <tr>\n",
       "      <th>58</th>\n",
       "      <td>3</td>\n",
       "      <td>2</td>\n",
       "    </tr>\n",
       "    <tr>\n",
       "      <th>59</th>\n",
       "      <td>2</td>\n",
       "      <td>1</td>\n",
       "    </tr>\n",
       "    <tr>\n",
       "      <th>60</th>\n",
       "      <td>3</td>\n",
       "      <td>2</td>\n",
       "    </tr>\n",
       "    <tr>\n",
       "      <th>61</th>\n",
       "      <td>4</td>\n",
       "      <td>3</td>\n",
       "    </tr>\n",
       "    <tr>\n",
       "      <th>62</th>\n",
       "      <td>2</td>\n",
       "      <td>0</td>\n",
       "    </tr>\n",
       "    <tr>\n",
       "      <th>63</th>\n",
       "      <td>6</td>\n",
       "      <td>0</td>\n",
       "    </tr>\n",
       "    <tr>\n",
       "      <th>64</th>\n",
       "      <td>5</td>\n",
       "      <td>0</td>\n",
       "    </tr>\n",
       "  </tbody>\n",
       "</table>\n",
       "</div>"
      ],
      "text/plain": [
       "Risk   0   1\n",
       "Age         \n",
       "19     1   1\n",
       "20     9   5\n",
       "21     7   5\n",
       "22    16  11\n",
       "23    28  20\n",
       "24    25  17\n",
       "25    22  19\n",
       "26    36  14\n",
       "27    36  12\n",
       "28    28  15\n",
       "29    22  15\n",
       "30    29  11\n",
       "31    27  11\n",
       "32    25   9\n",
       "33    20  13\n",
       "34    37  17\n",
       "35    34   6\n",
       "36    33   5\n",
       "37    21   8\n",
       "38    20   4\n",
       "39    15   6\n",
       "40    19   6\n",
       "41    13   4\n",
       "42    13   7\n",
       "43    12   5\n",
       "44    12   5\n",
       "45    12   3\n",
       "46    14   4\n",
       "47    12   5\n",
       "48     9   3\n",
       "49    13   1\n",
       "50     9   3\n",
       "51     7   1\n",
       "52     8   1\n",
       "53     2   5\n",
       "54     8   2\n",
       "55     5   3\n",
       "56     3   0\n",
       "57     6   3\n",
       "58     3   2\n",
       "59     2   1\n",
       "60     3   2\n",
       "61     4   3\n",
       "62     2   0\n",
       "63     6   0\n",
       "64     5   0"
      ]
     },
     "metadata": {},
     "output_type": "display_data"
    },
    {
     "name": "stdout",
     "output_type": "stream",
     "text": [
      "p-value: 0.1890520732129706282798054\n",
      "\n"
     ]
    },
    {
     "data": {
      "text/html": [
       "<div>\n",
       "<style scoped>\n",
       "    .dataframe tbody tr th:only-of-type {\n",
       "        vertical-align: middle;\n",
       "    }\n",
       "\n",
       "    .dataframe tbody tr th {\n",
       "        vertical-align: top;\n",
       "    }\n",
       "\n",
       "    .dataframe thead th {\n",
       "        text-align: right;\n",
       "    }\n",
       "</style>\n",
       "<table border=\"1\" class=\"dataframe\">\n",
       "  <thead>\n",
       "    <tr style=\"text-align: right;\">\n",
       "      <th>Risk</th>\n",
       "      <th>0</th>\n",
       "      <th>1</th>\n",
       "    </tr>\n",
       "    <tr>\n",
       "      <th>Sex</th>\n",
       "      <th></th>\n",
       "      <th></th>\n",
       "    </tr>\n",
       "  </thead>\n",
       "  <tbody>\n",
       "    <tr>\n",
       "      <th>female</th>\n",
       "      <td>200</td>\n",
       "      <td>107</td>\n",
       "    </tr>\n",
       "    <tr>\n",
       "      <th>male</th>\n",
       "      <td>493</td>\n",
       "      <td>186</td>\n",
       "    </tr>\n",
       "  </tbody>\n",
       "</table>\n",
       "</div>"
      ],
      "text/plain": [
       "Risk      0    1\n",
       "Sex             \n",
       "female  200  107\n",
       "male    493  186"
      ]
     },
     "metadata": {},
     "output_type": "display_data"
    },
    {
     "name": "stdout",
     "output_type": "stream",
     "text": [
      "p-value: 0.0215463666592738585514599\n",
      "\n"
     ]
    },
    {
     "data": {
      "text/html": [
       "<div>\n",
       "<style scoped>\n",
       "    .dataframe tbody tr th:only-of-type {\n",
       "        vertical-align: middle;\n",
       "    }\n",
       "\n",
       "    .dataframe tbody tr th {\n",
       "        vertical-align: top;\n",
       "    }\n",
       "\n",
       "    .dataframe thead th {\n",
       "        text-align: right;\n",
       "    }\n",
       "</style>\n",
       "<table border=\"1\" class=\"dataframe\">\n",
       "  <thead>\n",
       "    <tr style=\"text-align: right;\">\n",
       "      <th>Risk</th>\n",
       "      <th>0</th>\n",
       "      <th>1</th>\n",
       "    </tr>\n",
       "    <tr>\n",
       "      <th>Housing</th>\n",
       "      <th></th>\n",
       "      <th></th>\n",
       "    </tr>\n",
       "  </thead>\n",
       "  <tbody>\n",
       "    <tr>\n",
       "      <th>free</th>\n",
       "      <td>61</td>\n",
       "      <td>42</td>\n",
       "    </tr>\n",
       "    <tr>\n",
       "      <th>own</th>\n",
       "      <td>523</td>\n",
       "      <td>182</td>\n",
       "    </tr>\n",
       "    <tr>\n",
       "      <th>rent</th>\n",
       "      <td>109</td>\n",
       "      <td>69</td>\n",
       "    </tr>\n",
       "  </tbody>\n",
       "</table>\n",
       "</div>"
      ],
      "text/plain": [
       "Risk       0    1\n",
       "Housing          \n",
       "free      61   42\n",
       "own      523  182\n",
       "rent     109   69"
      ]
     },
     "metadata": {},
     "output_type": "display_data"
    },
    {
     "name": "stdout",
     "output_type": "stream",
     "text": [
      "p-value: 0.0001147358995036771417940\n",
      "\n"
     ]
    },
    {
     "data": {
      "text/html": [
       "<div>\n",
       "<style scoped>\n",
       "    .dataframe tbody tr th:only-of-type {\n",
       "        vertical-align: middle;\n",
       "    }\n",
       "\n",
       "    .dataframe tbody tr th {\n",
       "        vertical-align: top;\n",
       "    }\n",
       "\n",
       "    .dataframe thead th {\n",
       "        text-align: right;\n",
       "    }\n",
       "</style>\n",
       "<table border=\"1\" class=\"dataframe\">\n",
       "  <thead>\n",
       "    <tr style=\"text-align: right;\">\n",
       "      <th>Risk</th>\n",
       "      <th>0</th>\n",
       "      <th>1</th>\n",
       "    </tr>\n",
       "    <tr>\n",
       "      <th>Saving_accounts</th>\n",
       "      <th></th>\n",
       "      <th></th>\n",
       "    </tr>\n",
       "  </thead>\n",
       "  <tbody>\n",
       "    <tr>\n",
       "      <th>little</th>\n",
       "      <td>531</td>\n",
       "      <td>245</td>\n",
       "    </tr>\n",
       "    <tr>\n",
       "      <th>moderate</th>\n",
       "      <td>68</td>\n",
       "      <td>31</td>\n",
       "    </tr>\n",
       "    <tr>\n",
       "      <th>quite rich</th>\n",
       "      <td>52</td>\n",
       "      <td>11</td>\n",
       "    </tr>\n",
       "    <tr>\n",
       "      <th>rich</th>\n",
       "      <td>42</td>\n",
       "      <td>6</td>\n",
       "    </tr>\n",
       "  </tbody>\n",
       "</table>\n",
       "</div>"
      ],
      "text/plain": [
       "Risk               0    1\n",
       "Saving_accounts          \n",
       "little           531  245\n",
       "moderate          68   31\n",
       "quite rich        52   11\n",
       "rich              42    6"
      ]
     },
     "metadata": {},
     "output_type": "display_data"
    },
    {
     "name": "stdout",
     "output_type": "stream",
     "text": [
      "p-value: 0.0052254318233701472357078\n",
      "\n"
     ]
    },
    {
     "data": {
      "text/html": [
       "<div>\n",
       "<style scoped>\n",
       "    .dataframe tbody tr th:only-of-type {\n",
       "        vertical-align: middle;\n",
       "    }\n",
       "\n",
       "    .dataframe tbody tr th {\n",
       "        vertical-align: top;\n",
       "    }\n",
       "\n",
       "    .dataframe thead th {\n",
       "        text-align: right;\n",
       "    }\n",
       "</style>\n",
       "<table border=\"1\" class=\"dataframe\">\n",
       "  <thead>\n",
       "    <tr style=\"text-align: right;\">\n",
       "      <th>Risk</th>\n",
       "      <th>0</th>\n",
       "      <th>1</th>\n",
       "    </tr>\n",
       "    <tr>\n",
       "      <th>Checking_account</th>\n",
       "      <th></th>\n",
       "      <th></th>\n",
       "    </tr>\n",
       "  </thead>\n",
       "  <tbody>\n",
       "    <tr>\n",
       "      <th>little</th>\n",
       "      <td>482</td>\n",
       "      <td>179</td>\n",
       "    </tr>\n",
       "    <tr>\n",
       "      <th>moderate</th>\n",
       "      <td>162</td>\n",
       "      <td>100</td>\n",
       "    </tr>\n",
       "    <tr>\n",
       "      <th>rich</th>\n",
       "      <td>49</td>\n",
       "      <td>14</td>\n",
       "    </tr>\n",
       "  </tbody>\n",
       "</table>\n",
       "</div>"
      ],
      "text/plain": [
       "Risk                0    1\n",
       "Checking_account          \n",
       "little            482  179\n",
       "moderate          162  100\n",
       "rich               49   14"
      ]
     },
     "metadata": {},
     "output_type": "display_data"
    },
    {
     "name": "stdout",
     "output_type": "stream",
     "text": [
      "p-value: 0.0016173409984241650556858\n",
      "\n"
     ]
    },
    {
     "data": {
      "text/html": [
       "<div>\n",
       "<style scoped>\n",
       "    .dataframe tbody tr th:only-of-type {\n",
       "        vertical-align: middle;\n",
       "    }\n",
       "\n",
       "    .dataframe tbody tr th {\n",
       "        vertical-align: top;\n",
       "    }\n",
       "\n",
       "    .dataframe thead th {\n",
       "        text-align: right;\n",
       "    }\n",
       "</style>\n",
       "<table border=\"1\" class=\"dataframe\">\n",
       "  <thead>\n",
       "    <tr style=\"text-align: right;\">\n",
       "      <th>Risk</th>\n",
       "      <th>0</th>\n",
       "      <th>1</th>\n",
       "    </tr>\n",
       "    <tr>\n",
       "      <th>Credit_amount</th>\n",
       "      <th></th>\n",
       "      <th></th>\n",
       "    </tr>\n",
       "  </thead>\n",
       "  <tbody>\n",
       "    <tr>\n",
       "      <th>250</th>\n",
       "      <td>1</td>\n",
       "      <td>0</td>\n",
       "    </tr>\n",
       "    <tr>\n",
       "      <th>276</th>\n",
       "      <td>1</td>\n",
       "      <td>0</td>\n",
       "    </tr>\n",
       "    <tr>\n",
       "      <th>338</th>\n",
       "      <td>1</td>\n",
       "      <td>0</td>\n",
       "    </tr>\n",
       "    <tr>\n",
       "      <th>339</th>\n",
       "      <td>1</td>\n",
       "      <td>0</td>\n",
       "    </tr>\n",
       "    <tr>\n",
       "      <th>343</th>\n",
       "      <td>1</td>\n",
       "      <td>0</td>\n",
       "    </tr>\n",
       "    <tr>\n",
       "      <th>...</th>\n",
       "      <td>...</td>\n",
       "      <td>...</td>\n",
       "    </tr>\n",
       "    <tr>\n",
       "      <th>7814</th>\n",
       "      <td>1</td>\n",
       "      <td>0</td>\n",
       "    </tr>\n",
       "    <tr>\n",
       "      <th>7824</th>\n",
       "      <td>1</td>\n",
       "      <td>0</td>\n",
       "    </tr>\n",
       "    <tr>\n",
       "      <th>7855</th>\n",
       "      <td>0</td>\n",
       "      <td>1</td>\n",
       "    </tr>\n",
       "    <tr>\n",
       "      <th>7865</th>\n",
       "      <td>0</td>\n",
       "      <td>1</td>\n",
       "    </tr>\n",
       "    <tr>\n",
       "      <th>7882</th>\n",
       "      <td>1</td>\n",
       "      <td>0</td>\n",
       "    </tr>\n",
       "  </tbody>\n",
       "</table>\n",
       "<p>843 rows × 2 columns</p>\n",
       "</div>"
      ],
      "text/plain": [
       "Risk           0  1\n",
       "Credit_amount      \n",
       "250            1  0\n",
       "276            1  0\n",
       "338            1  0\n",
       "339            1  0\n",
       "343            1  0\n",
       "...           .. ..\n",
       "7814           1  0\n",
       "7824           1  0\n",
       "7855           0  1\n",
       "7865           0  1\n",
       "7882           1  0\n",
       "\n",
       "[843 rows x 2 columns]"
      ]
     },
     "metadata": {},
     "output_type": "display_data"
    },
    {
     "name": "stdout",
     "output_type": "stream",
     "text": [
      "p-value: 0.5026690371164097559386619\n",
      "\n"
     ]
    },
    {
     "data": {
      "text/html": [
       "<div>\n",
       "<style scoped>\n",
       "    .dataframe tbody tr th:only-of-type {\n",
       "        vertical-align: middle;\n",
       "    }\n",
       "\n",
       "    .dataframe tbody tr th {\n",
       "        vertical-align: top;\n",
       "    }\n",
       "\n",
       "    .dataframe thead th {\n",
       "        text-align: right;\n",
       "    }\n",
       "</style>\n",
       "<table border=\"1\" class=\"dataframe\">\n",
       "  <thead>\n",
       "    <tr style=\"text-align: right;\">\n",
       "      <th>Risk</th>\n",
       "      <th>0</th>\n",
       "      <th>1</th>\n",
       "    </tr>\n",
       "    <tr>\n",
       "      <th>Purpose</th>\n",
       "      <th></th>\n",
       "      <th></th>\n",
       "    </tr>\n",
       "  </thead>\n",
       "  <tbody>\n",
       "    <tr>\n",
       "      <th>business</th>\n",
       "      <td>63</td>\n",
       "      <td>32</td>\n",
       "    </tr>\n",
       "    <tr>\n",
       "      <th>car</th>\n",
       "      <td>228</td>\n",
       "      <td>104</td>\n",
       "    </tr>\n",
       "    <tr>\n",
       "      <th>domestic appliances</th>\n",
       "      <td>8</td>\n",
       "      <td>4</td>\n",
       "    </tr>\n",
       "    <tr>\n",
       "      <th>education</th>\n",
       "      <td>36</td>\n",
       "      <td>22</td>\n",
       "    </tr>\n",
       "    <tr>\n",
       "      <th>furniture/equipment</th>\n",
       "      <td>123</td>\n",
       "      <td>58</td>\n",
       "    </tr>\n",
       "    <tr>\n",
       "      <th>radio/TV</th>\n",
       "      <td>214</td>\n",
       "      <td>61</td>\n",
       "    </tr>\n",
       "    <tr>\n",
       "      <th>repairs</th>\n",
       "      <td>14</td>\n",
       "      <td>8</td>\n",
       "    </tr>\n",
       "    <tr>\n",
       "      <th>vacation/others</th>\n",
       "      <td>7</td>\n",
       "      <td>4</td>\n",
       "    </tr>\n",
       "  </tbody>\n",
       "</table>\n",
       "</div>"
      ],
      "text/plain": [
       "Risk                   0    1\n",
       "Purpose                      \n",
       "business              63   32\n",
       "car                  228  104\n",
       "domestic appliances    8    4\n",
       "education             36   22\n",
       "furniture/equipment  123   58\n",
       "radio/TV             214   61\n",
       "repairs               14    8\n",
       "vacation/others        7    4"
      ]
     },
     "metadata": {},
     "output_type": "display_data"
    },
    {
     "name": "stdout",
     "output_type": "stream",
     "text": [
      "p-value: 0.1101752039037598163151443\n"
     ]
    }
   ],
   "source": [
    "for col in Xcategorical.columns:\n",
    "    table = pd.crosstab(Xcategorical[col], Ycategorical)\n",
    "    print()\n",
    "    display(table)\n",
    "    _, pval, _, expected_table = scipy.stats.chi2_contingency(table)\n",
    "    print(f\"p-value: {pval:.25f}\")"
   ]
  },
  {
   "cell_type": "code",
   "execution_count": 66,
   "id": "78bc7d6e",
   "metadata": {},
   "outputs": [
    {
     "data": {
      "text/html": [
       "<div>\n",
       "<style scoped>\n",
       "    .dataframe tbody tr th:only-of-type {\n",
       "        vertical-align: middle;\n",
       "    }\n",
       "\n",
       "    .dataframe tbody tr th {\n",
       "        vertical-align: top;\n",
       "    }\n",
       "\n",
       "    .dataframe thead th {\n",
       "        text-align: right;\n",
       "    }\n",
       "</style>\n",
       "<table border=\"1\" class=\"dataframe\">\n",
       "  <thead>\n",
       "    <tr style=\"text-align: right;\">\n",
       "      <th></th>\n",
       "      <th>Age</th>\n",
       "      <th>Sex</th>\n",
       "      <th>Job</th>\n",
       "      <th>Housing</th>\n",
       "      <th>Saving_accounts</th>\n",
       "      <th>Checking_account</th>\n",
       "      <th>Credit_amount</th>\n",
       "      <th>Duration</th>\n",
       "      <th>Purpose</th>\n",
       "      <th>Risk</th>\n",
       "    </tr>\n",
       "  </thead>\n",
       "  <tbody>\n",
       "    <tr>\n",
       "      <th>0</th>\n",
       "      <td>34</td>\n",
       "      <td>male</td>\n",
       "      <td>2</td>\n",
       "      <td>own</td>\n",
       "      <td>little</td>\n",
       "      <td>little</td>\n",
       "      <td>1169</td>\n",
       "      <td>6</td>\n",
       "      <td>radio/TV</td>\n",
       "      <td>0</td>\n",
       "    </tr>\n",
       "    <tr>\n",
       "      <th>1</th>\n",
       "      <td>22</td>\n",
       "      <td>female</td>\n",
       "      <td>2</td>\n",
       "      <td>own</td>\n",
       "      <td>little</td>\n",
       "      <td>moderate</td>\n",
       "      <td>5951</td>\n",
       "      <td>48</td>\n",
       "      <td>radio/TV</td>\n",
       "      <td>1</td>\n",
       "    </tr>\n",
       "    <tr>\n",
       "      <th>2</th>\n",
       "      <td>49</td>\n",
       "      <td>male</td>\n",
       "      <td>1</td>\n",
       "      <td>own</td>\n",
       "      <td>little</td>\n",
       "      <td>little</td>\n",
       "      <td>2096</td>\n",
       "      <td>12</td>\n",
       "      <td>education</td>\n",
       "      <td>0</td>\n",
       "    </tr>\n",
       "    <tr>\n",
       "      <th>3</th>\n",
       "      <td>45</td>\n",
       "      <td>male</td>\n",
       "      <td>2</td>\n",
       "      <td>free</td>\n",
       "      <td>little</td>\n",
       "      <td>little</td>\n",
       "      <td>7882</td>\n",
       "      <td>42</td>\n",
       "      <td>furniture/equipment</td>\n",
       "      <td>0</td>\n",
       "    </tr>\n",
       "    <tr>\n",
       "      <th>4</th>\n",
       "      <td>53</td>\n",
       "      <td>male</td>\n",
       "      <td>2</td>\n",
       "      <td>free</td>\n",
       "      <td>little</td>\n",
       "      <td>little</td>\n",
       "      <td>4870</td>\n",
       "      <td>24</td>\n",
       "      <td>car</td>\n",
       "      <td>1</td>\n",
       "    </tr>\n",
       "  </tbody>\n",
       "</table>\n",
       "</div>"
      ],
      "text/plain": [
       "   Age     Sex  Job Housing Saving_accounts Checking_account  Credit_amount  \\\n",
       "0   34    male    2     own          little           little           1169   \n",
       "1   22  female    2     own          little         moderate           5951   \n",
       "2   49    male    1     own          little           little           2096   \n",
       "3   45    male    2    free          little           little           7882   \n",
       "4   53    male    2    free          little           little           4870   \n",
       "\n",
       "   Duration              Purpose  Risk  \n",
       "0         6             radio/TV     0  \n",
       "1        48             radio/TV     1  \n",
       "2        12            education     0  \n",
       "3        42  furniture/equipment     0  \n",
       "4        24                  car     1  "
      ]
     },
     "execution_count": 66,
     "metadata": {},
     "output_type": "execute_result"
    }
   ],
   "source": [
    "data.head()"
   ]
  },
  {
   "cell_type": "markdown",
   "id": "df75e795",
   "metadata": {},
   "source": [
    "# Encoding"
   ]
  },
  {
   "cell_type": "code",
   "execution_count": 67,
   "id": "2a5d37f9",
   "metadata": {},
   "outputs": [],
   "source": [
    "data = pd.get_dummies(data, columns=[\"Sex\",\"Housing\",\"Saving_accounts\",\"Checking_account\"])"
   ]
  },
  {
   "cell_type": "code",
   "execution_count": 68,
   "id": "cae5992c",
   "metadata": {},
   "outputs": [],
   "source": [
    "bin_enc_purp = BinaryEncoder()\n",
    "data_bin = bin_enc_purp.fit_transform(data.Purpose)"
   ]
  },
  {
   "cell_type": "code",
   "execution_count": 69,
   "id": "d62e1998",
   "metadata": {},
   "outputs": [
    {
     "data": {
      "text/html": [
       "<div>\n",
       "<style scoped>\n",
       "    .dataframe tbody tr th:only-of-type {\n",
       "        vertical-align: middle;\n",
       "    }\n",
       "\n",
       "    .dataframe tbody tr th {\n",
       "        vertical-align: top;\n",
       "    }\n",
       "\n",
       "    .dataframe thead th {\n",
       "        text-align: right;\n",
       "    }\n",
       "</style>\n",
       "<table border=\"1\" class=\"dataframe\">\n",
       "  <thead>\n",
       "    <tr style=\"text-align: right;\">\n",
       "      <th></th>\n",
       "      <th>age</th>\n",
       "      <th>job</th>\n",
       "      <th>credit_amount</th>\n",
       "      <th>duration</th>\n",
       "      <th>risk</th>\n",
       "      <th>sex_female</th>\n",
       "      <th>sex_male</th>\n",
       "      <th>housing_free</th>\n",
       "      <th>housing_own</th>\n",
       "      <th>housing_rent</th>\n",
       "      <th>...</th>\n",
       "      <th>saving_accounts_moderate</th>\n",
       "      <th>saving_accounts_quite rich</th>\n",
       "      <th>saving_accounts_rich</th>\n",
       "      <th>checking_account_little</th>\n",
       "      <th>checking_account_moderate</th>\n",
       "      <th>checking_account_rich</th>\n",
       "      <th>purpose_0</th>\n",
       "      <th>purpose_1</th>\n",
       "      <th>purpose_2</th>\n",
       "      <th>purpose_3</th>\n",
       "    </tr>\n",
       "  </thead>\n",
       "  <tbody>\n",
       "    <tr>\n",
       "      <th>0</th>\n",
       "      <td>34</td>\n",
       "      <td>2</td>\n",
       "      <td>1169</td>\n",
       "      <td>6</td>\n",
       "      <td>0</td>\n",
       "      <td>0</td>\n",
       "      <td>1</td>\n",
       "      <td>0</td>\n",
       "      <td>1</td>\n",
       "      <td>0</td>\n",
       "      <td>...</td>\n",
       "      <td>0</td>\n",
       "      <td>0</td>\n",
       "      <td>0</td>\n",
       "      <td>1</td>\n",
       "      <td>0</td>\n",
       "      <td>0</td>\n",
       "      <td>0</td>\n",
       "      <td>0</td>\n",
       "      <td>0</td>\n",
       "      <td>1</td>\n",
       "    </tr>\n",
       "    <tr>\n",
       "      <th>1</th>\n",
       "      <td>22</td>\n",
       "      <td>2</td>\n",
       "      <td>5951</td>\n",
       "      <td>48</td>\n",
       "      <td>1</td>\n",
       "      <td>1</td>\n",
       "      <td>0</td>\n",
       "      <td>0</td>\n",
       "      <td>1</td>\n",
       "      <td>0</td>\n",
       "      <td>...</td>\n",
       "      <td>0</td>\n",
       "      <td>0</td>\n",
       "      <td>0</td>\n",
       "      <td>0</td>\n",
       "      <td>1</td>\n",
       "      <td>0</td>\n",
       "      <td>0</td>\n",
       "      <td>0</td>\n",
       "      <td>0</td>\n",
       "      <td>1</td>\n",
       "    </tr>\n",
       "    <tr>\n",
       "      <th>2</th>\n",
       "      <td>49</td>\n",
       "      <td>1</td>\n",
       "      <td>2096</td>\n",
       "      <td>12</td>\n",
       "      <td>0</td>\n",
       "      <td>0</td>\n",
       "      <td>1</td>\n",
       "      <td>0</td>\n",
       "      <td>1</td>\n",
       "      <td>0</td>\n",
       "      <td>...</td>\n",
       "      <td>0</td>\n",
       "      <td>0</td>\n",
       "      <td>0</td>\n",
       "      <td>1</td>\n",
       "      <td>0</td>\n",
       "      <td>0</td>\n",
       "      <td>0</td>\n",
       "      <td>0</td>\n",
       "      <td>1</td>\n",
       "      <td>0</td>\n",
       "    </tr>\n",
       "    <tr>\n",
       "      <th>3</th>\n",
       "      <td>45</td>\n",
       "      <td>2</td>\n",
       "      <td>7882</td>\n",
       "      <td>42</td>\n",
       "      <td>0</td>\n",
       "      <td>0</td>\n",
       "      <td>1</td>\n",
       "      <td>1</td>\n",
       "      <td>0</td>\n",
       "      <td>0</td>\n",
       "      <td>...</td>\n",
       "      <td>0</td>\n",
       "      <td>0</td>\n",
       "      <td>0</td>\n",
       "      <td>1</td>\n",
       "      <td>0</td>\n",
       "      <td>0</td>\n",
       "      <td>0</td>\n",
       "      <td>0</td>\n",
       "      <td>1</td>\n",
       "      <td>1</td>\n",
       "    </tr>\n",
       "    <tr>\n",
       "      <th>4</th>\n",
       "      <td>53</td>\n",
       "      <td>2</td>\n",
       "      <td>4870</td>\n",
       "      <td>24</td>\n",
       "      <td>1</td>\n",
       "      <td>0</td>\n",
       "      <td>1</td>\n",
       "      <td>1</td>\n",
       "      <td>0</td>\n",
       "      <td>0</td>\n",
       "      <td>...</td>\n",
       "      <td>0</td>\n",
       "      <td>0</td>\n",
       "      <td>0</td>\n",
       "      <td>1</td>\n",
       "      <td>0</td>\n",
       "      <td>0</td>\n",
       "      <td>0</td>\n",
       "      <td>1</td>\n",
       "      <td>0</td>\n",
       "      <td>0</td>\n",
       "    </tr>\n",
       "  </tbody>\n",
       "</table>\n",
       "<p>5 rows × 21 columns</p>\n",
       "</div>"
      ],
      "text/plain": [
       "   age  job  credit_amount  duration  risk  sex_female  sex_male  \\\n",
       "0   34    2           1169         6     0           0         1   \n",
       "1   22    2           5951        48     1           1         0   \n",
       "2   49    1           2096        12     0           0         1   \n",
       "3   45    2           7882        42     0           0         1   \n",
       "4   53    2           4870        24     1           0         1   \n",
       "\n",
       "   housing_free  housing_own  housing_rent  ...  saving_accounts_moderate  \\\n",
       "0             0            1             0  ...                         0   \n",
       "1             0            1             0  ...                         0   \n",
       "2             0            1             0  ...                         0   \n",
       "3             1            0             0  ...                         0   \n",
       "4             1            0             0  ...                         0   \n",
       "\n",
       "   saving_accounts_quite rich  saving_accounts_rich  checking_account_little  \\\n",
       "0                           0                     0                        1   \n",
       "1                           0                     0                        0   \n",
       "2                           0                     0                        1   \n",
       "3                           0                     0                        1   \n",
       "4                           0                     0                        1   \n",
       "\n",
       "   checking_account_moderate  checking_account_rich  purpose_0  purpose_1  \\\n",
       "0                          0                      0          0          0   \n",
       "1                          1                      0          0          0   \n",
       "2                          0                      0          0          0   \n",
       "3                          0                      0          0          0   \n",
       "4                          0                      0          0          1   \n",
       "\n",
       "   purpose_2  purpose_3  \n",
       "0          0          1  \n",
       "1          0          1  \n",
       "2          1          0  \n",
       "3          1          1  \n",
       "4          0          0  \n",
       "\n",
       "[5 rows x 21 columns]"
      ]
     },
     "execution_count": 69,
     "metadata": {},
     "output_type": "execute_result"
    }
   ],
   "source": [
    "df = pd.concat([data,data_bin],axis=1)\n",
    "df.drop([\"Purpose\"], axis=1, inplace=True)\n",
    "df.columns = [x.lower() for x in df.columns]\n",
    "df.head()"
   ]
  },
  {
   "cell_type": "code",
   "execution_count": 70,
   "id": "18c91d6c",
   "metadata": {},
   "outputs": [],
   "source": [
    "dfi.export(df.head(), 'veriseti2_son_head.png')"
   ]
  },
  {
   "cell_type": "markdown",
   "id": "aec8c481",
   "metadata": {},
   "source": [
    "# ML : Models"
   ]
  },
  {
   "cell_type": "markdown",
   "id": "ebb58d22",
   "metadata": {},
   "source": [
    " - Logistic Regression\n",
    " - KNN\n",
    " - SVM\n",
    " - Decision Tree\n",
    " - Random Forest\n",
    " - Neural Network"
   ]
  },
  {
   "cell_type": "code",
   "execution_count": 125,
   "id": "b2d67d52",
   "metadata": {},
   "outputs": [],
   "source": [
    "def auc_roc_plot(y_test, y_preds):\n",
    "    fpr, tpr, thresholds = roc_curve(y_test,y_preds)\n",
    "    \n",
    "    roc_auc = auc(fpr, tpr)   \n",
    "    \n",
    "    print(roc_auc)    \n",
    "    plt.title('Receiver Operating Characteristic')\n",
    "    plt.plot(fpr, tpr, 'b', label = 'AUC = %0.2f' % roc_auc)\n",
    "    plt.legend(loc = 'lower right')\n",
    "    plt.plot([0, 1], [0, 1],'r--')\n",
    "    plt.xlim([0, 1])\n",
    "    plt.ylim([0, 1])\n",
    "    plt.ylabel('True Positive Rate')\n",
    "    plt.xlabel('False Positive Rate')\n",
    "    plt.show()\n",
    "    return roc_auc;"
   ]
  },
  {
   "cell_type": "markdown",
   "id": "04835978",
   "metadata": {},
   "source": [
    "# LOGISTIC REGRESSION"
   ]
  },
  {
   "cell_type": "code",
   "execution_count": 128,
   "id": "68e57599",
   "metadata": {},
   "outputs": [
    {
     "name": "stdout",
     "output_type": "stream",
     "text": [
      "Wall time: 0 ns\n",
      "Wall time: 0 ns\n"
     ]
    }
   ],
   "source": [
    "# Making a copy of the dataset\n",
    "df_lr = df.copy()\n",
    "\n",
    "\n",
    "\n",
    "# Dividing the dataset in train (80%) and test (20%)\n",
    "train_set_lr, test_set_lr = train_test_split(df_lr, test_size = 0.2, random_state = seed)\n",
    "\n",
    "X_train_lr = train_set_lr.drop(['risk'], axis = 1)\n",
    "y_train_lr = train_set_lr['risk']\n",
    "\n",
    "X_test_lr = test_set_lr.drop(['risk'], axis = 1)\n",
    "y_test_lr = test_set_lr['risk']\n",
    "\n",
    "\n",
    "# Normalizing the train and test data\n",
    "\n",
    "scaler_lr = MinMaxScaler()\n",
    "features_names = X_train_lr.columns\n",
    "\n",
    "X_train_lr = scaler_lr.fit_transform(X_train_lr)\n",
    "X_train_lr = pd.DataFrame(X_train_lr, columns = features_names)\n",
    "\n",
    "X_test_lr = scaler_lr.transform(X_test_lr)\n",
    "X_test_lr = pd.DataFrame(X_test_lr, columns = features_names)\n",
    "\n",
    "%time\n",
    "lr = LogisticRegression(max_iter = 1000, solver = 'lbfgs', random_state = seed, class_weight = 'balanced' )\n",
    "parameters = {'C':[0.001, 0.01, 0.1, 1, 10, 100]} #Inverse of regularization strength\n",
    "clf_lr = GridSearchCV(lr, parameters, cv=5).fit(X_train_lr, y_train_lr)\n",
    "%time\n"
   ]
  },
  {
   "cell_type": "code",
   "execution_count": 129,
   "id": "dc24c3b8",
   "metadata": {},
   "outputs": [
    {
     "data": {
      "text/plain": [
       "GridSearchCV(cv=5,\n",
       "             estimator=LogisticRegression(class_weight='balanced',\n",
       "                                          max_iter=1000, random_state=42),\n",
       "             param_grid={'C': [0.001, 0.01, 0.1, 1, 10, 100]})"
      ]
     },
     "execution_count": 129,
     "metadata": {},
     "output_type": "execute_result"
    }
   ],
   "source": [
    "clf_lr"
   ]
  },
  {
   "cell_type": "code",
   "execution_count": 130,
   "id": "a29315ca",
   "metadata": {},
   "outputs": [
    {
     "data": {
      "text/plain": [
       "LogisticRegression(C=100, class_weight='balanced', max_iter=1000,\n",
       "                   random_state=42)"
      ]
     },
     "execution_count": 130,
     "metadata": {},
     "output_type": "execute_result"
    }
   ],
   "source": [
    "clf_lr.best_estimator_"
   ]
  },
  {
   "cell_type": "code",
   "execution_count": 131,
   "id": "571198dc",
   "metadata": {},
   "outputs": [],
   "source": [
    "y_preds_lr = clf_lr.predict_proba(X_test_lr)[:,1]"
   ]
  },
  {
   "cell_type": "code",
   "execution_count": 132,
   "id": "7f479f38",
   "metadata": {},
   "outputs": [
    {
     "name": "stdout",
     "output_type": "stream",
     "text": [
      "0.655026455026455\n"
     ]
    },
    {
     "data": {
      "image/png": "[encoded data removed]",
      "text/plain": [
       "<Figure size 432x288 with 1 Axes>"
      ]
     },
     "metadata": {
      "needs_background": "light"
     },
     "output_type": "display_data"
    }
   ],
   "source": [
    "aucroclr = auc_roc_plot(y_test_lr, y_preds_lr)"
   ]
  },
  {
   "cell_type": "code",
   "execution_count": 133,
   "id": "71b461be",
   "metadata": {},
   "outputs": [
    {
     "data": {
      "image/png": "[encoded data removed]",
      "text/plain": [
       "<Figure size 432x288 with 2 Axes>"
      ]
     },
     "metadata": {
      "needs_background": "light"
     },
     "output_type": "display_data"
    }
   ],
   "source": [
    "plot_confusion_matrix(clf_lr, X_test_lr, y_test_lr, values_format=\".4g\", cmap=\"Blues\");\n",
    "\n",
    "tn, fp, fn, tp = confusion_matrix(y_test_lr == 1, y_preds_lr > 0.5).ravel()\n",
    "\n",
    "tn_lr = tn\n",
    "fp_lr = fp\n",
    "fn_lr = fn\n",
    "tp_lr = tp"
   ]
  },
  {
   "cell_type": "markdown",
   "id": "0176ea3c",
   "metadata": {},
   "source": [
    "# KNN"
   ]
  },
  {
   "cell_type": "code",
   "execution_count": 134,
   "id": "27a84513",
   "metadata": {},
   "outputs": [
    {
     "name": "stdout",
     "output_type": "stream",
     "text": [
      "Wall time: 0 ns\n",
      "Accuracy for k =  2 is :  0.702020202020202\n",
      "Accuracy for k =  7 is :  0.6363636363636364\n",
      "Accuracy for k =  12 is :  0.6919191919191919\n",
      "Accuracy for k =  17 is :  0.6616161616161617\n",
      "Accuracy for k =  22 is :  0.6767676767676768\n",
      "Accuracy for k =  27 is :  0.6818181818181818\n",
      "Accuracy for k =  32 is :  0.6818181818181818\n",
      "Accuracy for k =  37 is :  0.6767676767676768\n",
      "Accuracy for k =  42 is :  0.6767676767676768\n",
      "Accuracy for k =  47 is :  0.6818181818181818\n",
      "Accuracy for k =  52 is :  0.6868686868686869\n",
      "Accuracy for k =  57 is :  0.6818181818181818\n",
      "Accuracy for k =  62 is :  0.6818181818181818\n",
      "Accuracy for k =  67 is :  0.6818181818181818\n",
      "Accuracy for k =  72 is :  0.6818181818181818\n",
      "Accuracy for k =  77 is :  0.6868686868686869\n",
      "Accuracy for k =  82 is :  0.6818181818181818\n",
      "Accuracy for k =  87 is :  0.6868686868686869\n",
      "Accuracy for k =  92 is :  0.6818181818181818\n",
      "Accuracy for k =  97 is :  0.6818181818181818\n",
      "Accuracy for k =  102 is :  0.6818181818181818\n",
      "Accuracy for k =  107 is :  0.6818181818181818\n",
      "Accuracy for k =  112 is :  0.6818181818181818\n",
      "Accuracy for k =  117 is :  0.6818181818181818\n",
      "Accuracy for k =  122 is :  0.6818181818181818\n",
      "Accuracy for k =  127 is :  0.6818181818181818\n",
      "Accuracy for k =  132 is :  0.6818181818181818\n",
      "Accuracy for k =  137 is :  0.6818181818181818\n",
      "Accuracy for k =  142 is :  0.6818181818181818\n",
      "Accuracy for k =  147 is :  0.6818181818181818\n",
      "Accuracy for k =  152 is :  0.6818181818181818\n",
      "Accuracy for k =  157 is :  0.6818181818181818\n",
      "Accuracy for k =  162 is :  0.6818181818181818\n",
      "Accuracy for k =  167 is :  0.6818181818181818\n",
      "Accuracy for k =  172 is :  0.6818181818181818\n",
      "Accuracy for k =  177 is :  0.6818181818181818\n",
      "Accuracy for k =  182 is :  0.6818181818181818\n",
      "Accuracy for k =  187 is :  0.6818181818181818\n",
      "Accuracy for k =  192 is :  0.6818181818181818\n",
      "Accuracy for k =  197 is :  0.6818181818181818\n"
     ]
    }
   ],
   "source": [
    "df_knn = df.copy()\n",
    "\n",
    "\n",
    "\n",
    "train_set_knn, test_set_knn = train_test_split(df_knn, test_size = 0.2, random_state = seed)\n",
    "\n",
    "X_train_knn = train_set_knn.drop(['risk'], axis = 1)\n",
    "y_train_knn = train_set_knn['risk']\n",
    "\n",
    "X_test_knn = test_set_knn.drop(['risk'], axis = 1)\n",
    "y_test_knn = test_set_knn['risk']\n",
    "\n",
    "\n",
    "\n",
    "scaler_knn = MinMaxScaler()\n",
    "features_names = X_train_knn.columns\n",
    "\n",
    "X_train_knn = scaler_knn.fit_transform(X_train_knn)\n",
    "X_train_knn = pd.DataFrame(X_train_knn, columns = features_names)\n",
    "\n",
    "X_test_knn = scaler_knn.transform(X_test_knn)\n",
    "X_test_knn = pd.DataFrame(X_test_knn, columns = features_names)\n",
    "\n",
    "%time\n",
    "max = 0\n",
    "best_k = 0\n",
    "for k in range(1, 200, 5):\n",
    "    k = k + 1\n",
    "    knn = KNeighborsClassifier(n_neighbors = k).fit(X_train_knn, y_train_knn)\n",
    "    acc = knn.score(X_test_knn, y_test_knn)\n",
    "    if(acc > max):\n",
    "        max = acc\n",
    "        best_k = k\n",
    "    print('Accuracy for k = ', k , 'is : ' , acc)"
   ]
  },
  {
   "cell_type": "code",
   "execution_count": 135,
   "id": "fa99f8f6",
   "metadata": {},
   "outputs": [
    {
     "name": "stdout",
     "output_type": "stream",
     "text": [
      "Wall time: 0 ns\n"
     ]
    }
   ],
   "source": [
    "%time\n",
    "knn = KNeighborsClassifier(n_neighbors = best_k, weights='uniform').fit(X_train_knn, y_train_knn)\n",
    "\n",
    "y_preds_knn = knn.predict(X_test_knn)"
   ]
  },
  {
   "cell_type": "code",
   "execution_count": 136,
   "id": "6e24c47a",
   "metadata": {},
   "outputs": [
    {
     "name": "stdout",
     "output_type": "stream",
     "text": [
      "0.5613756613756614\n"
     ]
    },
    {
     "data": {
      "image/png": "[encoded data removed]",
      "text/plain": [
       "<Figure size 432x288 with 1 Axes>"
      ]
     },
     "metadata": {
      "needs_background": "light"
     },
     "output_type": "display_data"
    }
   ],
   "source": [
    "aucrocknn = auc_roc_plot(y_test_knn, y_preds_knn)"
   ]
  },
  {
   "cell_type": "code",
   "execution_count": 137,
   "id": "f96d3387",
   "metadata": {},
   "outputs": [
    {
     "data": {
      "image/png": "[encoded data removed]",
      "text/plain": [
       "<Figure size 432x288 with 2 Axes>"
      ]
     },
     "metadata": {
      "needs_background": "light"
     },
     "output_type": "display_data"
    }
   ],
   "source": [
    "plot_confusion_matrix(knn, X_test_knn, y_test_knn, values_format=\".4g\", cmap=\"Blues\");\n",
    "\n",
    "tn, fp, fn, tp = confusion_matrix(y_test_knn == 1, y_preds_knn > 0.5).ravel()\n",
    "\n",
    "tn_knn = tn\n",
    "fp_knn = fp\n",
    "fn_knn = fn\n",
    "tp_knn = tp"
   ]
  },
  {
   "cell_type": "markdown",
   "id": "b98eb554",
   "metadata": {},
   "source": [
    "# support vector machine"
   ]
  },
  {
   "cell_type": "code",
   "execution_count": 138,
   "id": "f3a0a557",
   "metadata": {},
   "outputs": [
    {
     "name": "stdout",
     "output_type": "stream",
     "text": [
      "Wall time: 0 ns\n",
      "[LibSVM][LibSVM][LibSVM][LibSVM][LibSVM][LibSVM][LibSVM][LibSVM][LibSVM][LibSVM][LibSVM][LibSVM][LibSVM][LibSVM][LibSVM][LibSVM]"
     ]
    }
   ],
   "source": [
    "df_svm = df.copy()\n",
    "\n",
    "train_set_svc, test_set_svc = train_test_split(df_svm, test_size = 0.2, random_state = seed)\n",
    "\n",
    "X_train_svc = train_set_svc.drop(['risk'], axis = 1)\n",
    "y_train_svc = train_set_svc['risk']\n",
    "X_test_svc = test_set_svc.drop(['risk'], axis = 1)\n",
    "y_test_svc = test_set_svc['risk']\n",
    "\n",
    "scaler_svc = MinMaxScaler()\n",
    "features_names = X_train_svc.columns\n",
    "\n",
    "X_train_svc = scaler_svc.fit_transform(X_train_svc)\n",
    "X_train_svc = pd.DataFrame(X_train_svc, columns = features_names)\n",
    "\n",
    "X_test_svc = scaler_svc.transform(X_test_svc)\n",
    "X_test_svc = pd.DataFrame(X_test_svc, columns = features_names)\n",
    "\n",
    "%time\n",
    "svc = SVC(random_state=seed, class_weight='balanced',probability=True, verbose=True)\n",
    "\n",
    "parameters = {'C':[0.1, 1, 10]}\n",
    "clf_svc = GridSearchCV(svc, parameters, cv = 5).fit(X_train_svc, y_train_svc)"
   ]
  },
  {
   "cell_type": "code",
   "execution_count": 139,
   "id": "5c901bea",
   "metadata": {},
   "outputs": [
    {
     "data": {
      "text/plain": [
       "SVC(C=10, class_weight='balanced', probability=True, random_state=42,\n",
       "    verbose=True)"
      ]
     },
     "execution_count": 139,
     "metadata": {},
     "output_type": "execute_result"
    }
   ],
   "source": [
    "clf_svc.best_estimator_"
   ]
  },
  {
   "cell_type": "code",
   "execution_count": 140,
   "id": "6c355bb6",
   "metadata": {},
   "outputs": [],
   "source": [
    "y_preds_svc = clf_svc.predict_proba(X_test_svc)[:,1]"
   ]
  },
  {
   "cell_type": "code",
   "execution_count": 141,
   "id": "d92de8c4",
   "metadata": {},
   "outputs": [
    {
     "name": "stdout",
     "output_type": "stream",
     "text": [
      "0.533098177542622\n"
     ]
    },
    {
     "data": {
      "image/png": "[encoded data removed]",
      "text/plain": [
       "<Figure size 432x288 with 1 Axes>"
      ]
     },
     "metadata": {
      "needs_background": "light"
     },
     "output_type": "display_data"
    }
   ],
   "source": [
    "aucrocsvc = auc_roc_plot(y_test_svc, y_preds_svc)"
   ]
  },
  {
   "cell_type": "code",
   "execution_count": 142,
   "id": "6bddc07c",
   "metadata": {},
   "outputs": [
    {
     "data": {
      "image/png": "[encoded data removed]",
      "text/plain": [
       "<Figure size 432x288 with 2 Axes>"
      ]
     },
     "metadata": {
      "needs_background": "light"
     },
     "output_type": "display_data"
    }
   ],
   "source": [
    "# Confusion Matrix display\n",
    "plot_confusion_matrix(clf_svc, X_test_svc, y_test_svc, values_format=\".4g\", cmap=\"Blues\");\n",
    "                   \n",
    "tn, fp, fn, tp = confusion_matrix(y_test_svc == 1, y_preds_svc > 0.5).ravel()\n",
    "\n",
    "tn_svc = tn\n",
    "fp_svc = fp\n",
    "fn_svc = fn\n",
    "tp_svc = tp"
   ]
  },
  {
   "cell_type": "markdown",
   "id": "14ae2c9b",
   "metadata": {},
   "source": [
    "# DESICION TREE"
   ]
  },
  {
   "cell_type": "code",
   "execution_count": 143,
   "id": "1702377f",
   "metadata": {},
   "outputs": [
    {
     "name": "stdout",
     "output_type": "stream",
     "text": [
      "Wall time: 0 ns\n"
     ]
    },
    {
     "data": {
      "text/html": [
       "<div>\n",
       "<style scoped>\n",
       "    .dataframe tbody tr th:only-of-type {\n",
       "        vertical-align: middle;\n",
       "    }\n",
       "\n",
       "    .dataframe tbody tr th {\n",
       "        vertical-align: top;\n",
       "    }\n",
       "\n",
       "    .dataframe thead th {\n",
       "        text-align: right;\n",
       "    }\n",
       "</style>\n",
       "<table border=\"1\" class=\"dataframe\">\n",
       "  <thead>\n",
       "    <tr style=\"text-align: right;\">\n",
       "      <th></th>\n",
       "      <th>value</th>\n",
       "    </tr>\n",
       "  </thead>\n",
       "  <tbody>\n",
       "    <tr>\n",
       "      <th>credit_amount</th>\n",
       "      <td>0.269307</td>\n",
       "    </tr>\n",
       "    <tr>\n",
       "      <th>age</th>\n",
       "      <td>0.207052</td>\n",
       "    </tr>\n",
       "    <tr>\n",
       "      <th>duration</th>\n",
       "      <td>0.153108</td>\n",
       "    </tr>\n",
       "    <tr>\n",
       "      <th>job</th>\n",
       "      <td>0.048339</td>\n",
       "    </tr>\n",
       "    <tr>\n",
       "      <th>checking_account_little</th>\n",
       "      <td>0.047602</td>\n",
       "    </tr>\n",
       "    <tr>\n",
       "      <th>housing_own</th>\n",
       "      <td>0.034726</td>\n",
       "    </tr>\n",
       "    <tr>\n",
       "      <th>purpose_1</th>\n",
       "      <td>0.033926</td>\n",
       "    </tr>\n",
       "    <tr>\n",
       "      <th>sex_female</th>\n",
       "      <td>0.032591</td>\n",
       "    </tr>\n",
       "    <tr>\n",
       "      <th>saving_accounts_little</th>\n",
       "      <td>0.032524</td>\n",
       "    </tr>\n",
       "    <tr>\n",
       "      <th>purpose_2</th>\n",
       "      <td>0.026417</td>\n",
       "    </tr>\n",
       "    <tr>\n",
       "      <th>sex_male</th>\n",
       "      <td>0.022491</td>\n",
       "    </tr>\n",
       "    <tr>\n",
       "      <th>checking_account_moderate</th>\n",
       "      <td>0.018905</td>\n",
       "    </tr>\n",
       "    <tr>\n",
       "      <th>saving_accounts_moderate</th>\n",
       "      <td>0.015776</td>\n",
       "    </tr>\n",
       "    <tr>\n",
       "      <th>housing_rent</th>\n",
       "      <td>0.013885</td>\n",
       "    </tr>\n",
       "    <tr>\n",
       "      <th>saving_accounts_quite rich</th>\n",
       "      <td>0.013263</td>\n",
       "    </tr>\n",
       "    <tr>\n",
       "      <th>purpose_3</th>\n",
       "      <td>0.011911</td>\n",
       "    </tr>\n",
       "    <tr>\n",
       "      <th>housing_free</th>\n",
       "      <td>0.009261</td>\n",
       "    </tr>\n",
       "    <tr>\n",
       "      <th>purpose_0</th>\n",
       "      <td>0.008916</td>\n",
       "    </tr>\n",
       "    <tr>\n",
       "      <th>saving_accounts_rich</th>\n",
       "      <td>0.000000</td>\n",
       "    </tr>\n",
       "    <tr>\n",
       "      <th>checking_account_rich</th>\n",
       "      <td>0.000000</td>\n",
       "    </tr>\n",
       "  </tbody>\n",
       "</table>\n",
       "</div>"
      ],
      "text/plain": [
       "                               value\n",
       "credit_amount               0.269307\n",
       "age                         0.207052\n",
       "duration                    0.153108\n",
       "job                         0.048339\n",
       "checking_account_little     0.047602\n",
       "housing_own                 0.034726\n",
       "purpose_1                   0.033926\n",
       "sex_female                  0.032591\n",
       "saving_accounts_little      0.032524\n",
       "purpose_2                   0.026417\n",
       "sex_male                    0.022491\n",
       "checking_account_moderate   0.018905\n",
       "saving_accounts_moderate    0.015776\n",
       "housing_rent                0.013885\n",
       "saving_accounts_quite rich  0.013263\n",
       "purpose_3                   0.011911\n",
       "housing_free                0.009261\n",
       "purpose_0                   0.008916\n",
       "saving_accounts_rich        0.000000\n",
       "checking_account_rich       0.000000"
      ]
     },
     "execution_count": 143,
     "metadata": {},
     "output_type": "execute_result"
    }
   ],
   "source": [
    "df_trees = df.copy()\n",
    "\n",
    "train_set_dt, test_set_dt = train_test_split(df_trees, test_size = 0.2, random_state = seed)\n",
    "\n",
    "X_train_dt = train_set_dt.drop(['risk'], axis = 1)\n",
    "y_train_dt = train_set_dt['risk']\n",
    "\n",
    "X_test_dt = test_set_dt.drop(['risk'], axis = 1)\n",
    "y_test_dt = test_set_dt['risk']\n",
    "\n",
    "%time\n",
    "clf_tree = tree.DecisionTreeClassifier(random_state = seed, max_depth = 10).fit(X_train_dt, y_train_dt)\n",
    "\n",
    "important_features = pd.DataFrame(data = clf_tree.feature_importances_, index = X_train_dt.columns, columns = [\"value\"])\n",
    "important_features.sort_values(by = \"value\", ascending = False)"
   ]
  },
  {
   "cell_type": "code",
   "execution_count": 144,
   "id": "2e59116a",
   "metadata": {},
   "outputs": [],
   "source": [
    "y_preds_dt = clf_tree.predict_proba(X_test_dt)[:,1]"
   ]
  },
  {
   "cell_type": "code",
   "execution_count": 145,
   "id": "eaa65646",
   "metadata": {},
   "outputs": [
    {
     "name": "stdout",
     "output_type": "stream",
     "text": [
      "0.4663727219282775\n"
     ]
    },
    {
     "data": {
      "image/png": "[encoded data removed]",
      "text/plain": [
       "<Figure size 432x288 with 1 Axes>"
      ]
     },
     "metadata": {
      "needs_background": "light"
     },
     "output_type": "display_data"
    }
   ],
   "source": [
    "aucrocdt = auc_roc_plot(y_test_dt, y_preds_dt)"
   ]
  },
  {
   "cell_type": "code",
   "execution_count": 146,
   "id": "9eab459f",
   "metadata": {},
   "outputs": [
    {
     "data": {
      "image/png": "[encoded data removed]",
      "text/plain": [
       "<Figure size 432x288 with 2 Axes>"
      ]
     },
     "metadata": {
      "needs_background": "light"
     },
     "output_type": "display_data"
    }
   ],
   "source": [
    "# Confusion Matrix display\n",
    "plot_confusion_matrix(clf_tree, X_test_dt, y_test_dt, values_format=\".4g\", cmap=\"Blues\");\n",
    "                   \n",
    "tn, fp, fn, tp = confusion_matrix(y_test_dt == 1, y_preds_dt > 0.5).ravel()\n",
    "\n",
    "tn_dt = tn\n",
    "fp_dt = fp\n",
    "fn_dt = fn\n",
    "tp_dt= tp"
   ]
  },
  {
   "cell_type": "markdown",
   "id": "f5628784",
   "metadata": {},
   "source": [
    "# Random Forest"
   ]
  },
  {
   "cell_type": "code",
   "execution_count": 148,
   "id": "9f63e787",
   "metadata": {},
   "outputs": [
    {
     "name": "stdout",
     "output_type": "stream",
     "text": [
      "Wall time: 0 ns\n"
     ]
    }
   ],
   "source": [
    "df_rf = df.copy() \n",
    "\n",
    "\n",
    "train_set_rf, test_set_rf = train_test_split(df_rf, test_size = 0.2, random_state = seed)\n",
    "X_train_rf = train_set_rf.drop(['risk'], axis = 1)\n",
    "y_train_rf = train_set_rf['risk']\n",
    "X_test_rf = test_set_rf.drop(['risk'], axis = 1)\n",
    "y_test_rf = test_set_rf['risk']\n",
    "\n",
    "%time\n",
    "rf = RandomForestClassifier(random_state = seed, class_weight = None).fit(X_train_rf, y_train_rf)\n",
    "parameters = {'n_estimators':[10, 100, 300, 1000]} # The number of trees in the forest.\n",
    "clf_rf = GridSearchCV(rf, parameters, cv = 5).fit(X_train_rf, y_train_rf)"
   ]
  },
  {
   "cell_type": "code",
   "execution_count": 149,
   "id": "da0f004a",
   "metadata": {},
   "outputs": [
    {
     "data": {
      "text/plain": [
       "RandomForestClassifier(n_estimators=1000, random_state=42)"
      ]
     },
     "execution_count": 149,
     "metadata": {},
     "output_type": "execute_result"
    }
   ],
   "source": [
    "clf_rf.best_estimator_"
   ]
  },
  {
   "cell_type": "code",
   "execution_count": 150,
   "id": "e5359066",
   "metadata": {},
   "outputs": [],
   "source": [
    "y_preds_rf = clf_rf.predict_proba(X_test_rf)[:,1]"
   ]
  },
  {
   "cell_type": "code",
   "execution_count": 151,
   "id": "876861b7",
   "metadata": {},
   "outputs": [
    {
     "name": "stdout",
     "output_type": "stream",
     "text": [
      "0.5430335097001764\n"
     ]
    },
    {
     "data": {
      "image/png": "[encoded data removed]",
      "text/plain": [
       "<Figure size 432x288 with 1 Axes>"
      ]
     },
     "metadata": {
      "needs_background": "light"
     },
     "output_type": "display_data"
    }
   ],
   "source": [
    "aucrocrf = auc_roc_plot(y_test_rf, y_preds_rf)"
   ]
  },
  {
   "cell_type": "code",
   "execution_count": 152,
   "id": "c8ffb1cb",
   "metadata": {},
   "outputs": [
    {
     "data": {
      "image/png": "[encoded data removed]",
      "text/plain": [
       "<Figure size 432x288 with 2 Axes>"
      ]
     },
     "metadata": {
      "needs_background": "light"
     },
     "output_type": "display_data"
    }
   ],
   "source": [
    "\n",
    "plot_confusion_matrix(clf_rf, X_test_rf, y_test_rf, values_format=\".4g\", cmap=\"Blues\")\n",
    "\n",
    "tn, fp, fn, tp = confusion_matrix(y_test_rf == 1, y_preds_rf > 0.5).ravel()\n",
    "\n",
    "tn_rf = tn\n",
    "fp_rf = fp\n",
    "fn_rf = fn\n",
    "tp_rf = tp"
   ]
  },
  {
   "cell_type": "markdown",
   "id": "15cab2e4",
   "metadata": {},
   "source": [
    "# Neural Neworks (NN)"
   ]
  },
  {
   "cell_type": "code",
   "execution_count": 153,
   "id": "510caefb",
   "metadata": {},
   "outputs": [
    {
     "name": "stdout",
     "output_type": "stream",
     "text": [
      "Wall time: 0 ns\n"
     ]
    }
   ],
   "source": [
    "df_nn = df.copy()\n",
    "\n",
    "train_set_nn, test_set_nn = train_test_split(df_nn, test_size = 0.2, random_state = seed)\n",
    "\n",
    "X_train_nn = train_set_nn.drop(['risk'], axis = 1)\n",
    "y_train_nn = train_set_nn['risk']\n",
    "\n",
    "X_test_nn = test_set_nn.drop(['risk'], axis = 1)\n",
    "y_test_nn = test_set_nn['risk']\n",
    "\n",
    "scaler_nn = MinMaxScaler()\n",
    "features_names = X_train_nn.columns\n",
    "\n",
    "X_train_nn = scaler_nn.fit_transform(X_train_nn)\n",
    "X_train_nn = pd.DataFrame(X_train_nn, columns = features_names)\n",
    "\n",
    "X_test_nn = scaler_nn.transform(X_test_nn)\n",
    "X_test_nn = pd.DataFrame(X_test_nn, columns = features_names)\n",
    "\n",
    "%time\n",
    "mlp_nn = MLPClassifier(solver = 'adam', random_state = seed, max_iter = 1000 )\n",
    "#‘adam’ refers to a stochastic gradient-based optimizer proposed by Kingma\n",
    "parameters = {'hidden_layer_sizes': [(20,), (20,10), (20, 10, 2)],\n",
    "              'learning_rate_init':[0.0001, 0.001, 0.01, 0.1]}\n",
    "\n",
    "clf_nn = GridSearchCV(mlp_nn, parameters, cv = 5).fit(X_train_nn, y_train_nn)\n"
   ]
  },
  {
   "cell_type": "code",
   "execution_count": 154,
   "id": "edd815a3",
   "metadata": {},
   "outputs": [
    {
     "data": {
      "text/html": [
       "<div>\n",
       "<style scoped>\n",
       "    .dataframe tbody tr th:only-of-type {\n",
       "        vertical-align: middle;\n",
       "    }\n",
       "\n",
       "    .dataframe tbody tr th {\n",
       "        vertical-align: top;\n",
       "    }\n",
       "\n",
       "    .dataframe thead th {\n",
       "        text-align: right;\n",
       "    }\n",
       "</style>\n",
       "<table border=\"1\" class=\"dataframe\">\n",
       "  <thead>\n",
       "    <tr style=\"text-align: right;\">\n",
       "      <th></th>\n",
       "      <th>age</th>\n",
       "      <th>job</th>\n",
       "      <th>credit_amount</th>\n",
       "      <th>duration</th>\n",
       "      <th>sex_female</th>\n",
       "      <th>sex_male</th>\n",
       "      <th>housing_free</th>\n",
       "      <th>housing_own</th>\n",
       "      <th>housing_rent</th>\n",
       "      <th>saving_accounts_little</th>\n",
       "      <th>saving_accounts_moderate</th>\n",
       "      <th>saving_accounts_quite rich</th>\n",
       "      <th>saving_accounts_rich</th>\n",
       "      <th>checking_account_little</th>\n",
       "      <th>checking_account_moderate</th>\n",
       "      <th>checking_account_rich</th>\n",
       "      <th>purpose_0</th>\n",
       "      <th>purpose_1</th>\n",
       "      <th>purpose_2</th>\n",
       "      <th>purpose_3</th>\n",
       "    </tr>\n",
       "  </thead>\n",
       "  <tbody>\n",
       "    <tr>\n",
       "      <th>0</th>\n",
       "      <td>0.177778</td>\n",
       "      <td>0.666667</td>\n",
       "      <td>0.445755</td>\n",
       "      <td>0.34</td>\n",
       "      <td>0.0</td>\n",
       "      <td>1.0</td>\n",
       "      <td>0.0</td>\n",
       "      <td>1.0</td>\n",
       "      <td>0.0</td>\n",
       "      <td>1.0</td>\n",
       "      <td>0.0</td>\n",
       "      <td>0.0</td>\n",
       "      <td>0.0</td>\n",
       "      <td>0.0</td>\n",
       "      <td>1.0</td>\n",
       "      <td>0.0</td>\n",
       "      <td>0.0</td>\n",
       "      <td>1.0</td>\n",
       "      <td>0.0</td>\n",
       "      <td>1.0</td>\n",
       "    </tr>\n",
       "    <tr>\n",
       "      <th>1</th>\n",
       "      <td>0.355556</td>\n",
       "      <td>0.666667</td>\n",
       "      <td>0.410901</td>\n",
       "      <td>0.16</td>\n",
       "      <td>0.0</td>\n",
       "      <td>1.0</td>\n",
       "      <td>1.0</td>\n",
       "      <td>0.0</td>\n",
       "      <td>0.0</td>\n",
       "      <td>1.0</td>\n",
       "      <td>0.0</td>\n",
       "      <td>0.0</td>\n",
       "      <td>0.0</td>\n",
       "      <td>1.0</td>\n",
       "      <td>0.0</td>\n",
       "      <td>0.0</td>\n",
       "      <td>0.0</td>\n",
       "      <td>1.0</td>\n",
       "      <td>0.0</td>\n",
       "      <td>0.0</td>\n",
       "    </tr>\n",
       "    <tr>\n",
       "      <th>2</th>\n",
       "      <td>0.066667</td>\n",
       "      <td>0.666667</td>\n",
       "      <td>0.292584</td>\n",
       "      <td>0.40</td>\n",
       "      <td>0.0</td>\n",
       "      <td>1.0</td>\n",
       "      <td>0.0</td>\n",
       "      <td>1.0</td>\n",
       "      <td>0.0</td>\n",
       "      <td>0.0</td>\n",
       "      <td>0.0</td>\n",
       "      <td>1.0</td>\n",
       "      <td>0.0</td>\n",
       "      <td>1.0</td>\n",
       "      <td>0.0</td>\n",
       "      <td>0.0</td>\n",
       "      <td>0.0</td>\n",
       "      <td>0.0</td>\n",
       "      <td>1.0</td>\n",
       "      <td>1.0</td>\n",
       "    </tr>\n",
       "    <tr>\n",
       "      <th>3</th>\n",
       "      <td>0.222222</td>\n",
       "      <td>0.666667</td>\n",
       "      <td>0.311714</td>\n",
       "      <td>0.32</td>\n",
       "      <td>0.0</td>\n",
       "      <td>1.0</td>\n",
       "      <td>0.0</td>\n",
       "      <td>1.0</td>\n",
       "      <td>0.0</td>\n",
       "      <td>1.0</td>\n",
       "      <td>0.0</td>\n",
       "      <td>0.0</td>\n",
       "      <td>0.0</td>\n",
       "      <td>0.0</td>\n",
       "      <td>1.0</td>\n",
       "      <td>0.0</td>\n",
       "      <td>1.0</td>\n",
       "      <td>0.0</td>\n",
       "      <td>0.0</td>\n",
       "      <td>0.0</td>\n",
       "    </tr>\n",
       "    <tr>\n",
       "      <th>4</th>\n",
       "      <td>0.288889</td>\n",
       "      <td>0.666667</td>\n",
       "      <td>0.571410</td>\n",
       "      <td>0.04</td>\n",
       "      <td>1.0</td>\n",
       "      <td>0.0</td>\n",
       "      <td>0.0</td>\n",
       "      <td>1.0</td>\n",
       "      <td>0.0</td>\n",
       "      <td>1.0</td>\n",
       "      <td>0.0</td>\n",
       "      <td>0.0</td>\n",
       "      <td>0.0</td>\n",
       "      <td>1.0</td>\n",
       "      <td>0.0</td>\n",
       "      <td>0.0</td>\n",
       "      <td>0.0</td>\n",
       "      <td>0.0</td>\n",
       "      <td>1.0</td>\n",
       "      <td>1.0</td>\n",
       "    </tr>\n",
       "  </tbody>\n",
       "</table>\n",
       "</div>"
      ],
      "text/plain": [
       "        age       job  credit_amount  duration  sex_female  sex_male  \\\n",
       "0  0.177778  0.666667       0.445755      0.34         0.0       1.0   \n",
       "1  0.355556  0.666667       0.410901      0.16         0.0       1.0   \n",
       "2  0.066667  0.666667       0.292584      0.40         0.0       1.0   \n",
       "3  0.222222  0.666667       0.311714      0.32         0.0       1.0   \n",
       "4  0.288889  0.666667       0.571410      0.04         1.0       0.0   \n",
       "\n",
       "   housing_free  housing_own  housing_rent  saving_accounts_little  \\\n",
       "0           0.0          1.0           0.0                     1.0   \n",
       "1           1.0          0.0           0.0                     1.0   \n",
       "2           0.0          1.0           0.0                     0.0   \n",
       "3           0.0          1.0           0.0                     1.0   \n",
       "4           0.0          1.0           0.0                     1.0   \n",
       "\n",
       "   saving_accounts_moderate  saving_accounts_quite rich  saving_accounts_rich  \\\n",
       "0                       0.0                         0.0                   0.0   \n",
       "1                       0.0                         0.0                   0.0   \n",
       "2                       0.0                         1.0                   0.0   \n",
       "3                       0.0                         0.0                   0.0   \n",
       "4                       0.0                         0.0                   0.0   \n",
       "\n",
       "   checking_account_little  checking_account_moderate  checking_account_rich  \\\n",
       "0                      0.0                        1.0                    0.0   \n",
       "1                      1.0                        0.0                    0.0   \n",
       "2                      1.0                        0.0                    0.0   \n",
       "3                      0.0                        1.0                    0.0   \n",
       "4                      1.0                        0.0                    0.0   \n",
       "\n",
       "   purpose_0  purpose_1  purpose_2  purpose_3  \n",
       "0        0.0        1.0        0.0        1.0  \n",
       "1        0.0        1.0        0.0        0.0  \n",
       "2        0.0        0.0        1.0        1.0  \n",
       "3        1.0        0.0        0.0        0.0  \n",
       "4        0.0        0.0        1.0        1.0  "
      ]
     },
     "execution_count": 154,
     "metadata": {},
     "output_type": "execute_result"
    }
   ],
   "source": [
    "X_test_nn.head()"
   ]
  },
  {
   "cell_type": "code",
   "execution_count": 155,
   "id": "e0d9880d",
   "metadata": {},
   "outputs": [
    {
     "data": {
      "text/plain": [
       "MLPClassifier(hidden_layer_sizes=(20, 10, 2), learning_rate_init=0.0001,\n",
       "              max_iter=1000, random_state=42)"
      ]
     },
     "execution_count": 155,
     "metadata": {},
     "output_type": "execute_result"
    }
   ],
   "source": [
    "clf_nn.best_estimator_"
   ]
  },
  {
   "cell_type": "code",
   "execution_count": 156,
   "id": "28f8bd55",
   "metadata": {},
   "outputs": [],
   "source": [
    "y_preds_nn = clf_nn.predict_proba(X_test_nn)[:,1]"
   ]
  },
  {
   "cell_type": "code",
   "execution_count": 157,
   "id": "fca119dd",
   "metadata": {},
   "outputs": [
    {
     "data": {
      "text/plain": [
       "array([0.44624492, 0.44624492, 0.44624492, 0.44624492, 0.44624492,\n",
       "       0.44624492, 0.45699304, 0.44624492, 0.44624492, 0.44624492,\n",
       "       0.44624492, 0.44624492, 0.44624492, 0.44624492, 0.44624492,\n",
       "       0.47859535, 0.44624492, 0.44624492, 0.44624492, 0.44624492,\n",
       "       0.44624492, 0.44990031, 0.44624492, 0.44624492, 0.44624492,\n",
       "       0.44624492, 0.44624492, 0.44624492, 0.44624492, 0.44624492,\n",
       "       0.44624492, 0.44624492, 0.44624492, 0.44624492, 0.44624492,\n",
       "       0.44624492, 0.44624492, 0.46493873, 0.44624492, 0.4490848 ,\n",
       "       0.44624492, 0.44624492, 0.51744633, 0.46333599, 0.44624492,\n",
       "       0.44624492, 0.44624492, 0.44624492, 0.44624492, 0.44624492,\n",
       "       0.44624492, 0.44932881, 0.44624492, 0.44624492, 0.44624492,\n",
       "       0.44624492, 0.44624492, 0.44624492, 0.44624492, 0.44624492,\n",
       "       0.44624492, 0.44624492, 0.44624492, 0.44624492, 0.44624492,\n",
       "       0.44624492, 0.44624492, 0.44624492, 0.44624492, 0.44624492,\n",
       "       0.44624492, 0.44624492, 0.44624492, 0.44624492, 0.44624492,\n",
       "       0.44624492, 0.44624492, 0.44624492, 0.44624492, 0.44624492,\n",
       "       0.44624492, 0.44624492, 0.44624492, 0.44624492, 0.44624492,\n",
       "       0.44624492, 0.44624492, 0.44624492, 0.44867025, 0.44624492,\n",
       "       0.44624492, 0.44905322, 0.44624492, 0.46314485, 0.44624492,\n",
       "       0.44624492, 0.44624492, 0.44624492, 0.44624492, 0.44624492,\n",
       "       0.44624492, 0.45792002, 0.44624492, 0.44624492, 0.44624492,\n",
       "       0.44624492, 0.45459548, 0.44624492, 0.44624492, 0.44624492,\n",
       "       0.44624492, 0.44624492, 0.44624492, 0.44624492, 0.44624492,\n",
       "       0.44624492, 0.44624492, 0.44624492, 0.44624492, 0.44624492,\n",
       "       0.44624492, 0.44624492, 0.44624492, 0.44624492, 0.44624492,\n",
       "       0.44624492, 0.44624492, 0.44624492, 0.44624492, 0.44624492,\n",
       "       0.44624492, 0.44624492, 0.44624492, 0.44624492, 0.44624492,\n",
       "       0.44624492, 0.44624492, 0.44624492, 0.44624492, 0.4554837 ,\n",
       "       0.44624492, 0.44624492, 0.45709371, 0.44624492, 0.44624492,\n",
       "       0.44624492, 0.44624492, 0.44624492, 0.46008938, 0.44624492,\n",
       "       0.44624492, 0.44624492, 0.44624492, 0.44624492, 0.47878176,\n",
       "       0.44624492, 0.44624492, 0.44624492, 0.44624492, 0.44624492,\n",
       "       0.44624492, 0.44624492, 0.44624492, 0.44624492, 0.44624492,\n",
       "       0.44624492, 0.44624492, 0.44728747, 0.44624492, 0.44624492,\n",
       "       0.44624492, 0.44624492, 0.44624492, 0.44624492, 0.45704869,\n",
       "       0.44624492, 0.44624492, 0.44624492, 0.44624492, 0.44804103,\n",
       "       0.44624492, 0.44624492, 0.44624492, 0.44624492, 0.44624492,\n",
       "       0.44624492, 0.44624492, 0.44624492, 0.44624492, 0.44624492,\n",
       "       0.44624492, 0.44624492, 0.44624492, 0.44624492, 0.44624492,\n",
       "       0.44624492, 0.44624492, 0.44624492])"
      ]
     },
     "execution_count": 157,
     "metadata": {},
     "output_type": "execute_result"
    }
   ],
   "source": [
    "y_preds_nn"
   ]
  },
  {
   "cell_type": "code",
   "execution_count": 158,
   "id": "fc2d1ea2",
   "metadata": {},
   "outputs": [
    {
     "data": {
      "image/png": "[encoded data removed]",
      "text/plain": [
       "<Figure size 432x288 with 2 Axes>"
      ]
     },
     "metadata": {
      "needs_background": "light"
     },
     "output_type": "display_data"
    }
   ],
   "source": [
    "\n",
    "plot_confusion_matrix(clf_nn, X_test_nn, y_test_nn, values_format=\".4g\", cmap=\"Blues\")\n",
    "\n",
    "tn, fp, fn, tp = confusion_matrix(y_test_nn == 1, y_preds_nn > 0.5).ravel()\n",
    "\n",
    "tn_nn = tn\n",
    "fp_nn = fp\n",
    "fn_nn = fn\n",
    "tp_nn = tp"
   ]
  },
  {
   "cell_type": "code",
   "execution_count": 159,
   "id": "62206575",
   "metadata": {},
   "outputs": [
    {
     "name": "stdout",
     "output_type": "stream",
     "text": [
      "0.5073486184597296\n"
     ]
    },
    {
     "data": {
      "image/png": "[encoded data removed]",
      "text/plain": [
       "<Figure size 432x288 with 1 Axes>"
      ]
     },
     "metadata": {
      "needs_background": "light"
     },
     "output_type": "display_data"
    }
   ],
   "source": [
    "aucrocnn = auc_roc_plot(y_test_nn, y_preds_nn)"
   ]
  },
  {
   "cell_type": "code",
   "execution_count": 164,
   "id": "5a946987",
   "metadata": {},
   "outputs": [],
   "source": [
    "test_size = X_test_nn.shape[0]"
   ]
  },
  {
   "cell_type": "code",
   "execution_count": 165,
   "id": "81d11f6e",
   "metadata": {},
   "outputs": [
    {
     "data": {
      "text/html": [
       "<div>\n",
       "<style scoped>\n",
       "    .dataframe tbody tr th:only-of-type {\n",
       "        vertical-align: middle;\n",
       "    }\n",
       "\n",
       "    .dataframe tbody tr th {\n",
       "        vertical-align: top;\n",
       "    }\n",
       "\n",
       "    .dataframe thead th {\n",
       "        text-align: right;\n",
       "    }\n",
       "</style>\n",
       "<table border=\"1\" class=\"dataframe\">\n",
       "  <thead>\n",
       "    <tr style=\"text-align: right;\">\n",
       "      <th>Classifier</th>\n",
       "      <th>AUC ROC (%)</th>\n",
       "      <th>TN (%)</th>\n",
       "      <th>FP (%)</th>\n",
       "      <th>FN (%)</th>\n",
       "      <th>TP (%)</th>\n",
       "    </tr>\n",
       "  </thead>\n",
       "  <tbody>\n",
       "    <tr>\n",
       "      <th>Logistic Regression (LR)</th>\n",
       "      <td>65.502646</td>\n",
       "      <td>47.98</td>\n",
       "      <td>20.20</td>\n",
       "      <td>15.15</td>\n",
       "      <td>16.67</td>\n",
       "    </tr>\n",
       "    <tr>\n",
       "      <th>K Nearest Neighbour (KNN)</th>\n",
       "      <td>56.137566</td>\n",
       "      <td>64.65</td>\n",
       "      <td>3.54</td>\n",
       "      <td>26.26</td>\n",
       "      <td>0.51</td>\n",
       "    </tr>\n",
       "    <tr>\n",
       "      <th>Support Vector Machine (SVC)</th>\n",
       "      <td>53.309818</td>\n",
       "      <td>67.17</td>\n",
       "      <td>1.01</td>\n",
       "      <td>31.31</td>\n",
       "      <td>0.51</td>\n",
       "    </tr>\n",
       "    <tr>\n",
       "      <th>Decision Trees (DT)</th>\n",
       "      <td>46.637272</td>\n",
       "      <td>55.05</td>\n",
       "      <td>13.13</td>\n",
       "      <td>27.27</td>\n",
       "      <td>4.55</td>\n",
       "    </tr>\n",
       "    <tr>\n",
       "      <th>Random Forest (RF)</th>\n",
       "      <td>54.303351</td>\n",
       "      <td>63.64</td>\n",
       "      <td>4.55</td>\n",
       "      <td>27.78</td>\n",
       "      <td>4.04</td>\n",
       "    </tr>\n",
       "    <tr>\n",
       "      <th>Neural Networks (NN)</th>\n",
       "      <td>50.734862</td>\n",
       "      <td>68.18</td>\n",
       "      <td>0.00</td>\n",
       "      <td>31.31</td>\n",
       "      <td>0.51</td>\n",
       "    </tr>\n",
       "  </tbody>\n",
       "</table>\n",
       "</div>"
      ],
      "text/plain": [
       "Classifier                    AUC ROC (%)  TN (%)  FP (%)  FN (%)  TP (%)\n",
       "Logistic Regression (LR)        65.502646   47.98   20.20   15.15   16.67\n",
       "K Nearest Neighbour (KNN)       56.137566   64.65    3.54   26.26    0.51\n",
       "Support Vector Machine (SVC)    53.309818   67.17    1.01   31.31    0.51\n",
       "Decision Trees (DT)             46.637272   55.05   13.13   27.27    4.55\n",
       "Random Forest (RF)              54.303351   63.64    4.55   27.78    4.04\n",
       "Neural Networks (NN)            50.734862   68.18    0.00   31.31    0.51"
      ]
     },
     "execution_count": 165,
     "metadata": {},
     "output_type": "execute_result"
    }
   ],
   "source": [
    "# Creating performance table\n",
    "results_1 = {'Classifier': ['AUC ROC (%)','TN (%)','FP (%)','FN (%)','TP (%)'],\n",
    "             'Logistic Regression (LR)': [aucroclr*100, (tn_lr/test_size*100).round(2), (fp_lr/test_size*100).round(2), (fn_lr/test_size*100).round(2), (tp_lr/test_size*100).round(2)],\n",
    "             'K Nearest Neighbour (KNN)': [aucrocknn*100, (tn_knn/test_size*100).round(2),(fp_knn/test_size*100).round(2), (fn_knn/test_size*100).round(2),(tp_nn/test_size*100).round(2)],\n",
    "             'Support Vector Machine (SVC)': [aucrocsvc*100, (tn_svc/test_size*100).round(2),(fp_svc/test_size*100).round(2), (fn_svc/test_size*100).round(2),(tp_svc/test_size*100).round(2)],\n",
    "             'Decision Trees (DT)': [aucrocdt*100, (tn_dt/test_size*100).round(2), (fp_dt/test_size*100).round(2), (fn_dt/test_size*100).round(2),(tp_dt/test_size*100).round(2)],\n",
    "             'Random Forest (RF)': [aucrocrf*100, (tn_rf/test_size*100).round(2), (fp_rf/test_size*100).round(2), (fn_rf/test_size*100).round(2),(tp_rf/test_size*100).round(2)],\n",
    "             'Neural Networks (NN)': [aucrocnn*100, (tn_nn/test_size*100).round(2), (fp_nn/test_size*100).round(2),(fn_nn/test_size*100).round(2),(tp_nn/test_size*100).round(2)]}\n",
    "\n",
    "df1 = pd.DataFrame(results_1, columns = ['Classifier', 'Logistic Regression (LR)', 'K Nearest Neighbour (KNN)', 'Support Vector Machine (SVC)', 'Decision Trees (DT)', 'Random Forest (RF)', 'Neural Networks (NN)'])\n",
    "\n",
    "df1.set_index(\"Classifier\", inplace=True)\n",
    "\n",
    "results = df1.T\n",
    "results"
   ]
  },
  {
   "cell_type": "code",
   "execution_count": 166,
   "id": "fd451444",
   "metadata": {},
   "outputs": [
    {
     "data": {
      "image/png": "[encoded data removed]",
      "text/plain": [
       "<Figure size 864x576 with 1 Axes>"
      ]
     },
     "metadata": {
      "needs_background": "light"
     },
     "output_type": "display_data"
    }
   ],
   "source": [
    "\n",
    "results_2 = {'Classifier': ['ROC AUC'], 'Logistic Regression (LR)': [aucroclr*100], \n",
    "             'K Nearest Neighbour (KNN)': [aucrocknn*100], \n",
    "             'Support Vector Machine (SVC)': [aucrocsvc*100], \n",
    "             'Decision Trees (DT)': [aucrocdt*100], \n",
    "             'Random Forest (RF)': [aucrocrf*100], \n",
    "             'Neural Networks (NN)': [aucrocnn*100]}\n",
    "df2 = pd.DataFrame(results_2, columns = ['Classifier', 'Logistic Regression (LR)',\n",
    "                                         'K Nearest Neighbour (KNN)', 'Support Vector Machine (SVC)',\n",
    "                                         'Decision Trees (DT)', 'Random Forest (RF)', 'Neural Networks (NN)'])\n",
    "df2.set_index(\"Classifier\", inplace=True)\n",
    "results_2 = df2\n",
    "\n",
    "\n",
    "ax = results_2.plot(kind=\"bar\", title=(\"Evaluating models' performance\"), \n",
    "                    figsize=(12,8) ,fontsize=10, grid=True)\n",
    "for p in ax.patches:\n",
    "    ax.annotate(\"%2.2f\" % p.get_height(), (p.get_x() + p.get_width() /\n",
    "                                          2., p.get_height()), ha='center', va='center', xytext=(0, 5), \n",
    "                                          textcoords='offset points')\n",
    "\n",
    "plt.legend(fontsize=8.5, loc=\"upper right\")\n",
    "plt.xlabel('')\n",
    "plt.xticks(rotation='horizontal')\n",
    "plt.ylabel('Relative frequency (%)')\n",
    "plt.show()"
   ]
  },
  {
   "cell_type": "code",
   "execution_count": null,
   "id": "81f82c80",
   "metadata": {},
   "outputs": [],
   "source": []
  }
 ],
 "metadata": {
  "kernelspec": {
   "display_name": "Python 3",
   "language": "python",
   "name": "python3"
  },
  "language_info": {
   "codemirror_mode": {
    "name": "ipython",
    "version": 3
   },
   "file_extension": ".py",
   "mimetype": "text/x-python",
   "name": "python",
   "nbconvert_exporter": "python",
   "pygments_lexer": "ipython3",
   "version": "3.8.8"
  }
 },
 "nbformat": 4,
 "nbformat_minor": 5
}
